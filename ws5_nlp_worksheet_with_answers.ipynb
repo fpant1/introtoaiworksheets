{
  "cells": [
    {
      "cell_type": "markdown",
      "metadata": {
        "id": "view-in-github",
        "colab_type": "text"
      },
      "source": [
        "<a href=\"https://colab.research.google.com/github/fpant1/introtoaiworksheets/blob/main/ws5_nlp_worksheet_with_answers.ipynb\" target=\"_parent\"><img src=\"https://colab.research.google.com/assets/colab-badge.svg\" alt=\"Open In Colab\"/></a>"
      ]
    },
    {
      "cell_type": "markdown",
      "metadata": {
        "id": "f3fe6747-a804-4698-9640-0f4e5e3a2330"
      },
      "source": [
        "# Natural Language Processing Worksheet"
      ],
      "id": "f3fe6747-a804-4698-9640-0f4e5e3a2330"
    },
    {
      "cell_type": "markdown",
      "metadata": {
        "id": "2943de4e-784b-45c0-beac-5047aa925891"
      },
      "source": [
        "In this worksheet we will be implementing the representations that we saw in the lecture, as well as applying these representations to solve a concrete classification problem.\n",
        "\n",
        "Here is an overview of the sections that we will go through:\n",
        "1. [Loading the `emotion` dataset](#section1)\n",
        "2. [Bag-of-words representation](#section2)\n",
        "3. [TF-IDF representation](#section3)\n",
        "4. [Word2vec representation](#section4)\n",
        "5. [FastText representation](#section5)\n",
        "6. [Transformer representation](#section6)\n",
        "\n",
        "*Disclaimer*: There is a decent amount of content in this worksheet, so if you are short on time then feel free to skip sections. As long as you load the data by going through the first section, all the other sections are independent of one another. Have fun 😊\n",
        "\n",
        "We start by installing and importing all the packages we need:"
      ],
      "id": "2943de4e-784b-45c0-beac-5047aa925891"
    },
    {
      "cell_type": "code",
      "execution_count": null,
      "metadata": {
        "colab": {
          "base_uri": "https://localhost:8080/"
        },
        "id": "eunB8pX2ca4r",
        "outputId": "7e20f6c8-e71d-445e-ee1f-e8b694738a53"
      },
      "outputs": [
        {
          "name": "stdout",
          "output_type": "stream",
          "text": [
            "\u001b[K     |████████████████████████████████| 182 kB 34.4 MB/s \n",
            "\u001b[K     |████████████████████████████████| 451 kB 54.5 MB/s \n",
            "\u001b[K     |████████████████████████████████| 68 kB 6.6 MB/s \n",
            "\u001b[K     |████████████████████████████████| 3.1 MB 15.5 MB/s \n",
            "\u001b[K     |████████████████████████████████| 3.3 MB 45.9 MB/s \n",
            "\u001b[K     |████████████████████████████████| 880 kB 59.7 MB/s \n",
            "\u001b[K     |████████████████████████████████| 212 kB 48.4 MB/s \n",
            "\u001b[K     |████████████████████████████████| 115 kB 35.8 MB/s \n",
            "\u001b[K     |████████████████████████████████| 127 kB 59.4 MB/s \n",
            "\u001b[?25h  Building wheel for fasttext (setup.py) ... \u001b[?25l\u001b[?25hdone\n",
            "  Building wheel for wget (setup.py) ... \u001b[?25l\u001b[?25hdone\n",
            "  Building wheel for sacremoses (setup.py) ... \u001b[?25l\u001b[?25hdone\n"
          ]
        }
      ],
      "source": [
        "# Let us ensure that we have the packages we need\n",
        "!pip install --quiet huggingface_hub datasets wget fasttext==0.9.2 transformers==4.12.3 "
      ],
      "id": "eunB8pX2ca4r"
    },
    {
      "cell_type": "code",
      "execution_count": null,
      "metadata": {
        "id": "46c76bf8-b83d-4005-9882-008286da8ab6"
      },
      "outputs": [],
      "source": [
        "# This will import all the modules that we will need in\n",
        "# this worksheet.\n",
        "from datasets import load_dataset, Dataset, load_metric\n",
        "from pathlib import Path\n",
        "import pandas as pd\n",
        "import numpy as np\n",
        "import matplotlib.pyplot as plt\n",
        "from typing import List, Callable, Dict\n",
        "import re\n",
        "from sklearn.linear_model import LogisticRegression\n",
        "from sklearn.metrics import balanced_accuracy_score\n",
        "from sklearn.feature_extraction.text import TfidfVectorizer\n",
        "from gensim.models.word2vec import Word2Vec\n",
        "from tqdm.auto import tqdm\n",
        "import wget\n",
        "import zipfile\n",
        "import io\n",
        "import time\n",
        "import torch\n",
        "import gc\n",
        "import traceback\n",
        "import fasttext.util\n",
        "from ipywidgets import widgets\n",
        "from transformers import (AutoConfig, AutoTokenizer, AutoModel, \n",
        "                          AutoModelForSequenceClassification,\n",
        "                          TrainingArguments, Trainer,\n",
        "                          DataCollatorWithPadding,\n",
        "                          EarlyStoppingCallback)\n",
        "from transformers import logging as tf_logging\n",
        "tf_logging.set_verbosity_error()\n",
        "tqdm.pandas()\n",
        "plt.style.use('ggplot')"
      ],
      "id": "46c76bf8-b83d-4005-9882-008286da8ab6"
    },
    {
      "cell_type": "markdown",
      "metadata": {
        "id": "5c048322-428e-486e-9099-5b3df6129d70"
      },
      "source": [
        "## Loading the `emotion` Dataset <a class=\"anchor\" id=\"section1\"></a>"
      ],
      "id": "5c048322-428e-486e-9099-5b3df6129d70"
    },
    {
      "cell_type": "markdown",
      "metadata": {
        "id": "5b9f72e5-b5fb-40ee-86cf-1297fa251992"
      },
      "source": [
        "As eluded to in the lecture, this worksheet will be working with a text classification dataset.\n",
        "\n",
        "More specifically, we will be working with the `emotion` dataset, containing Twitter posts with associated emotion labels for each. These labels are `sadness`, `joy`, `love`, `anger`, `fear` and `surprise`.\n",
        "\n",
        "The following cell will load in the dataset, so we can start working with it!"
      ],
      "id": "5b9f72e5-b5fb-40ee-86cf-1297fa251992"
    },
    {
      "cell_type": "code",
      "execution_count": null,
      "metadata": {
        "colab": {
          "base_uri": "https://localhost:8080/",
          "height": 534,
          "referenced_widgets": [
            "5c7d02d7570e42a380141cb0db316a1b",
            "1ff49242fa184672825264ecf44293fc",
            "1be710468156453aa31dee8f116a45b8",
            "3a461800dd7e4e1d86afe3e5ec7998d3",
            "1ad9c568846649989119e5c57b1b2b3a",
            "c2b0f8bffcd74a51a6660ff4d27ec104",
            "c92dbbaf428b483abbf2c91131e51028",
            "a7b99b5ee9504f0d9c401c22adf7439f",
            "3b38d4b1d17943088818ba102e41f68b",
            "d486911073f942ef9cd6908d9b43791c",
            "815104bc78c645aebc4566f871293758",
            "a2417c226893453a968a739c22252495",
            "9d59797075924b3eaeeb435c5c3c5f5c",
            "6d0a067671c74c6a9d254def2a9bd428",
            "bfdc0e4d4e7448e8a353661011c2233f",
            "65bc5d98b7eb4c7c8d0432573be527f8",
            "176560d2858b4afaa4567f99e22698dd",
            "31504c5aee8f426796bc764a053da14b",
            "c24595dc70114fd995839e3c0be189ff",
            "49b6f6dc822046dbb14eec25d0df78f1",
            "99fc407fc2e2448b998fe6fbdfe7402a",
            "023f2b7603ae45d38aef0a3afcdc0140",
            "6f4773552d5345dabac2a5716df08353",
            "8959c9608ff44597b52fe716c614212a",
            "1303e92307514753ba13c555819c5595",
            "707a9ebb25d348f28984d639da6ebe91",
            "79a81dd21c90435d926e19dfa32fce3e",
            "8bc53199e0324def938e3236caa8f363",
            "feeee45c90d74fc69115b577a7c804ac",
            "48c313be3234465c90eb2a6dc01bf22b",
            "916c72f2c5954c17989253ed574ab9c3",
            "f7b9f051fbaa4e11abfedb01051d4f84",
            "562feae10eac4a2ea6243d244075d665",
            "5ee00db5366540fe80c7ba9bba26b931",
            "892a82dbd9df493d8360a07e4e0dfd24",
            "51c66480a9cd48d2a1a569992b78a64a",
            "5258437ad1d04253815a7d30f2a7e182",
            "d493129001e245da9f576134e390dbd4",
            "6b0936ff9aef49848251782701377597",
            "594b6a900c3643889ceaba1a5086bf2f",
            "24b57c60299b4c3091ecad6b3889bfdf",
            "d2e5b84167224112a2a4de41a8000837",
            "88c8f655275f4e4a9aa179750605a0b2",
            "c9c3a1f1c2614b1eaaf4f06a0bee561c",
            "01079fa7ff094494a35071d541d125b1",
            "8c538a2c21f648c8b9a6910a58b05ab5",
            "f1a6b5f6f685448b86b0d7d9e764eec5",
            "5bf2ce6aa91947acafe04d146a1e7179",
            "5236716211254cfbafee24ad0354c404",
            "073fcf8678e042a78418eb0670cab4f9",
            "03ae044f630b46f78e8f942745e681ef",
            "deb99e07819b48c98caaf255f96f5e91",
            "4077c9b307fd40c38969a94135cb2043",
            "d0e5ee0c9c7c49edbc12ae7a031e84bb",
            "d9b8718e4de347028078f997db1f7dbb",
            "abe8f5a03c654c2999235fae07ec96b2",
            "221b822126ad43c5a66219f52df1a052",
            "61e0fe42449e482a9009e036b1c80951",
            "32599441f9994ca7842a60e7cbcd793d",
            "9c35ff184f064c10b88f5d439d3212d4",
            "75d5061063524df896920050e1fd09ab",
            "370f21a899bb4183a2d6e527d36b6227",
            "d11f818821e14165bc43f338544384b4",
            "4453dd1f98b9490187757e9270d29193",
            "9cfa55561fcc4963a7729489de72283c",
            "832cb1b8681a4f12b6b33a72732702e9",
            "513de320b2244c5f84ebaca237a852b6",
            "a36735b196f043088b16823686a5aab9",
            "3a8638bcea914509987036a2c1b4e910",
            "9681ebf3ba8b4f06a04b98bb98731d23",
            "4a19bea38899401c8082f953c911b45f",
            "1badc2893e52490bbd858bd90eef74cc",
            "8abbeefaee2848f8affc846de3a96a69",
            "44b0734d023a4fff9458a8b5b280eeeb",
            "174c798b0bdc47b5b7cad0f72c10bbd0",
            "0ae95c00ad4a4b7d9e8eab7b8ae215a8",
            "27dfe9c772e04d6c9e90a9c46ec0dd84",
            "c5ad86d89dee4630b29f493a28a6cff9",
            "11658450e38e43419c8058fa25e677b9",
            "6ed8529cc94a49a3906b78404d953d11",
            "b82a5ae9e80f46cb97a07e82b79a31e9",
            "4a163eb365cc486bbb6564b579dc9436",
            "f57b0f2a06d042b7854403f9f0d24f94",
            "59c0bb26da9a474485a6a80059cd44ff",
            "d75425c97aae4af1ba09142e341a40d2",
            "6a911706eaa84378859e171e8ee6104a",
            "e99e214716bc47aab4240deb2cb328a0",
            "27bf4005488d430da5053089927fd629",
            "3355cf3b2e994892a3ef69c07a0a255d",
            "3624c8092141462a922c34f2ee8fee22",
            "5156bee6d1e3423d8ee0f8d43f8ce64e",
            "d4c161ee8d97414fb393713969eeb956",
            "fbbc946b7dbe40efa39784a50c6572eb",
            "61ba04f44a3d4253ba52a5cdb2417641",
            "fafb89c39b1a4e1e8b9de185c5c18058",
            "a408f254ed404980a30b997994841d53",
            "c6c08a9eb18f47d08cb1cd3103e18322",
            "2a805c240da448498a289a1f605bf381",
            "6d4667cddb3e44f4b7df262f4c89237e",
            "03fd84118e904affa0ac67922321f58a",
            "bf688447f9794de49e36e77ebadbcd3c",
            "e5a8028d852042ff814bf9ddc1a2646a",
            "c7a8fec0d0c14bc3b1215a85c2e53441",
            "f607ecccd50449fa8dbd9da35c0731ba",
            "d3082557da1f4c90ac9367b810e18e75",
            "ec8433a7a7b642b0970960c1a6ef9264",
            "1b636deabd174627b43841b6e3a438ee",
            "1d4c7f641e1a41b3959cbe1034e698b4",
            "a7cf7439fdb64e55b9ae77406a435f1f",
            "2eb30d6876824cbf984f77a976c6f062"
          ]
        },
        "id": "5422a0f6-6ff1-400b-b43a-60e7bbc4f72a",
        "outputId": "41f791e5-5181-4015-9735-426c0bc5448b"
      },
      "outputs": [
        {
          "data": {
            "application/vnd.jupyter.widget-view+json": {
              "model_id": "5c7d02d7570e42a380141cb0db316a1b",
              "version_major": 2,
              "version_minor": 0
            },
            "text/plain": [
              "Downloading builder script:   0%|          | 0.00/3.62k [00:00<?, ?B/s]"
            ]
          },
          "metadata": {},
          "output_type": "display_data"
        },
        {
          "data": {
            "application/vnd.jupyter.widget-view+json": {
              "model_id": "a2417c226893453a968a739c22252495",
              "version_major": 2,
              "version_minor": 0
            },
            "text/plain": [
              "Downloading metadata:   0%|          | 0.00/3.28k [00:00<?, ?B/s]"
            ]
          },
          "metadata": {},
          "output_type": "display_data"
        },
        {
          "data": {
            "application/vnd.jupyter.widget-view+json": {
              "model_id": "6f4773552d5345dabac2a5716df08353",
              "version_major": 2,
              "version_minor": 0
            },
            "text/plain": [
              "Downloading readme:   0%|          | 0.00/8.69k [00:00<?, ?B/s]"
            ]
          },
          "metadata": {},
          "output_type": "display_data"
        },
        {
          "name": "stdout",
          "output_type": "stream",
          "text": [
            "Downloading and preparing dataset emotion/default to /root/.cache/huggingface/datasets/emotion/default/0.0.0/348f63ca8e27b3713b6c04d723efe6d824a56fb3d1449794716c0f0296072705...\n"
          ]
        },
        {
          "data": {
            "application/vnd.jupyter.widget-view+json": {
              "model_id": "5ee00db5366540fe80c7ba9bba26b931",
              "version_major": 2,
              "version_minor": 0
            },
            "text/plain": [
              "Downloading data:   0%|          | 0.00/1.66M [00:00<?, ?B/s]"
            ]
          },
          "metadata": {},
          "output_type": "display_data"
        },
        {
          "data": {
            "application/vnd.jupyter.widget-view+json": {
              "model_id": "01079fa7ff094494a35071d541d125b1",
              "version_major": 2,
              "version_minor": 0
            },
            "text/plain": [
              "Downloading data:   0%|          | 0.00/204k [00:00<?, ?B/s]"
            ]
          },
          "metadata": {},
          "output_type": "display_data"
        },
        {
          "data": {
            "application/vnd.jupyter.widget-view+json": {
              "model_id": "abe8f5a03c654c2999235fae07ec96b2",
              "version_major": 2,
              "version_minor": 0
            },
            "text/plain": [
              "Downloading data:   0%|          | 0.00/207k [00:00<?, ?B/s]"
            ]
          },
          "metadata": {},
          "output_type": "display_data"
        },
        {
          "data": {
            "application/vnd.jupyter.widget-view+json": {
              "model_id": "513de320b2244c5f84ebaca237a852b6",
              "version_major": 2,
              "version_minor": 0
            },
            "text/plain": [
              "Generating train split:   0%|          | 0/16000 [00:00<?, ? examples/s]"
            ]
          },
          "metadata": {},
          "output_type": "display_data"
        },
        {
          "data": {
            "application/vnd.jupyter.widget-view+json": {
              "model_id": "c5ad86d89dee4630b29f493a28a6cff9",
              "version_major": 2,
              "version_minor": 0
            },
            "text/plain": [
              "Generating validation split:   0%|          | 0/2000 [00:00<?, ? examples/s]"
            ]
          },
          "metadata": {},
          "output_type": "display_data"
        },
        {
          "data": {
            "application/vnd.jupyter.widget-view+json": {
              "model_id": "3355cf3b2e994892a3ef69c07a0a255d",
              "version_major": 2,
              "version_minor": 0
            },
            "text/plain": [
              "Generating test split:   0%|          | 0/2000 [00:00<?, ? examples/s]"
            ]
          },
          "metadata": {},
          "output_type": "display_data"
        },
        {
          "name": "stdout",
          "output_type": "stream",
          "text": [
            "Dataset emotion downloaded and prepared to /root/.cache/huggingface/datasets/emotion/default/0.0.0/348f63ca8e27b3713b6c04d723efe6d824a56fb3d1449794716c0f0296072705. Subsequent calls will reuse this data.\n"
          ]
        },
        {
          "data": {
            "application/vnd.jupyter.widget-view+json": {
              "model_id": "03fd84118e904affa0ac67922321f58a",
              "version_major": 2,
              "version_minor": 0
            },
            "text/plain": [
              "  0%|          | 0/3 [00:00<?, ?it/s]"
            ]
          },
          "metadata": {},
          "output_type": "display_data"
        },
        {
          "name": "stdout",
          "output_type": "stream",
          "text": [
            "Loaded 16,000 train samples, 2,000 validation samples and 2,000 test samples.\n"
          ]
        },
        {
          "data": {
            "text/html": [
              "\n",
              "  <div id=\"df-4d0cc844-a06a-48c5-9108-504ef90940c1\">\n",
              "    <div class=\"colab-df-container\">\n",
              "      <div>\n",
              "<style scoped>\n",
              "    .dataframe tbody tr th:only-of-type {\n",
              "        vertical-align: middle;\n",
              "    }\n",
              "\n",
              "    .dataframe tbody tr th {\n",
              "        vertical-align: top;\n",
              "    }\n",
              "\n",
              "    .dataframe thead th {\n",
              "        text-align: right;\n",
              "    }\n",
              "</style>\n",
              "<table border=\"1\" class=\"dataframe\">\n",
              "  <thead>\n",
              "    <tr style=\"text-align: right;\">\n",
              "      <th></th>\n",
              "      <th>text</th>\n",
              "      <th>label</th>\n",
              "      <th>label_description</th>\n",
              "    </tr>\n",
              "  </thead>\n",
              "  <tbody>\n",
              "    <tr>\n",
              "      <th>0</th>\n",
              "      <td>i didnt feel humiliated</td>\n",
              "      <td>0</td>\n",
              "      <td>sadness</td>\n",
              "    </tr>\n",
              "    <tr>\n",
              "      <th>1</th>\n",
              "      <td>i can go from feeling so hopeless to so damned...</td>\n",
              "      <td>0</td>\n",
              "      <td>sadness</td>\n",
              "    </tr>\n",
              "    <tr>\n",
              "      <th>2</th>\n",
              "      <td>im grabbing a minute to post i feel greedy wrong</td>\n",
              "      <td>3</td>\n",
              "      <td>anger</td>\n",
              "    </tr>\n",
              "    <tr>\n",
              "      <th>3</th>\n",
              "      <td>i am ever feeling nostalgic about the fireplac...</td>\n",
              "      <td>2</td>\n",
              "      <td>love</td>\n",
              "    </tr>\n",
              "    <tr>\n",
              "      <th>4</th>\n",
              "      <td>i am feeling grouchy</td>\n",
              "      <td>3</td>\n",
              "      <td>anger</td>\n",
              "    </tr>\n",
              "  </tbody>\n",
              "</table>\n",
              "</div>\n",
              "      <button class=\"colab-df-convert\" onclick=\"convertToInteractive('df-4d0cc844-a06a-48c5-9108-504ef90940c1')\"\n",
              "              title=\"Convert this dataframe to an interactive table.\"\n",
              "              style=\"display:none;\">\n",
              "        \n",
              "  <svg xmlns=\"http://www.w3.org/2000/svg\" height=\"24px\"viewBox=\"0 0 24 24\"\n",
              "       width=\"24px\">\n",
              "    <path d=\"M0 0h24v24H0V0z\" fill=\"none\"/>\n",
              "    <path d=\"M18.56 5.44l.94 2.06.94-2.06 2.06-.94-2.06-.94-.94-2.06-.94 2.06-2.06.94zm-11 1L8.5 8.5l.94-2.06 2.06-.94-2.06-.94L8.5 2.5l-.94 2.06-2.06.94zm10 10l.94 2.06.94-2.06 2.06-.94-2.06-.94-.94-2.06-.94 2.06-2.06.94z\"/><path d=\"M17.41 7.96l-1.37-1.37c-.4-.4-.92-.59-1.43-.59-.52 0-1.04.2-1.43.59L10.3 9.45l-7.72 7.72c-.78.78-.78 2.05 0 2.83L4 21.41c.39.39.9.59 1.41.59.51 0 1.02-.2 1.41-.59l7.78-7.78 2.81-2.81c.8-.78.8-2.07 0-2.86zM5.41 20L4 18.59l7.72-7.72 1.47 1.35L5.41 20z\"/>\n",
              "  </svg>\n",
              "      </button>\n",
              "      \n",
              "  <style>\n",
              "    .colab-df-container {\n",
              "      display:flex;\n",
              "      flex-wrap:wrap;\n",
              "      gap: 12px;\n",
              "    }\n",
              "\n",
              "    .colab-df-convert {\n",
              "      background-color: #E8F0FE;\n",
              "      border: none;\n",
              "      border-radius: 50%;\n",
              "      cursor: pointer;\n",
              "      display: none;\n",
              "      fill: #1967D2;\n",
              "      height: 32px;\n",
              "      padding: 0 0 0 0;\n",
              "      width: 32px;\n",
              "    }\n",
              "\n",
              "    .colab-df-convert:hover {\n",
              "      background-color: #E2EBFA;\n",
              "      box-shadow: 0px 1px 2px rgba(60, 64, 67, 0.3), 0px 1px 3px 1px rgba(60, 64, 67, 0.15);\n",
              "      fill: #174EA6;\n",
              "    }\n",
              "\n",
              "    [theme=dark] .colab-df-convert {\n",
              "      background-color: #3B4455;\n",
              "      fill: #D2E3FC;\n",
              "    }\n",
              "\n",
              "    [theme=dark] .colab-df-convert:hover {\n",
              "      background-color: #434B5C;\n",
              "      box-shadow: 0px 1px 3px 1px rgba(0, 0, 0, 0.15);\n",
              "      filter: drop-shadow(0px 1px 2px rgba(0, 0, 0, 0.3));\n",
              "      fill: #FFFFFF;\n",
              "    }\n",
              "  </style>\n",
              "\n",
              "      <script>\n",
              "        const buttonEl =\n",
              "          document.querySelector('#df-4d0cc844-a06a-48c5-9108-504ef90940c1 button.colab-df-convert');\n",
              "        buttonEl.style.display =\n",
              "          google.colab.kernel.accessAllowed ? 'block' : 'none';\n",
              "\n",
              "        async function convertToInteractive(key) {\n",
              "          const element = document.querySelector('#df-4d0cc844-a06a-48c5-9108-504ef90940c1');\n",
              "          const dataTable =\n",
              "            await google.colab.kernel.invokeFunction('convertToInteractive',\n",
              "                                                     [key], {});\n",
              "          if (!dataTable) return;\n",
              "\n",
              "          const docLinkHtml = 'Like what you see? Visit the ' +\n",
              "            '<a target=\"_blank\" href=https://colab.research.google.com/notebooks/data_table.ipynb>data table notebook</a>'\n",
              "            + ' to learn more about interactive tables.';\n",
              "          element.innerHTML = '';\n",
              "          dataTable['output_type'] = 'display_data';\n",
              "          await google.colab.output.renderOutput(dataTable, element);\n",
              "          const docLink = document.createElement('div');\n",
              "          docLink.innerHTML = docLinkHtml;\n",
              "          element.appendChild(docLink);\n",
              "        }\n",
              "      </script>\n",
              "    </div>\n",
              "  </div>\n",
              "  "
            ],
            "text/plain": [
              "                                                text  label label_description\n",
              "0                            i didnt feel humiliated      0           sadness\n",
              "1  i can go from feeling so hopeless to so damned...      0           sadness\n",
              "2   im grabbing a minute to post i feel greedy wrong      3             anger\n",
              "3  i am ever feeling nostalgic about the fireplac...      2              love\n",
              "4                               i am feeling grouchy      3             anger"
            ]
          },
          "execution_count": 3,
          "metadata": {},
          "output_type": "execute_result"
        }
      ],
      "source": [
        "def load_emotion_dataset() -> pd.DataFrame:\n",
        "    '''Loads the emotion dataset from [1].\n",
        "    \n",
        "    Returns:\n",
        "        Triple of Pandas DataFrames:\n",
        "            The train, validation and test splits of the dataset.\n",
        "            The dataframes have columns \"text\" and \"label\".\n",
        "            \n",
        "    References:\n",
        "        [1] Saravia, Elvis, et al. \"Carer: Contextualized affect \n",
        "            representations for emotion recognition.\" Proceedings \n",
        "            of the 2018 Conference on Empirical Methods in Natural \n",
        "            Language Processing. 2018.\n",
        "    '''\n",
        "    # Download the dataset from the HuggingFace Hub\n",
        "    emotion_datasets = load_dataset('emotion')\n",
        "    \n",
        "    # Create list of all the labels in the dataset, in the \n",
        "    # correct order\n",
        "    labels = ['sadness', 'joy', 'love', 'anger', 'fear', 'surprise']\n",
        "    \n",
        "    def extract_dataframe(hf_dataset: Dataset) -> pd.DataFrame:\n",
        "        '''Helper function to convert dataset to DataFrame.\n",
        "        \n",
        "        Args:\n",
        "            hf_dataset (HuggingFace Dataset):\n",
        "                The dataset to be converted to a DataFrame.\n",
        "                \n",
        "        Returns:\n",
        "            Pandas DataFrame:\n",
        "                The resulting DataFrame.\n",
        "        '''\n",
        "        # Convert to DataFrame\n",
        "        df = hf_dataset.to_pandas()\n",
        "        \n",
        "        # Add more descriptive label column\n",
        "        df['label_description'] = df.label.map(lambda idx: labels[idx])\n",
        "        \n",
        "        # Return the DataFrame\n",
        "        return df\n",
        "    \n",
        "    # Extract the DataFrames\n",
        "    train = extract_dataframe(emotion_datasets['train'])\n",
        "    val = extract_dataframe(emotion_datasets['validation'])\n",
        "    test = extract_dataframe(emotion_datasets['test'])\n",
        "    \n",
        "    # Return the three splits\n",
        "    return train, val, test\n",
        "\n",
        "train, val, test = load_emotion_dataset()\n",
        "print(f'Loaded {len(train):,} train samples, {len(val):,} validation samples and {len(test):,} test samples.')\n",
        "train.head()"
      ],
      "id": "5422a0f6-6ff1-400b-b43a-60e7bbc4f72a"
    },
    {
      "cell_type": "markdown",
      "metadata": {
        "id": "e14f7ee1-58c7-45da-bc73-10f3c47ace37"
      },
      "source": [
        "We see that this dataset contains texts (the `text` column), labels (the `label` column) as well as a description for the given label (the `label_description` column).\n",
        "\n",
        "To have an idea of how the dataset labels are distributed, we can use the `hist` method to plot a histogram of the `label_description` column. \n",
        "\n",
        "*Fill in the missing lines of code in the following function.*"
      ],
      "id": "e14f7ee1-58c7-45da-bc73-10f3c47ace37"
    },
    {
      "cell_type": "code",
      "execution_count": null,
      "metadata": {
        "colab": {
          "base_uri": "https://localhost:8080/",
          "height": 299
        },
        "id": "9f6f531b-d9ea-4689-81b7-522cf51f94d6",
        "outputId": "623c0f5b-6350-4aa6-c17f-a031ed45cbd6"
      },
      "outputs": [
        {
          "data": {
            "image/png": "[encoded data removed]",
            "text/plain": [
              "<Figure size 432x288 with 1 Axes>"
            ]
          },
          "metadata": {},
          "output_type": "display_data"
        }
      ],
      "source": [
        "def plot_label_distribution(df: pd.DataFrame):\n",
        "    '''Plots a histogram of the labels in the dataset.\n",
        "    \n",
        "    Args:\n",
        "        df (Pandas DataFrame): \n",
        "            The input dataframe. Must have a 'label' column.     \n",
        "    '''\n",
        "\n",
        "    # TODO: Plot a histogram of the labels by using the `hist` method \n",
        "    # of the `label_description` column\n",
        "    df.label_description.hist(bins='auto', color='dodgerblue')\n",
        "    \n",
        "    # These remaining lines just add some labels to the plot\n",
        "    plt.title('Label distribution of the training dataset')\n",
        "    plt.xlabel('Label')\n",
        "    plt.ylabel('Number of documents')\n",
        "    plt.show()\n",
        "    \n",
        "    \n",
        "plot_label_distribution(train)"
      ],
      "id": "9f6f531b-d9ea-4689-81b7-522cf51f94d6"
    },
    {
      "cell_type": "markdown",
      "metadata": {
        "id": "c5eee071-e6e9-443b-b4f4-d4ff60f4bf09"
      },
      "source": [
        "We note that the labels are quite unbalanced, making the classification task potentially quite difficult.\n",
        "\n",
        "Next, we want to have an idea of how long the texts in the dataset are.\n",
        "\n",
        "*Fill in the missing lines of code in the following function.*"
      ],
      "id": "c5eee071-e6e9-443b-b4f4-d4ff60f4bf09"
    },
    {
      "cell_type": "code",
      "execution_count": null,
      "metadata": {
        "colab": {
          "base_uri": "https://localhost:8080/",
          "height": 299
        },
        "id": "97060360-c17f-4fa4-9651-bd7c657e7eea",
        "outputId": "34336ce5-07a4-4aca-fbd4-d1b147d5e87a"
      },
      "outputs": [
        {
          "data": {
            "image/png": "[encoded data removed]",
            "text/plain": [
              "<Figure size 432x288 with 1 Axes>"
            ]
          },
          "metadata": {},
          "output_type": "display_data"
        }
      ],
      "source": [
        "def plot_text_length_distribution(df: pd.DataFrame):\n",
        "    '''Plots a histogram of the lengths of the texts in the dataset.\n",
        "    \n",
        "    Args:\n",
        "        df (Pandas DataFrame): \n",
        "            The input dataframe. Must have a 'text' column.     \n",
        "    '''\n",
        "    # TODO: Add new column to the dataframe, with the number of \n",
        "    # characters in each document.\n",
        "    df['doc_length'] = df.text.map(len)\n",
        "\n",
        "    # TODO: Plot a histogram of the document lengths using the `hist` method\n",
        "    df.doc_length.hist(bins='auto', color='dodgerblue')\n",
        "\n",
        "    # These remaining lines just add some labels to the plot\n",
        "    plt.title('Text length distribution of the training dataset')\n",
        "    plt.xlabel('Number of characters')\n",
        "    plt.ylabel('Number of documents')\n",
        "    plt.show()\n",
        "    \n",
        "    \n",
        "plot_text_length_distribution(train)"
      ],
      "id": "97060360-c17f-4fa4-9651-bd7c657e7eea"
    },
    {
      "cell_type": "markdown",
      "metadata": {
        "id": "5e440297-8274-4f94-8536-fa595d363b05"
      },
      "source": [
        "We can see from the plot that the texts are relatively short (at most 300 characters), which makes sense as the texts are tweets! In any case, it's always good to sanity check your data in this way.\n",
        "\n",
        "Before we start modelling, let us see a few examples of each of our labels, to have an idea of what the dataset looks like."
      ],
      "id": "5e440297-8274-4f94-8536-fa595d363b05"
    },
    {
      "cell_type": "code",
      "execution_count": null,
      "metadata": {
        "colab": {
          "base_uri": "https://localhost:8080/",
          "height": 827
        },
        "id": "08ubwLdvdUVL",
        "outputId": "084e84f9-a0a5-4b23-8cf8-51367c076828"
      },
      "outputs": [
        {
          "name": "stdout",
          "output_type": "stream",
          "text": [
            "SADNESS\n"
          ]
        },
        {
          "data": {
            "text/plain": [
              "['i didnt feel humiliated',\n",
              " 'i can go from feeling so hopeless to so damned hopeful just from being around someone who cares and is awake',\n",
              " 'ive been feeling a little burdened lately wasnt sure why that was',\n",
              " 'i feel like i have to make the suffering i m seeing mean something',\n",
              " 'i feel low energy i m just thirsty']"
            ]
          },
          "metadata": {},
          "output_type": "display_data"
        },
        {
          "name": "stdout",
          "output_type": "stream",
          "text": [
            "\n",
            "JOY\n"
          ]
        },
        {
          "data": {
            "text/plain": [
              "['i have been with petronas for years i feel that petronas has performed well and made a huge profit',\n",
              " 'i do feel that running is a divine experience and that i can expect to have some type of spiritual encounter',\n",
              " 'i have immense sympathy with the general point but as a possible proto writer trying to find time to write in the corners of life and with no sign of an agent let alone a publishing contract this feels a little precious',\n",
              " 'i do not feel reassured anxiety is on each side',\n",
              " 'i have the feeling she was amused and delighted']"
            ]
          },
          "metadata": {},
          "output_type": "display_data"
        },
        {
          "name": "stdout",
          "output_type": "stream",
          "text": [
            "\n",
            "LOVE\n"
          ]
        },
        {
          "data": {
            "text/plain": [
              "['i am ever feeling nostalgic about the fireplace i will know that it is still on the property',\n",
              " 'i feel romantic too',\n",
              " 'i can t let go of that sad feeling that i want to be accepted here in this first home of mine',\n",
              " 'i ate i could feel a gentle tingle throughout almost as if i was feeling the healing taking place at a cellular level',\n",
              " 'i suppose my own truth needs to be shared i havent been feeling very faithful lately ive dwelled more in doubt and uncertainty than i have in faith']"
            ]
          },
          "metadata": {},
          "output_type": "display_data"
        },
        {
          "name": "stdout",
          "output_type": "stream",
          "text": [
            "\n",
            "ANGER\n"
          ]
        },
        {
          "data": {
            "text/plain": [
              "['im grabbing a minute to post i feel greedy wrong',\n",
              " 'i am feeling grouchy',\n",
              " 'i think it s the easiest time of year to feel dissatisfied',\n",
              " 'i feel irritated and rejected without anyone doing anything or saying anything',\n",
              " 'i already feel like i fucked up though because i dont usually eat at all in the morning']"
            ]
          },
          "metadata": {},
          "output_type": "display_data"
        },
        {
          "name": "stdout",
          "output_type": "stream",
          "text": [
            "\n",
            "FEAR\n"
          ]
        },
        {
          "data": {
            "text/plain": [
              "['i feel as confused about life as a teenager or as jaded as a year old man',\n",
              " 'i now feel compromised and skeptical of the value of every unit of work i put in',\n",
              " 'i am feeling completely overwhelmed i have two strategies that help me to feel grounded pour my heart out in my journal in the form of a letter to god and then end with a list of five things i am most grateful for',\n",
              " 'i remember feeling acutely distressed for a few days',\n",
              " 'i was stymied a little bit as i wrote feeling unsure that i might go somewhere with the story unintended']"
            ]
          },
          "metadata": {},
          "output_type": "display_data"
        },
        {
          "name": "stdout",
          "output_type": "stream",
          "text": [
            "\n",
            "SURPRISE\n"
          ]
        },
        {
          "data": {
            "text/plain": [
              "['ive been taking or milligrams or times recommended amount and ive fallen asleep a lot faster but i also feel like so funny',\n",
              " 'i have seen heard and read over the past couple of days i am left feeling impressed by more than a few companies',\n",
              " 'i keep feeling pleasantly surprised at his supportiveness and also his ease in new situations',\n",
              " 'i am now nearly finished the week detox and i feel amazing',\n",
              " 'i too feel as if i am a stranger in a strange land and i am raising my son in a place that is not his father s ancestral home']"
            ]
          },
          "metadata": {},
          "output_type": "display_data"
        },
        {
          "name": "stdout",
          "output_type": "stream",
          "text": [
            "\n"
          ]
        }
      ],
      "source": [
        "labels = ['sadness', 'joy', 'love', 'anger', 'fear', 'surprise']\n",
        "for label in labels:\n",
        "    print(label.upper())\n",
        "    display(train.query('label_description == @label').text.head().tolist())\n",
        "    print()"
      ],
      "id": "08ubwLdvdUVL"
    },
    {
      "cell_type": "markdown",
      "metadata": {
        "id": "0bc47edd-d9d0-4452-9a4e-bfa65e860f6c"
      },
      "source": [
        "## Bag-of-words Representation <a class=\"anchor\" id=\"section2\"></a>"
      ],
      "id": "0bc47edd-d9d0-4452-9a4e-bfa65e860f6c"
    },
    {
      "cell_type": "markdown",
      "metadata": {
        "id": "c244190d-016c-411d-ba38-6c263e47ef1d"
      },
      "source": [
        "We start with an implementation of the bag-of-words representation for our data.\n",
        "\n",
        "We will do this both from scratch as well as use tools from the `sklearn` library, and ensure that we get the same results.\n",
        "\n",
        "Let's start with building the representation from scratch. As we saw in the lecture, we first need to build a vocabulary.\n",
        "\n",
        "*Fill in the missing lines of code in the following function.*"
      ],
      "id": "c244190d-016c-411d-ba38-6c263e47ef1d"
    },
    {
      "cell_type": "code",
      "execution_count": null,
      "metadata": {
        "colab": {
          "base_uri": "https://localhost:8080/"
        },
        "id": "c2eb4779-4fd5-44af-bc3a-0a91f94978b9",
        "outputId": "3e410cbf-1de0-40bf-c834-7760fa78db48"
      },
      "outputs": [
        {
          "data": {
            "text/plain": [
              "15242"
            ]
          },
          "execution_count": 7,
          "metadata": {},
          "output_type": "execute_result"
        }
      ],
      "source": [
        "def build_vocabulary(corpus: List[str]) -> List[str]:\n",
        "    '''Constructs the vocabulary from a corpus.\n",
        "    \n",
        "    Args:\n",
        "        list of str:\n",
        "            The corpus, being a list of documents.\n",
        "            \n",
        "    Returns:\n",
        "        list of str:\n",
        "            A list containing all unique words in the corpus.\n",
        "    '''\n",
        "    # We simplify things here and remove all non-characters from the documents.\n",
        "    corpus = [re.sub('^[ a-zA-Z]', '', doc) for doc in corpus]\n",
        "    \n",
        "    # TODO: We next split every document into words by spaces, and collect these \n",
        "    #       in a list. Use the `split` method of `doc` to split up the document \n",
        "    #       into a list of words, and collect all the words in a list called `all_words`\n",
        "    all_words = [word for doc in corpus for word in doc.split()]\n",
        "    \n",
        "    # We then get all the unique words by converting the list to a `set` and back \n",
        "    # again to a `list`. Make sure that you have defined `all_words` above, otherwise\n",
        "    # this code will throw an error!\n",
        "    unique_words = list(set(all_words))\n",
        "    \n",
        "    # Return the vocabulary\n",
        "    return unique_words\n",
        "\n",
        "\n",
        "vocabulary = build_vocabulary(train.text.tolist())\n",
        "len(vocabulary)"
      ],
      "id": "c2eb4779-4fd5-44af-bc3a-0a91f94978b9"
    },
    {
      "cell_type": "markdown",
      "metadata": {
        "id": "4cbab5fd-4e1e-42bd-bb92-225a63798411"
      },
      "source": [
        "Great, we now have a vocabulary. Our next step is using the vocabulary to create embeddings for each word.\n",
        "\n",
        "Recall from the lecture that this is simply a **one-hot vector**, with zeroes everywhere except at the position at which the word appears in the vocabulary.\n",
        "\n",
        "*Fill in the missing lines of code in the following function.*"
      ],
      "id": "4cbab5fd-4e1e-42bd-bb92-225a63798411"
    },
    {
      "cell_type": "code",
      "execution_count": null,
      "metadata": {
        "colab": {
          "base_uri": "https://localhost:8080/"
        },
        "id": "0754d5d2-5bed-471f-b6fb-8b2a81f7f975",
        "outputId": "57431180-006a-45df-cfe8-ba0bd6f8617b"
      },
      "outputs": [
        {
          "data": {
            "text/plain": [
              "array([0., 0., 0., ..., 0., 0., 0.])"
            ]
          },
          "execution_count": 8,
          "metadata": {},
          "output_type": "execute_result"
        }
      ],
      "source": [
        "def one_hot_encode(word: str) -> np.ndarray:\n",
        "    '''One-hot encode a word according to our vocabulary.\n",
        "    \n",
        "    Args:\n",
        "        word (str):\n",
        "            The word to be encoded. It needs to be present \n",
        "            within our vocabulary!\n",
        "            \n",
        "    Returns:\n",
        "        NumPy array:\n",
        "            The resulting one-hot encoding.\n",
        "    '''\n",
        "    # TODO: Create a new NumPy array of all zeroes, of the same \n",
        "    #       length as our vocabulary. You can use the `np.zeros`\n",
        "    #       function here.\n",
        "    embedding = np.zeros(len(vocabulary))\n",
        "    \n",
        "    # TODO: Get the position at which the word appears in the \n",
        "    #       vocabulary, using the `index` method of `vocabulary`\n",
        "    vocab_position = vocabulary.index(word)\n",
        "    \n",
        "    # TODO: To make it a one-hot vector, we need to ensure that\n",
        "    #       the `embedding` vector has a 1 at `vocab_position`.\n",
        "    embedding[vocab_position] = 1\n",
        "    \n",
        "    # Return the final one-hot encoded vector\n",
        "    return embedding\n",
        "    \n",
        "    \n",
        "one_hot_embedding = one_hot_encode('happy')\n",
        "assert one_hot_embedding.sum() == 1\n",
        "one_hot_embedding"
      ],
      "id": "0754d5d2-5bed-471f-b6fb-8b2a81f7f975"
    },
    {
      "cell_type": "markdown",
      "metadata": {
        "id": "750b57c1-7cb2-4f32-a7e4-09fc982cbe62"
      },
      "source": [
        "Great! We are well underway to have our very own bag-of-words embedder.\n",
        "\n",
        "Note that we assumed that the word that we want to encode belongs to our dataset - we can see what happens if we try to encode a word *outside* the vocabulary:"
      ],
      "id": "750b57c1-7cb2-4f32-a7e4-09fc982cbe62"
    },
    {
      "cell_type": "code",
      "execution_count": null,
      "metadata": {
        "colab": {
          "base_uri": "https://localhost:8080/"
        },
        "id": "84ee3364-cba1-4eb1-998f-c4b5e1797f20",
        "outputId": "154cab09-2261-4198-9e44-4c7c709b8af6"
      },
      "outputs": [
        {
          "name": "stderr",
          "output_type": "stream",
          "text": [
            "Traceback (most recent call last):\n",
            "  File \"<ipython-input-9-31ca6193c039>\", line 2, in <module>\n",
            "    one_hot_encode('Thisisnotaword')\n",
            "  File \"<ipython-input-8-0ca6e2f04f50>\", line 20, in one_hot_encode\n",
            "    vocab_position = vocabulary.index(word)\n",
            "ValueError: 'Thisisnotaword' is not in list\n"
          ]
        }
      ],
      "source": [
        "try:\n",
        "    one_hot_encode('Thisisnotaword')\n",
        "except:\n",
        "    traceback.print_exc()"
      ],
      "id": "84ee3364-cba1-4eb1-998f-c4b5e1797f20"
    },
    {
      "cell_type": "markdown",
      "metadata": {
        "id": "39c03519-6f0b-4c17-a828-c808a84610bd"
      },
      "source": [
        "As suspected, we simply get an error stating that the word does not occur in the vocabulary.\n",
        "\n",
        "To fix this we will implement the simple hack that was mentioned in the lecture. Namely, we attach a new number at the end of our embeddings, which is 1 if the word does not appear in the vocabulary."
      ],
      "id": "39c03519-6f0b-4c17-a828-c808a84610bd"
    },
    {
      "cell_type": "code",
      "execution_count": null,
      "metadata": {
        "colab": {
          "base_uri": "https://localhost:8080/"
        },
        "id": "c03eb13e-1b53-4381-88a4-98a1d94c4a43",
        "outputId": "c479ff52-2d6f-4662-a404-7d81be5cede9"
      },
      "outputs": [
        {
          "data": {
            "text/plain": [
              "array([0., 0., 0., ..., 0., 0., 1.])"
            ]
          },
          "execution_count": 10,
          "metadata": {},
          "output_type": "execute_result"
        }
      ],
      "source": [
        "def improved_one_hot_encode(word: str) -> np.ndarray:\n",
        "    '''One-hot encode a word.\n",
        "    \n",
        "    This can also deal with words not in the vocabulary.\n",
        "    \n",
        "    Args:\n",
        "        word (str):\n",
        "            The word to be encoded.\n",
        "            \n",
        "    Returns:\n",
        "        NumPy array:\n",
        "            The resulting one-hot encoding.\n",
        "    '''\n",
        "    # This tries to embed the word using the one_hot_encode\n",
        "    # function that we defined above\n",
        "    try:\n",
        "        # We embed using our previous function, and add a zero\n",
        "        # at the end, signifying that the word *is* in our\n",
        "        # vocabulary\n",
        "        embedding = np.concatenate((one_hot_encode(word), [0]))\n",
        "        \n",
        "    # If the word was *not* in the vocabulary then a ValueError\n",
        "    # is raised, as we saw above. This \"catches\" that error and\n",
        "    # runs the code below instead of the code above\n",
        "    except ValueError:\n",
        "        \n",
        "        # TODO: Create a NumPy array which is of the size of our\n",
        "        #       vocabulary + 1, with all zeros and a 1 at the end\n",
        "        embedding = np.zeros(len(vocabulary) + 1)\n",
        "        embedding[len(vocabulary)] = 1\n",
        "        \n",
        "    # Return the embedding, whether it came from the \"try block\"\n",
        "    # or the \"except block\"\n",
        "    return embedding\n",
        "\n",
        "embedding = improved_one_hot_encode('Thisisnotaword')\n",
        "assert embedding.sum() == 1\n",
        "embedding"
      ],
      "id": "c03eb13e-1b53-4381-88a4-98a1d94c4a43"
    },
    {
      "cell_type": "markdown",
      "metadata": {
        "id": "25babffa-cc8d-4773-83e0-2007059e1ae7"
      },
      "source": [
        "It works! Our next step is to create a bag-of-words representations for a whole document, rather than only a word. As stated in the lecture, we do this by:\n",
        "1. Splitting up the document into words.\n",
        "2. One-hot encoding all the individual words.\n",
        "3. Adding up all the one-hot encodings.\n",
        "\n",
        "Let's get to it!\n",
        "\n",
        "*Fill in the missing lines of code in the following function.*"
      ],
      "id": "25babffa-cc8d-4773-83e0-2007059e1ae7"
    },
    {
      "cell_type": "code",
      "execution_count": null,
      "metadata": {
        "colab": {
          "base_uri": "https://localhost:8080/"
        },
        "id": "4e8308ad-c4e6-4688-b385-a987511268ce",
        "outputId": "99a121d5-0150-435c-d61e-b6bb90b14892"
      },
      "outputs": [
        {
          "data": {
            "text/plain": [
              "array([0., 0., 0., ..., 0., 0., 0.])"
            ]
          },
          "execution_count": 11,
          "metadata": {},
          "output_type": "execute_result"
        }
      ],
      "source": [
        "def bag_of_words_embed(doc: str) -> np.ndarray:\n",
        "    '''Embed a document using the bag-of-words representation.\n",
        "    \n",
        "    Args:\n",
        "        doc (str):\n",
        "            The document we want to embed.\n",
        "            \n",
        "    Returns:\n",
        "        NumPy array:\n",
        "            The resulting bag-of-words embedding.\n",
        "    '''\n",
        "    # We simplify things here and remove all non-characters from the document,\n",
        "    # just like we did when we created the vocabulary\n",
        "    doc = re.sub('^[ a-zA-Z]', '', doc)\n",
        "    \n",
        "    # TODO: Split up the document into a list of words\n",
        "    words = doc.split()\n",
        "    \n",
        "    # TODO: Embed all the words, resulting in a list of NumPy arrays\n",
        "    embeddings = [improved_one_hot_encode(word) for word in words]\n",
        "    \n",
        "    # Sum up all the one-hot encoded vectors in `embeddings`\n",
        "    bag_of_words_embedding = np.sum(embeddings, axis=0)\n",
        "\n",
        "    # Return the embedding\n",
        "    return bag_of_words_embedding\n",
        "\n",
        "\n",
        "embedding = bag_of_words_embed('This is a test')\n",
        "assert embedding.sum() == 4\n",
        "embedding"
      ],
      "id": "4e8308ad-c4e6-4688-b385-a987511268ce"
    },
    {
      "cell_type": "markdown",
      "metadata": {
        "id": "d04b06fe-ea99-4349-a247-ca13c3478539"
      },
      "source": [
        "Hooray! We can now embed all the documents in the dataset. This will take a couple of minutes, hang tight."
      ],
      "id": "d04b06fe-ea99-4349-a247-ca13c3478539"
    },
    {
      "cell_type": "code",
      "execution_count": null,
      "metadata": {
        "colab": {
          "base_uri": "https://localhost:8080/",
          "height": 99,
          "referenced_widgets": [
            "a0820242c18c485aa0f84eecfe9de58a",
            "7b76e2fbf6c4454683a8be77d4ffd5d1",
            "5991ec3a3cfa4444895686492200b3b4",
            "7992bdf6c66a42489772dc30e2119421",
            "8e9ae2f024704ec2a31919c77c64724d",
            "c87f7d1b2849477ea070f6bae40fa50b",
            "d2e76521c4f0499ba9824c30f02911ce",
            "bddd759281b8445fbcfffa504113fdd6",
            "485cd6d204954c63b3b55c068c64bf03",
            "013b1fb7916148c88154cab70bf7b485",
            "0507915c018447eab2f97e8e10224858",
            "b56429a8f4d3469687b34433fcb1e6c9",
            "d4f86163ffb6489a9fa9751173c3740f",
            "0deea2f3d50147318a9f5d77022a1f95",
            "5640d2d07bc04e4a8924a7e3a99eb75f",
            "328d6bd4d99345c7bd566d1a99fb0dde",
            "8ef20ff55fa24bf8b16bf34a58058f03",
            "96935554ae5046be92c82566518392ba",
            "6d8c44493cb24a878032f8a38b267375",
            "becf841008ab4dd5a8ee90c8d4de77c6",
            "36152db81a6040018e47de8d99e8054b",
            "c358ec8e250e47c58e2afdc0dc07a92b"
          ]
        },
        "id": "4dd42dfd-9c8f-4fe0-9a0f-650ba4c64c0f",
        "outputId": "006d8d66-f90a-4e10-fb42-556413017a73"
      },
      "outputs": [
        {
          "data": {
            "application/vnd.jupyter.widget-view+json": {
              "model_id": "a0820242c18c485aa0f84eecfe9de58a",
              "version_major": 2,
              "version_minor": 0
            },
            "text/plain": [
              "  0%|          | 0/16000 [00:00<?, ?it/s]"
            ]
          },
          "metadata": {},
          "output_type": "display_data"
        },
        {
          "data": {
            "application/vnd.jupyter.widget-view+json": {
              "model_id": "b56429a8f4d3469687b34433fcb1e6c9",
              "version_major": 2,
              "version_minor": 0
            },
            "text/plain": [
              "  0%|          | 0/2000 [00:00<?, ?it/s]"
            ]
          },
          "metadata": {},
          "output_type": "display_data"
        },
        {
          "data": {
            "text/plain": [
              "(16000, 15243)"
            ]
          },
          "execution_count": 12,
          "metadata": {},
          "output_type": "execute_result"
        }
      ],
      "source": [
        "# Embeds the texts in the dataset\n",
        "bag_of_words_embeddings_train = np.stack(train.text.progress_apply(bag_of_words_embed))\n",
        "bag_of_words_embeddings_val = np.stack(val.text.progress_apply(bag_of_words_embed))\n",
        "bag_of_words_embeddings_train.shape"
      ],
      "id": "4dd42dfd-9c8f-4fe0-9a0f-650ba4c64c0f"
    },
    {
      "cell_type": "markdown",
      "metadata": {
        "id": "86b52f8c-b64a-49e2-b517-78a4aeb5f23b"
      },
      "source": [
        "With all the documents embedded, we can now try training a classifier to predict the emotion label.\n",
        "\n",
        "Here we will just use a simple logistic regression model, but feel free to replace this by whichever classification model you prefer!"
      ],
      "id": "86b52f8c-b64a-49e2-b517-78a4aeb5f23b"
    },
    {
      "cell_type": "code",
      "execution_count": null,
      "metadata": {
        "colab": {
          "background_save": true
        },
        "id": "32ee7cfc-6017-446c-9ed1-df86fb4b089d",
        "outputId": "e8c5e7e9-e93f-4441-b665-ce05a487e57c"
      },
      "outputs": [
        {
          "name": "stdout",
          "output_type": "stream",
          "text": [
            "The model achieved a 37.10% accuracy on the validation set.\n"
          ]
        }
      ],
      "source": [
        "# Define the model\n",
        "model = LogisticRegression(max_iter=1_000)\n",
        "\n",
        "# Train the model\n",
        "model.fit(bag_of_words_embeddings_train, train.label)\n",
        "\n",
        "# Evaluate the model on the validation set.\n",
        "# Note that the metric used by the `score` method varies from model to\n",
        "# model. For the logistic regression model this metric is accuracy.\n",
        "val_acc = model.score(bag_of_words_embeddings_val, val.label)\n",
        "print(f'The model achieved a {100 * val_acc:.2f}% accuracy '\n",
        "      f'on the validation set.')"
      ],
      "id": "32ee7cfc-6017-446c-9ed1-df86fb4b089d"
    },
    {
      "cell_type": "markdown",
      "metadata": {
        "id": "4741432c-c363-4e15-8016-023826876fac"
      },
      "source": [
        "Almost 90% accuracy with six labels, not too shabby at all!\n",
        "\n",
        "Note however that we previously saw that the labels are quite imbalanced, in which case accuracy is not really a good metric to use. Imagine the extreme case where 99% of the labels were \"angry\". If our model just *always* predicted \"angry\" then the accuracy would be 99%, but we still would not say that this model is *good*.\n",
        "\n",
        "A better score is the **balanced accuracy**, which treats every label as equally important (and it coincides with accuracy if the labels are balanced).\n",
        "\n",
        "You can read more about this metric [in the sklearn user manual](https://scikit-learn.org/stable/modules/model_evaluation.html#balanced-accuracy-score)."
      ],
      "id": "4741432c-c363-4e15-8016-023826876fac"
    },
    {
      "cell_type": "code",
      "execution_count": null,
      "metadata": {
        "id": "1230b0ca-6600-42eb-9ffd-43347add9fb0"
      },
      "outputs": [],
      "source": [
        "predictions = model.predict(bag_of_words_embeddings_val)\n",
        "val_balanced_acc = balanced_accuracy_score(val.label, predictions)\n",
        "print(f'The model achieved a {100 * val_balanced_acc:.2f}% balanced '\n",
        "      f'accuracy on the validation set.')"
      ],
      "id": "1230b0ca-6600-42eb-9ffd-43347add9fb0"
    },
    {
      "cell_type": "markdown",
      "metadata": {
        "id": "47a801f1-eb91-4ccb-9c56-c759a4d295d2"
      },
      "source": [
        "Even when we balance the score to give equal importance to all labels, we still achieve 84% accuracy, that's pretty good!\n",
        "\n",
        "Let's see if we can do better with more sophisticated text representations."
      ],
      "id": "47a801f1-eb91-4ccb-9c56-c759a4d295d2"
    },
    {
      "cell_type": "code",
      "execution_count": null,
      "metadata": {
        "id": "bf138805-7eac-42fb-97b5-b85519d8f7c0"
      },
      "outputs": [],
      "source": [
        "# Delete the bag-of-words embeddings again, to save some memory\n",
        "del bag_of_words_embeddings_train, bag_of_words_embeddings_val, model\n",
        "gc.collect()"
      ],
      "id": "bf138805-7eac-42fb-97b5-b85519d8f7c0"
    },
    {
      "cell_type": "markdown",
      "metadata": {
        "id": "c2ea20d0-a771-4410-8b27-64eb86cf96b1"
      },
      "source": [
        "## TF-IDF Representation <a class=\"anchor\" id=\"section3\"></a>"
      ],
      "id": "c2ea20d0-a771-4410-8b27-64eb86cf96b1"
    },
    {
      "cell_type": "markdown",
      "metadata": {
        "id": "11659225-0d67-44ae-bb8a-b4b5105cd04b"
      },
      "source": [
        "We will now try to embed the documents using the TF-IDF representation and see if we can improve upon our previous classification score.\n",
        "\n",
        "Rather than implementing this from scratch, we will be employing the `TfidfVectorizer` class from the `sklearn` library. The following function will be using that class to compute our vocabulary and all the document frequencies.\n",
        "\n",
        "*Fill in the missing lines of code in the following function.*"
      ],
      "id": "11659225-0d67-44ae-bb8a-b4b5105cd04b"
    },
    {
      "cell_type": "code",
      "execution_count": null,
      "metadata": {
        "id": "61cf4139-0516-4b7a-8861-0e576468fe9c"
      },
      "outputs": [],
      "source": [
        "def fit_tfidf(corpus: List[str], **tfidf_params) -> TfidfVectorizer:\n",
        "    '''Fit a TF-IDF model on a corpus.\n",
        "    \n",
        "    This computes the vocabulary and stores all the\n",
        "    document frequencies in the class.\n",
        "    \n",
        "    Args:\n",
        "        corpus (list of str):\n",
        "            The corpus on which the TF-IDF model will\n",
        "            be fitted.\n",
        "        **tfidf_params:\n",
        "            Extra keyword parameters to include in the TF-IDF model.\n",
        "            \n",
        "    Returns:\n",
        "        TfidfVectorizer:\n",
        "            The fitted TF-IDF model.\n",
        "    '''\n",
        "\n",
        "    # Initialise the class computing the TF-IDF embeddings\n",
        "    tfidf = TfidfVectorizer(**tfidf_params)\n",
        "\n",
        "    # TODO: Use the `fit` method of `tfidf` on the corpus, which\n",
        "    #       computes the vocabulary and all the document \n",
        "    #       frequencies from the training dataset, and stores \n",
        "    #       them.\n",
        "    tfidf.fit(corpus)\n",
        "    \n",
        "    # Return the fitted TF-IDF model\n",
        "    return tfidf\n",
        "\n",
        "\n",
        "tfidf = fit_tfidf(train.text)\n",
        "tfidf"
      ],
      "id": "61cf4139-0516-4b7a-8861-0e576468fe9c"
    },
    {
      "cell_type": "markdown",
      "metadata": {
        "id": "c87b51ad-d22c-4680-a6aa-15be4ab23644"
      },
      "source": [
        "That only took a split second! Next, just like with the bag-of-words representation, we want to embed our corpus and train a logistic regression model on the embeddings. We will be using our new fitted `TfidfVectorizer` to compute the embeddings this time.\n",
        "\n",
        "*Fill in the missing lines of code in the following function.*"
      ],
      "id": "c87b51ad-d22c-4680-a6aa-15be4ab23644"
    },
    {
      "cell_type": "code",
      "execution_count": null,
      "metadata": {
        "id": "be5534a2-ad84-452e-bffe-66f04b1455dc"
      },
      "outputs": [],
      "source": [
        "def tfidf_train_model(tfidf_model: TfidfVectorizer,\n",
        "                      train_dataset: pd.DataFrame,\n",
        "                      val_dataset: pd.DataFrame) -> LogisticRegression:\n",
        "    '''Trains a logistic regression model on a TF-IDF embedded corpus.\n",
        "    \n",
        "    Args:\n",
        "        tfidf_model (TfidfVectorizer):\n",
        "            The fitted TF-IDF model.\n",
        "        train_dataset (Pandas DataFrame):\n",
        "            The dataset on which to train the logistic regression \n",
        "            model. Must have a 'text' and 'label' column.\n",
        "        val_dataset (Pandas DataFrame):\n",
        "            The dataset on which to evaluate the logistic regression \n",
        "            model. Must have a 'text' and 'label' column.\n",
        "            \n",
        "    Returns:\n",
        "        LogisticRegression:\n",
        "            The trained model.\n",
        "    '''\n",
        "    # TODO: Embed the dataset using the TF-IDF representation, using\n",
        "    #       the `transform` method of `tfidf_model`\n",
        "    tfidf_embeddings_train = tfidf_model.transform(train_dataset.text)\n",
        "    tfidf_embeddings_val = tfidf_model.transform(val_dataset.text)\n",
        "    \n",
        "    # Define the model\n",
        "    model = LogisticRegression(max_iter=1_000)\n",
        "    \n",
        "    # Train the model\n",
        "    model.fit(tfidf_embeddings_train, train_dataset.label)\n",
        "    \n",
        "    # Evaluate the model on the validation set.\n",
        "    predictions = model.predict(tfidf_embeddings_val)\n",
        "    val_balanced_acc = balanced_accuracy_score(val_dataset.label, predictions)\n",
        "    print(f'The model achieved a {100 * val_balanced_acc:.2f}% '\n",
        "          f'balanced accuracy on the validation set.')\n",
        "    \n",
        "    # Return the trained model\n",
        "    return model\n",
        "\n",
        "model = tfidf_train_model(tfidf_model=tfidf, train_dataset=train, val_dataset=val)"
      ],
      "id": "be5534a2-ad84-452e-bffe-66f04b1455dc"
    },
    {
      "cell_type": "markdown",
      "metadata": {
        "id": "53131b5f-7d6f-4033-9879-a1c8d637cfcd"
      },
      "source": [
        "Oh no! We see that our performance has actually **dropped** by using the TF-IDF embeddings.\n",
        "\n",
        "In some cases the bag-of-words approach are simply better than the TF-IDF representation, but in our current case we can actually improve the performance quite substantially by tweaking the hyperparameters of our TF-IDF embedding.\n",
        "\n",
        "Firstly, by default the `TfidfVectorizer` normalises the resulting embeddings, which in our scenario severely reduces performance:"
      ],
      "id": "53131b5f-7d6f-4033-9879-a1c8d637cfcd"
    },
    {
      "cell_type": "code",
      "execution_count": null,
      "metadata": {
        "id": "d1604a0f-c085-4b22-a538-2b53a1f6e662"
      },
      "outputs": [],
      "source": [
        "improved_tfidf = fit_tfidf(train.text, norm=None)\n",
        "improved_model = tfidf_train_model(tfidf_model=improved_tfidf, \n",
        "                                   train_dataset=train, \n",
        "                                   val_dataset=val)"
      ],
      "id": "d1604a0f-c085-4b22-a538-2b53a1f6e662"
    },
    {
      "cell_type": "markdown",
      "metadata": {
        "id": "249db23c-87d6-488d-9352-fcdaca4bcaa9"
      },
      "source": [
        "Getting close to the bag-of-words approach now!\n",
        "\n",
        "We can improve it even more, by ignoring words that occurs in more than 10% of the documents (so, effectively removing common words like \"the\" and \"an\":"
      ],
      "id": "249db23c-87d6-488d-9352-fcdaca4bcaa9"
    },
    {
      "cell_type": "code",
      "execution_count": null,
      "metadata": {
        "id": "d728b717-5bd6-4982-8a2d-b5bfc948fe95"
      },
      "outputs": [],
      "source": [
        "even_better_tfidf = fit_tfidf(train.text, norm=None, max_df=0.1)\n",
        "even_better_model = tfidf_train_model(tfidf_model=even_better_tfidf, \n",
        "                                      train_dataset=train, \n",
        "                                      val_dataset=val)"
      ],
      "id": "d728b717-5bd6-4982-8a2d-b5bfc948fe95"
    },
    {
      "cell_type": "markdown",
      "metadata": {
        "id": "da78b5a9-36ce-4679-9daa-6ca0b6c23e9e"
      },
      "source": [
        "This took us a percentage point above the bag-of-words approach! You can keep on tweaking the parameters in our `fit_tfidf` function to see if you can improve it even further.\n",
        "\n",
        "You can see all the hyperparameters that you can tune in the [sklearn documentation of TfidfVectorizer](https://scikit-learn.org/stable/modules/generated/sklearn.feature_extraction.text.TfidfVectorizer.html)."
      ],
      "id": "da78b5a9-36ce-4679-9daa-6ca0b6c23e9e"
    },
    {
      "cell_type": "markdown",
      "metadata": {
        "id": "284d72b8-efea-4524-bb5b-8d606c366a3a"
      },
      "source": [
        "## Word2vec Representation <a class=\"anchor\" id=\"section4\"></a>"
      ],
      "id": "284d72b8-efea-4524-bb5b-8d606c366a3a"
    },
    {
      "cell_type": "markdown",
      "metadata": {
        "id": "7d3bac48-8c44-48fc-ade1-de0a2406ee17"
      },
      "source": [
        "We next move to the Word2vec representation. To train our own embeddings we will use the `gensim` library."
      ],
      "id": "7d3bac48-8c44-48fc-ade1-de0a2406ee17"
    },
    {
      "cell_type": "code",
      "execution_count": null,
      "metadata": {
        "id": "8e016891-5968-4738-a7d3-50c26678e941"
      },
      "outputs": [],
      "source": [
        "def fit_word2vec(corpus: List[str]) -> Word2Vec:\n",
        "    '''Fit Word2Vec vectors on a corpus.\n",
        "    \n",
        "    Args:\n",
        "        corpus (list of str):\n",
        "            The corpus to fit the embeddings on.\n",
        "            \n",
        "    Returns:\n",
        "        Word2Vec:\n",
        "            The object containing the fitted embeddings.\n",
        "    '''\n",
        "    # Tokenise the corpus\n",
        "    corpus = [re.split(r' |(?=[\\.\\,\\-\\\"\\'\\!])', doc) for doc in corpus]\n",
        "    \n",
        "    # Fit the embeddings\n",
        "    word2vec = Word2Vec(sentences=corpus, sg=1, workers=-1)\n",
        "\n",
        "    # Return the object containing the fitted embeddings\n",
        "    return word2vec\n",
        "\n",
        "\n",
        "word2vec = fit_word2vec(train.text)\n",
        "word2vec"
      ],
      "id": "8e016891-5968-4738-a7d3-50c26678e941"
    },
    {
      "cell_type": "markdown",
      "metadata": {
        "id": "f6958d8b-26c0-489f-a9e4-e122835df146"
      },
      "source": [
        "With the model trained, we can now extract the individual word embeddings using the `wv` dictionary attribute:"
      ],
      "id": "f6958d8b-26c0-489f-a9e4-e122835df146"
    },
    {
      "cell_type": "code",
      "execution_count": null,
      "metadata": {
        "id": "ec5c7ff1-6bd7-483f-a5b1-5a9c46632d0c"
      },
      "outputs": [],
      "source": [
        "word2vec.wv['test']"
      ],
      "id": "ec5c7ff1-6bd7-483f-a5b1-5a9c46632d0c"
    },
    {
      "cell_type": "markdown",
      "metadata": {
        "id": "4f85a6aa-0db2-4bc2-8a47-3f45b97e84a3"
      },
      "source": [
        "This model has a vocabulary, just like our previous models, and will throw an error if faced with a word it has not seen before:"
      ],
      "id": "4f85a6aa-0db2-4bc2-8a47-3f45b97e84a3"
    },
    {
      "cell_type": "code",
      "execution_count": null,
      "metadata": {
        "id": "0c44ed72-8ae0-48e0-93bb-6c9a21e7f0fe"
      },
      "outputs": [],
      "source": [
        "try:\n",
        "    word2vec.wv['Test']\n",
        "except:\n",
        "    traceback.print_exc()"
      ],
      "id": "0c44ed72-8ae0-48e0-93bb-6c9a21e7f0fe"
    },
    {
      "cell_type": "markdown",
      "metadata": {
        "id": "0fde58c7-4a2e-4994-9123-c27aa46716ad"
      },
      "source": [
        "To deal with these out-of-vocabulary words, we will use the same hack we did with the bag-of-words approach: we will simply associate a new vector to all the terms that the model has not previously seen. For simplicity, we will just associate the zero vector to these terms.\n",
        "\n",
        "*Fill in the missing lines of code in the following function.*"
      ],
      "id": "0fde58c7-4a2e-4994-9123-c27aa46716ad"
    },
    {
      "cell_type": "code",
      "execution_count": null,
      "metadata": {
        "id": "e18cdb5a-60ba-4d7b-a80f-1713fab428b2"
      },
      "outputs": [],
      "source": [
        "def word2vec_embed_term(term: str) -> np.ndarray:\n",
        "    '''Embeds a term using the fitted Word2vec model.\n",
        "    \n",
        "    Args:\n",
        "        term (str):\n",
        "            The term to be embedded.\n",
        "            \n",
        "    Returns:\n",
        "        NumPy array:\n",
        "            The embedding of the term.\n",
        "    '''\n",
        "    # We do a `try-except` here to deal with out-of-vocabulary terms,\n",
        "    # just like we did with the bag-of-words model\n",
        "    try:\n",
        "        \n",
        "        # TODO: Use the `wv` attribute of `word2vec` to get\n",
        "        #       the embedding of the term\n",
        "        embedding = word2vec.wv[term]\n",
        "        \n",
        "    # If the word is not in our vocabulary, then we just\n",
        "    # embed it as the zero vector\n",
        "    except KeyError:\n",
        "        embedding = np.zeros(100)\n",
        "    \n",
        "    # Return the embedding\n",
        "    return embedding\n",
        "\n",
        "\n",
        "word2vec_embed_term('house')"
      ],
      "id": "e18cdb5a-60ba-4d7b-a80f-1713fab428b2"
    },
    {
      "cell_type": "markdown",
      "metadata": {
        "id": "7dee3fc8-994d-46d2-9153-4d35c58e1178"
      },
      "source": [
        "We next go from embedding terms to embedding documents. Recall that we have to make a decision here, depending on how we want to aggregate the individual term embeddings.\n",
        "\n",
        "*Fill in the missing lines of code in the following function.*"
      ],
      "id": "7dee3fc8-994d-46d2-9153-4d35c58e1178"
    },
    {
      "cell_type": "code",
      "execution_count": null,
      "metadata": {
        "id": "7213054d-f745-4fce-ba56-39c86ed3fce9"
      },
      "outputs": [],
      "source": [
        "def word2vec_embed_doc(doc: str, \n",
        "                       aggregation_fn: Callable = np.mean) -> np.ndarray:\n",
        "    '''Embeds a document using the fitted Word2vec model.\n",
        "    \n",
        "    Args:\n",
        "        doc (str):\n",
        "            The document to be embedded.\n",
        "        aggregation_fn (callable, optional):\n",
        "            The function used to aggregate the term embeddings\n",
        "            in the document. Must be a NumPy function. Defaults to \n",
        "            `numpy.mean`, meaning that the average of the term \n",
        "            embeddings is returned.\n",
        "            \n",
        "    Returns:\n",
        "        NumPy array:\n",
        "            The embedding of the document.\n",
        "    '''\n",
        "    # Split up the document into a list of terms\n",
        "    terms = re.split(r' |(?=[\\.\\,\\-\\\"\\'\\!])', doc)\n",
        "    \n",
        "    # TODO: Embed each term using the fitted `word2vec` model.\n",
        "    #       The result should be a list of embeddings, one for\n",
        "    #       each term.\n",
        "    embeddings = [word2vec_embed_term(term) for term in terms]\n",
        "    \n",
        "    # Aggregate the embeddings according to `aggregation_fn`\n",
        "    embedding = aggregation_fn(embeddings, axis=0)\n",
        "    \n",
        "    # Return the aggregated embedding\n",
        "    return embedding\n",
        "\n",
        "\n",
        "word2vec_embed_doc('this is a test')"
      ],
      "id": "7213054d-f745-4fce-ba56-39c86ed3fce9"
    },
    {
      "cell_type": "markdown",
      "metadata": {
        "id": "ca932c05-f39b-458b-b8a5-9d89eda5adb6"
      },
      "source": [
        "Okay, we can finally test the classification performance of the Word2vec embeddings!\n",
        "\n",
        "*Fill in the missing lines of code in the following function.*"
      ],
      "id": "ca932c05-f39b-458b-b8a5-9d89eda5adb6"
    },
    {
      "cell_type": "code",
      "execution_count": null,
      "metadata": {
        "id": "68f61e4f-2203-422d-8b9c-3dd147758ad2"
      },
      "outputs": [],
      "source": [
        "def word2vec_train_model(train_dataset: pd.DataFrame,\n",
        "                         val_dataset: pd.DataFrame) -> LogisticRegression:\n",
        "    '''Trains a logistic regression model on a Word2vec embedded corpus.\n",
        "    \n",
        "    Args:\n",
        "        train_dataset (Pandas DataFrame):\n",
        "            The dataset on which to train the logistic regression \n",
        "            model. Must have a 'text' and 'label' column.\n",
        "        val_dataset (Pandas DataFrame):\n",
        "            The dataset on which to evaluate the logistic regression \n",
        "            model. Must have a 'text' and 'label' column.\n",
        "            \n",
        "    Returns:\n",
        "        LogisticRegression:\n",
        "            The trained model.\n",
        "    '''    \n",
        "    # TODO: Embed the dataset with the Word2vec representation, using\n",
        "    #       our `word2vec_embed` function. The result should be a list\n",
        "    #       of embeddings, one for each document.\n",
        "    word2vec_embeddings_train = [word2vec_embed_doc(doc) \n",
        "                                 for doc in train_dataset.text]\n",
        "    word2vec_embeddings_val = [word2vec_embed_doc(doc) \n",
        "                               for doc in val_dataset.text]\n",
        "    \n",
        "    # Convert the lists of embeddings to one big matrix\n",
        "    word2vec_embeddings_train = np.stack(word2vec_embeddings_train)\n",
        "    word2vec_embeddings_val = np.stack(word2vec_embeddings_val)\n",
        "    \n",
        "    # Define the classification model\n",
        "    model = LogisticRegression(max_iter=1_000)\n",
        "    \n",
        "    # Train the model\n",
        "    model.fit(word2vec_embeddings_train, train_dataset.label)\n",
        "    \n",
        "    # Evaluate the model on the validation set.\n",
        "    predictions = model.predict(word2vec_embeddings_val)\n",
        "    val_balanced_acc = balanced_accuracy_score(val_dataset.label, predictions)\n",
        "    print(f'The model achieved a {100 * val_balanced_acc:.2f}% '\n",
        "          f'balanced accuracy on the validation set.')\n",
        "    \n",
        "    # Return the trained model\n",
        "    return model\n",
        "\n",
        "\n",
        "model = word2vec_train_model(train_dataset=train, val_dataset=val)"
      ],
      "id": "68f61e4f-2203-422d-8b9c-3dd147758ad2"
    },
    {
      "cell_type": "markdown",
      "metadata": {
        "id": "c628f7e2-e85b-4a24-808b-480fdaced20c"
      },
      "source": [
        "That was... disappointing. What happened here?\n",
        "\n",
        "It turns out that these more advanced embeddings simply require **a lot** more data. Simply training new embeddings on our small dataset is nowhere near good enough. A lesson learnt in how a TF-IDF vector can be superior when we do not have pretrained embeddings at our disposal!\n",
        "\n",
        "In the next section, we will download pretrained FastText vectors, so that we can see the difference in performance."
      ],
      "id": "c628f7e2-e85b-4a24-808b-480fdaced20c"
    },
    {
      "cell_type": "code",
      "execution_count": null,
      "metadata": {
        "id": "piclp0tEnhOA"
      },
      "outputs": [],
      "source": [
        "# Delete the Word2vec embeddings again, to save some memory\n",
        "del word2vec, model\n",
        "gc.collect()"
      ],
      "id": "piclp0tEnhOA"
    },
    {
      "cell_type": "markdown",
      "metadata": {
        "id": "c8fa6d4d-72ab-4945-8068-3ee0ec5f5178"
      },
      "source": [
        "## FastText Representation <a class=\"anchor\" id=\"section5\"></a>"
      ],
      "id": "c8fa6d4d-72ab-4945-8068-3ee0ec5f5178"
    },
    {
      "cell_type": "markdown",
      "metadata": {
        "id": "9e9e8a98-a6a0-4af4-a797-d0bb86c26677"
      },
      "source": [
        "As we saw in the lecture, the FastText embeddings are so similar to the Word2vec embeddings that training them again will result in roughly the same poor performance as we saw with the Word2vec embeddings.\n",
        "\n",
        "So instead, let us take our first step into the world of transfer learning, and download pretrained FastText embeddings. These take up quite a lot of disk space, and will take some time to download."
      ],
      "id": "9e9e8a98-a6a0-4af4-a797-d0bb86c26677"
    },
    {
      "cell_type": "code",
      "execution_count": null,
      "metadata": {
        "id": "5a840620-fc00-4f6c-89b9-14669110448f"
      },
      "outputs": [],
      "source": [
        "%%time\n",
        "\n",
        "def load_pretrained_fasttext_model() -> fasttext.FastText._FastText:\n",
        "    '''Downloads pretrained FastText model and loads it.\n",
        "    \n",
        "    Returns:\n",
        "        FastText model:\n",
        "            The pretrained FastText model.\n",
        "    '''\n",
        "    # Download the model if it has not been downloaded already\n",
        "    fasttext.util.download_model('en', if_exists='ignore')\n",
        "    \n",
        "    # Load the model\n",
        "    import warnings\n",
        "    with warnings.catch_warnings():\n",
        "        warnings.simplefilter('ignore')\n",
        "        ft_model = fasttext.load_model('cc.en.300.bin')\n",
        "    \n",
        "    # Return the model\n",
        "    return ft_model\n",
        "    \n",
        "ft_model = load_pretrained_fasttext_model()"
      ],
      "id": "5a840620-fc00-4f6c-89b9-14669110448f"
    },
    {
      "cell_type": "markdown",
      "metadata": {
        "id": "8b1a7ecd-8bcc-4287-82d8-0b4431a1f8b8"
      },
      "source": [
        "With the FastText model loaded, we can now get word vectors by using the `get_word_vector` method:"
      ],
      "id": "8b1a7ecd-8bcc-4287-82d8-0b4431a1f8b8"
    },
    {
      "cell_type": "code",
      "execution_count": null,
      "metadata": {
        "id": "fc1be916-8abc-4392-96a8-901c6c6069f3"
      },
      "outputs": [],
      "source": [
        "ft_model.get_word_vector('Test')"
      ],
      "id": "fc1be916-8abc-4392-96a8-901c6c6069f3"
    },
    {
      "cell_type": "markdown",
      "metadata": {
        "id": "308ebd12-a3f5-41b1-a74a-38772a17ca2a"
      },
      "source": [
        "As mentioned in the lecture, this FastText model can deal with words not in its vocabulary:"
      ],
      "id": "308ebd12-a3f5-41b1-a74a-38772a17ca2a"
    },
    {
      "cell_type": "code",
      "execution_count": null,
      "metadata": {
        "id": "61ce5baf-09d1-4454-9fbe-2f6b68ef911e"
      },
      "outputs": [],
      "source": [
        "ft_model.get_word_vector('Thisisnotaword')"
      ],
      "id": "61ce5baf-09d1-4454-9fbe-2f6b68ef911e"
    },
    {
      "cell_type": "markdown",
      "metadata": {
        "id": "c7ede010-4dfe-4556-a88d-55c35794c833"
      },
      "source": [
        "As we also mentioned in the lecture, FastText _distinguishes_ sentences from words. Technically speaking, we could use the `get_word_vector` on a document to get a vector for the entire document. What that would do is simply create n-grams for all of the document, embed those individually, and add them up.\n",
        "\n",
        "The model usually performs better by _first_ splitting the document into words, compute n-gram embeddings _within every word_, the sum of which would then constitute the individual word embeddings. To arrive at the sentence embeddings we then take the mean of all the word embeddings.\n",
        "\n",
        "This difference between these two approaches is reflected in the `fasttext` API by the `get_word_vector` and `get_sentence_vector` methods, the latter of which is the \"proper\" one to use when embedding documents.\n",
        "\n",
        "Here is an example of such an embedding:"
      ],
      "id": "c7ede010-4dfe-4556-a88d-55c35794c833"
    },
    {
      "cell_type": "code",
      "execution_count": null,
      "metadata": {
        "id": "289589c7-737f-48ea-922c-057734fcb34b"
      },
      "outputs": [],
      "source": [
        "ft_model.get_sentence_vector('This is a document')"
      ],
      "id": "289589c7-737f-48ea-922c-057734fcb34b"
    },
    {
      "cell_type": "markdown",
      "metadata": {
        "id": "61914d8f-86cd-41a3-a821-7d8273989d16"
      },
      "source": [
        "Okay, all that remains to do now is to extract the FastText embeddings from all of our documents and train a logistic regression classifier. Let's get to it!\n",
        "\n",
        "*Fill in the missing lines of code in the following function.*"
      ],
      "id": "61914d8f-86cd-41a3-a821-7d8273989d16"
    },
    {
      "cell_type": "code",
      "execution_count": null,
      "metadata": {
        "id": "a8c86a6d-2265-4342-b39c-3041ecb1c03c"
      },
      "outputs": [],
      "source": [
        "def fasttext_train_model(train_dataset: pd.DataFrame,\n",
        "                         val_dataset: pd.DataFrame) -> LogisticRegression:\n",
        "    '''Trains a logistic regression model on a FastText embedded corpus.\n",
        "    \n",
        "    Args:\n",
        "        train_dataset (Pandas DataFrame):\n",
        "            The dataset on which to train the logistic regression \n",
        "            model. Must have a 'text' and 'label' column.\n",
        "        val_dataset (Pandas DataFrame):\n",
        "            The dataset on which to evaluate the logistic regression \n",
        "            model. Must have a 'text' and 'label' column.\n",
        "            \n",
        "    Returns:\n",
        "        LogisticRegression:\n",
        "            The trained model.\n",
        "    '''    \n",
        "    # TODO: Embed the dataset with the FastText representation, using\n",
        "    #       the `get_sentence_vector` method of our `ft_model`. The result \n",
        "    #       should be a list of embeddings, one for each document.\n",
        "    fasttext_embeddings_train = [ft_model.get_sentence_vector(doc) \n",
        "                                 for doc in train_dataset.text]\n",
        "    fasttext_embeddings_val = [ft_model.get_sentence_vector(doc) \n",
        "                               for doc in val_dataset.text]\n",
        "    \n",
        "    # Convert the lists of embeddings to one big matrix\n",
        "    fasttext_embeddings_train = np.stack(fasttext_embeddings_train)\n",
        "    fasttext_embeddings_val = np.stack(fasttext_embeddings_val)\n",
        "    \n",
        "    # Define the classification model\n",
        "    model = LogisticRegression(max_iter=1_000)\n",
        "    \n",
        "    # Train the model\n",
        "    model.fit(fasttext_embeddings_train, train_dataset.label)\n",
        "    \n",
        "    # Evaluate the model on the validation set.\n",
        "    predictions = model.predict(fasttext_embeddings_val)\n",
        "    val_balanced_acc = balanced_accuracy_score(val_dataset.label, predictions)\n",
        "    print(f'The model achieved a {100 * val_balanced_acc:.2f}% '\n",
        "          f'balanced accuracy on the validation set.')\n",
        "    \n",
        "    # Return the trained model\n",
        "    return model\n",
        "\n",
        "\n",
        "model = fasttext_train_model(train_dataset=train, val_dataset=val)"
      ],
      "id": "a8c86a6d-2265-4342-b39c-3041ecb1c03c"
    },
    {
      "cell_type": "markdown",
      "metadata": {
        "id": "EPN7O04tgmwn"
      },
      "source": [
        "The performance definitely improved upon our \"hometrained\" Word2vec vectors, but it is still falling way short of the simpler TF-IDF vectors.\n",
        "\n",
        "A reason why this might be the case is that predicting emotion might be too simple a task, as simply looking for keywords appearing in the text (like \"angry\") suffices in most cases to classify the documents accurately."
      ],
      "id": "EPN7O04tgmwn"
    },
    {
      "cell_type": "code",
      "execution_count": null,
      "metadata": {
        "id": "jKRnCaaQnROC"
      },
      "outputs": [],
      "source": [
        "# Delete the FastText model again, to save some memory\n",
        "del ft_model, model\n",
        "gc.collect()"
      ],
      "id": "jKRnCaaQnROC"
    },
    {
      "cell_type": "markdown",
      "metadata": {
        "id": "983c9557-a034-4282-914b-39238eb31d6e"
      },
      "source": [
        "## Transformer Representation <a class=\"anchor\" id=\"section6\"></a>"
      ],
      "id": "983c9557-a034-4282-914b-39238eb31d6e"
    },
    {
      "cell_type": "markdown",
      "metadata": {
        "id": "74e79f92-fd1b-4668-81bd-cd499c1e3830"
      },
      "source": [
        "Our final step into the world of representations is the transformer embedding.\n",
        "\n",
        "We will be utilising transfer learning here, as we really should do in 99.9% of all cases. To achieve this, we will be using the `transformers` library, which makes using state-of-the-art transformer embeddings really simple.\n",
        "\n",
        "In this section we will be using the `roberta-base` model, but this can be replaced by almost all of the models available on [the HuggingFace Hub](https://hf.co). Go check it out and replace `roberta-base` in the code below with your favorite model!"
      ],
      "id": "74e79f92-fd1b-4668-81bd-cd499c1e3830"
    },
    {
      "cell_type": "code",
      "execution_count": null,
      "metadata": {
        "id": "D55U-nSDRN3x"
      },
      "outputs": [],
      "source": [
        "def load_pretrained_transformer(model_id: str = 'roberta-base') -> tuple:\n",
        "    '''Load pretrained transformer with its tokeniser.\n",
        "\n",
        "    Args:\n",
        "        model_id (str, optional):\n",
        "            The transformer model to load. Defaults to 'roberta-base'.\n",
        "\n",
        "    Returns:\n",
        "        tuple:\n",
        "            A pair of the pretrained transformer and its tokeniser.\n",
        "    '''\n",
        "    # Create list of all the labels in the dataset\n",
        "    labels = ['sadness', 'joy', 'love', 'anger', 'fear', 'surprise']\n",
        "    \n",
        "    # Load model\n",
        "    config = dict(num_labels=len(labels),\n",
        "                  id2label={id:lbl for id, lbl in enumerate(labels)},\n",
        "                  label2id={lbl:id for id, lbl in enumerate(labels)})\n",
        "    config = AutoConfig.from_pretrained(model_id, **config)\n",
        "    tokeniser = AutoTokenizer.from_pretrained(model_id)\n",
        "    model = AutoModelForSequenceClassification.from_pretrained(model_id, \n",
        "                                                               config=config)\n",
        "    \n",
        "    return model, tokeniser\n",
        "\n",
        "\n",
        "tf_model, tokeniser = load_pretrained_transformer()"
      ],
      "id": "D55U-nSDRN3x"
    },
    {
      "cell_type": "markdown",
      "metadata": {
        "id": "LnFa6oCcVs2f"
      },
      "source": [
        "With the pretrained model and tokeniser loaded, we next need to tokenise our corpus. Recall that to **tokenise** a document simply means that we split it up in smaller parts. This could be words, but these transformer tokenisers tend to split up some words into *subwords*. Let's see a quick example of this:"
      ],
      "id": "LnFa6oCcVs2f"
    },
    {
      "cell_type": "code",
      "execution_count": null,
      "metadata": {
        "id": "7kNnlcV6V-A-"
      },
      "outputs": [],
      "source": [
        "doc = 'This tokeniser is really quite extravagant.'\n",
        "[tokeniser.decode(tok) for tok in tokeniser(doc).input_ids]"
      ],
      "id": "7kNnlcV6V-A-"
    },
    {
      "cell_type": "markdown",
      "metadata": {
        "id": "qND4GY6marT_"
      },
      "source": [
        "We see a few differences from merely splitting up by words:\n",
        "1. Punctuation gets its own token.\n",
        "2. The documents are separated by the special tokens `<s>` and `</s>`.\n",
        "3. Some words are split into multiple tokens. Here we se that \"tokeniser\" was split into the tokens `token` and `iser`.\n",
        "\n",
        "Let us split our dataset into tokens now.\n",
        "\n",
        "*Fill in the missing lines of code in the following function.*"
      ],
      "id": "qND4GY6marT_"
    },
    {
      "cell_type": "code",
      "execution_count": null,
      "metadata": {
        "id": "QfgzuBRmRwbs"
      },
      "outputs": [],
      "source": [
        "def tokenise_corpus(dataset: pd.DataFrame, tokeniser) -> Dataset: \n",
        "    '''Tokenises a dataset according to a pretrained tokeniser.\n",
        "    \n",
        "    Args:\n",
        "        dataset (Pandas DataFrame):\n",
        "            The dataset to tokenise. Must have 'text' and 'label' columns.\n",
        "            \n",
        "    Returns:\n",
        "        HuggingFace Dataset:\n",
        "            The tokenised dataset.\n",
        "    '''\n",
        "    # Build HuggingFace datasets\n",
        "    dataset = Dataset.from_dict(dict(doc=dataset.text, labels=dataset.label))\n",
        "    \n",
        "    # TODO: Create a function which takes a dictionary as input and which calls \n",
        "    #       our `tokeniser` on the `doc` entry of the dictionary. When calling\n",
        "    #       `tokeniser` you want to set `truncation=True` and `padding=True`, as\n",
        "    #       otherwise you will encounter an error!\n",
        "    def tokenise(examples: dict) -> dict:\n",
        "        doc = examples['doc']\n",
        "        return tokeniser(doc, truncation=True, padding=True)\n",
        "\n",
        "    # Tokenise dataset\n",
        "    tokenised = dataset.map(tokenise, batched=True)\n",
        "\n",
        "    # Return tokenised dataset\n",
        "    return tokenised\n",
        "\n",
        "tokenised_train = tokenise_corpus(train, tokeniser=tokeniser)\n",
        "tokenised_val = tokenise_corpus(val, tokeniser=tokeniser)"
      ],
      "id": "QfgzuBRmRwbs"
    },
    {
      "cell_type": "markdown",
      "metadata": {
        "id": "-Xz7B5O0cKXM"
      },
      "source": [
        "With the pretrained model loaded and our datasets all tokenised, we are now ready to finetune our very own transformer model. The following function will set up the training arguments and finetune our model.\n",
        "\n",
        "If you have not already done so, I would advise you to enable GPU acceleration when finetuning, as otherwise it might take a long time. You can do this in the Colab notebook by clicking `Runtime -> Change runtime type -> Hardware accelerator = GPU`."
      ],
      "id": "-Xz7B5O0cKXM"
    },
    {
      "cell_type": "code",
      "execution_count": null,
      "metadata": {
        "id": "3e029182-1cf9-40ea-8c08-0c8d90208c42"
      },
      "outputs": [],
      "source": [
        "def finetune_transformer(tf_model, \n",
        "                         tokenised_train: Dataset, \n",
        "                         tokenised_val: Dataset):\n",
        "    '''Train transformer model.\n",
        "\n",
        "    Args:\n",
        "        tf_model (HuggingFace Transformer):\n",
        "            Pretrained transformer.\n",
        "        tokenised_train (Dataset):\n",
        "            Tokenised train dataset.\n",
        "        tokenised_val (Dataset):\n",
        "            Tokenised validation dataset.\n",
        "\n",
        "    Returns:\n",
        "      HuggingFace Transformer:\n",
        "          Finetuned transformer.\n",
        "    '''\n",
        "    # Set up training arguments\n",
        "    tf_logging.set_verbosity_warning()\n",
        "    training_args = TrainingArguments(\n",
        "        output_dir='.',\n",
        "        evaluation_strategy='epoch',\n",
        "        logging_strategy='epoch',\n",
        "        save_strategy='epoch',\n",
        "        num_train_epochs=3,\n",
        "        per_device_train_batch_size=8,\n",
        "        per_device_eval_batch_size=8,\n",
        "        gradient_accumulation_steps=4,\n",
        "        learning_rate=2e-5,\n",
        "        warmup_steps=len(train) // 8,\n",
        "        save_total_limit=1,\n",
        "        load_best_model_at_end=True\n",
        "    )\n",
        "\n",
        "    def compute_metrics(predictions_and_labels: tuple) -> dict:\n",
        "        '''Helper function to compute the balanced accuracy'''\n",
        "        predictions, labels = predictions_and_labels\n",
        "        predictions = predictions.argmax(axis=-1)\n",
        "        results = balanced_accuracy_score(labels, predictions)\n",
        "        return dict(balanced_accuracy=results)\n",
        "\n",
        "    # Initialise the Trainer object\n",
        "    trainer = Trainer(model=tf_model,\n",
        "                      args=training_args,\n",
        "                      train_dataset=tokenised_train,\n",
        "                      eval_dataset=tokenised_val,\n",
        "                      tokenizer=tokeniser,\n",
        "                      compute_metrics=compute_metrics)\n",
        "    \n",
        "    # Train\n",
        "    trainer.train()\n",
        "    \n",
        "    return tf_model\n",
        "    \n",
        "\n",
        "tf_model = finetune_transformer(tf_model=tf_model,\n",
        "                                tokenised_train=tokenised_train,\n",
        "                                tokenised_val=tokenised_val)"
      ],
      "id": "3e029182-1cf9-40ea-8c08-0c8d90208c42"
    },
    {
      "cell_type": "markdown",
      "metadata": {
        "id": "ac92b1da-f9f5-48d8-aa9c-7633dd7e653c"
      },
      "source": [
        "We see that our transformer model succesfully beat the TF-IDF representation, hoorah! But note the amount of hoops we had to go through to arrive at a finetuned transformer model. Our application really has to be worth it to make us go through all of that!\n",
        "\n",
        "Note that we only trained our transformer model for 3 epochs (meaning 3 passes of the training dataset), so you might be able to achieve an even better performance by training it for longer. You can even look into [early stopping](https://huggingface.co/transformers/main_classes/callback.html?highlight=earlystopping#transformers.EarlyStoppingCallback), which automatically stops training the model when performance stops improving. Try it out!\n",
        "\n",
        "Finally, as the big finale, you can play around with your newly finetuned model, by running the cell below:"
      ],
      "id": "ac92b1da-f9f5-48d8-aa9c-7633dd7e653c"
    },
    {
      "cell_type": "code",
      "execution_count": null,
      "metadata": {
        "id": "IqMvTuwOWrYg"
      },
      "outputs": [],
      "source": [
        "# Disable HuggingFace logging\n",
        "tf_logging.set_verbosity_error()\n",
        "\n",
        "# Define the widget elements\n",
        "label = widgets.Label('Write some text:')\n",
        "input_box = widgets.Text()\n",
        "button = widgets.Button(description='Predict emotion')\n",
        "output_label = widgets.Label()\n",
        "\n",
        "# Display the widget elements\n",
        "for elt in [label, input_box, button, output_label]:\n",
        "    display(elt)\n",
        "\n",
        "def predict_emotion(_):\n",
        "    '''Predicts emotion of text'''\n",
        "\n",
        "    # Set Transformer to evaluation mode\n",
        "    tf_model.eval()\n",
        "\n",
        "    # Get the document\n",
        "    doc = input_box.value\n",
        "\n",
        "    # Show \"in progress\" text\n",
        "    output_label.value = \"Computing prediction...\"\n",
        "\n",
        "    # Create list of all the labels in the dataset\n",
        "    labels = ['sadness', 'joy', 'love', 'anger', 'fear',\n",
        "              'surprise', 'trust', 'disgust', 'anticipation']\n",
        "\n",
        "    # Load the tokeniser\n",
        "    tokeniser = AutoTokenizer.from_pretrained('roberta-base')\n",
        "    \n",
        "    # Get emotion prediction\n",
        "    tokens = tokeniser(doc,\n",
        "                      return_tensors='pt',\n",
        "                      truncation=True,\n",
        "                      padding=True)\n",
        "    prediction = tf_model.cpu()(**tokens).logits.argmax().int()\n",
        "    \n",
        "    # Convert the prediction to the corresponding label\n",
        "    predicted_label = labels[prediction]\n",
        "    \n",
        "    # Show the predicted label\n",
        "    output_label.value = predicted_label\n",
        "\n",
        "# Connect the button with the prediction function\n",
        "button.on_click(predict_emotion)"
      ],
      "id": "IqMvTuwOWrYg"
    },
    {
      "cell_type": "markdown",
      "metadata": {
        "id": "3b04eeb2-ac43-4295-9b80-001f98647c1c"
      },
      "source": [
        "## Conclusion"
      ],
      "id": "3b04eeb2-ac43-4295-9b80-001f98647c1c"
    },
    {
      "cell_type": "markdown",
      "metadata": {
        "id": "e4e55c76-e403-4a64-8581-b5b80ecabe44"
      },
      "source": [
        "In this worksheet, we explored several ways of embedding text, and used those embeddings to classify the emotion of a given text.\n",
        "\n",
        "We saw that the bag-of-words embeddings were performing really well, despite their simplicity, and that we could only beat them with the TF-IDF vectors with some hyperparameter tweaking. We tried the Word2vec vectors next, and saw that training them from scratch on our small corpus resulted in terrible performance. To remedy that, we downloaded pretrained FastText vectors and used those instead, which increased the performance, but still falling short of the TF-IDF performance. Lastly, we used pretrained transformer embeddings for the task, which successfully improved upon the TF-IDF vectors."
      ],
      "id": "e4e55c76-e403-4a64-8581-b5b80ecabe44"
    }
  ],
  "metadata": {
    "accelerator": "GPU",
    "colab": {
      "machine_shape": "hm",
      "provenance": [],
      "include_colab_link": true
    },
    "kernelspec": {
      "display_name": "Python 3 (ipykernel)",
      "language": "python",
      "name": "python3"
    },
    "language_info": {
      "codemirror_mode": {
        "name": "ipython",
        "version": 3
      },
      "file_extension": ".py",
      "mimetype": "text/x-python",
      "name": "python",
      "nbconvert_exporter": "python",
      "pygments_lexer": "ipython3",
      "version": "3.8.3"
    },
    "widgets": {
      "application/vnd.jupyter.widget-state+json": {
        "01079fa7ff094494a35071d541d125b1": {
          "model_module": "@jupyter-widgets/controls",
          "model_module_version": "1.5.0",
          "model_name": "HBoxModel",
          "state": {
            "_dom_classes": [],
            "_model_module": "@jupyter-widgets/controls",
            "_model_module_version": "1.5.0",
            "_model_name": "HBoxModel",
            "_view_count": null,
            "_view_module": "@jupyter-widgets/controls",
            "_view_module_version": "1.5.0",
            "_view_name": "HBoxView",
            "box_style": "",
            "children": [
              "IPY_MODEL_8c538a2c21f648c8b9a6910a58b05ab5",
              "IPY_MODEL_f1a6b5f6f685448b86b0d7d9e764eec5",
              "IPY_MODEL_5bf2ce6aa91947acafe04d146a1e7179"
            ],
            "layout": "IPY_MODEL_5236716211254cfbafee24ad0354c404"
          }
        },
        "013b1fb7916148c88154cab70bf7b485": {
          "model_module": "@jupyter-widgets/base",
          "model_module_version": "1.2.0",
          "model_name": "LayoutModel",
          "state": {
            "_model_module": "@jupyter-widgets/base",
            "_model_module_version": "1.2.0",
            "_model_name": "LayoutModel",
            "_view_count": null,
            "_view_module": "@jupyter-widgets/base",
            "_view_module_version": "1.2.0",
            "_view_name": "LayoutView",
            "align_content": null,
            "align_items": null,
            "align_self": null,
            "border": null,
            "bottom": null,
            "display": null,
            "flex": null,
            "flex_flow": null,
            "grid_area": null,
            "grid_auto_columns": null,
            "grid_auto_flow": null,
            "grid_auto_rows": null,
            "grid_column": null,
            "grid_gap": null,
            "grid_row": null,
            "grid_template_areas": null,
            "grid_template_columns": null,
            "grid_template_rows": null,
            "height": null,
            "justify_content": null,
            "justify_items": null,
            "left": null,
            "margin": null,
            "max_height": null,
            "max_width": null,
            "min_height": null,
            "min_width": null,
            "object_fit": null,
            "object_position": null,
            "order": null,
            "overflow": null,
            "overflow_x": null,
            "overflow_y": null,
            "padding": null,
            "right": null,
            "top": null,
            "visibility": null,
            "width": null
          }
        },
        "023f2b7603ae45d38aef0a3afcdc0140": {
          "model_module": "@jupyter-widgets/controls",
          "model_module_version": "1.5.0",
          "model_name": "DescriptionStyleModel",
          "state": {
            "_model_module": "@jupyter-widgets/controls",
            "_model_module_version": "1.5.0",
            "_model_name": "DescriptionStyleModel",
            "_view_count": null,
            "_view_module": "@jupyter-widgets/base",
            "_view_module_version": "1.2.0",
            "_view_name": "StyleView",
            "description_width": ""
          }
        },
        "03ae044f630b46f78e8f942745e681ef": {
          "model_module": "@jupyter-widgets/controls",
          "model_module_version": "1.5.0",
          "model_name": "DescriptionStyleModel",
          "state": {
            "_model_module": "@jupyter-widgets/controls",
            "_model_module_version": "1.5.0",
            "_model_name": "DescriptionStyleModel",
            "_view_count": null,
            "_view_module": "@jupyter-widgets/base",
            "_view_module_version": "1.2.0",
            "_view_name": "StyleView",
            "description_width": ""
          }
        },
        "03fd84118e904affa0ac67922321f58a": {
          "model_module": "@jupyter-widgets/controls",
          "model_module_version": "1.5.0",
          "model_name": "HBoxModel",
          "state": {
            "_dom_classes": [],
            "_model_module": "@jupyter-widgets/controls",
            "_model_module_version": "1.5.0",
            "_model_name": "HBoxModel",
            "_view_count": null,
            "_view_module": "@jupyter-widgets/controls",
            "_view_module_version": "1.5.0",
            "_view_name": "HBoxView",
            "box_style": "",
            "children": [
              "IPY_MODEL_bf688447f9794de49e36e77ebadbcd3c",
              "IPY_MODEL_e5a8028d852042ff814bf9ddc1a2646a",
              "IPY_MODEL_c7a8fec0d0c14bc3b1215a85c2e53441"
            ],
            "layout": "IPY_MODEL_f607ecccd50449fa8dbd9da35c0731ba"
          }
        },
        "0507915c018447eab2f97e8e10224858": {
          "model_module": "@jupyter-widgets/controls",
          "model_module_version": "1.5.0",
          "model_name": "DescriptionStyleModel",
          "state": {
            "_model_module": "@jupyter-widgets/controls",
            "_model_module_version": "1.5.0",
            "_model_name": "DescriptionStyleModel",
            "_view_count": null,
            "_view_module": "@jupyter-widgets/base",
            "_view_module_version": "1.2.0",
            "_view_name": "StyleView",
            "description_width": ""
          }
        },
        "073fcf8678e042a78418eb0670cab4f9": {
          "model_module": "@jupyter-widgets/base",
          "model_module_version": "1.2.0",
          "model_name": "LayoutModel",
          "state": {
            "_model_module": "@jupyter-widgets/base",
            "_model_module_version": "1.2.0",
            "_model_name": "LayoutModel",
            "_view_count": null,
            "_view_module": "@jupyter-widgets/base",
            "_view_module_version": "1.2.0",
            "_view_name": "LayoutView",
            "align_content": null,
            "align_items": null,
            "align_self": null,
            "border": null,
            "bottom": null,
            "display": null,
            "flex": null,
            "flex_flow": null,
            "grid_area": null,
            "grid_auto_columns": null,
            "grid_auto_flow": null,
            "grid_auto_rows": null,
            "grid_column": null,
            "grid_gap": null,
            "grid_row": null,
            "grid_template_areas": null,
            "grid_template_columns": null,
            "grid_template_rows": null,
            "height": null,
            "justify_content": null,
            "justify_items": null,
            "left": null,
            "margin": null,
            "max_height": null,
            "max_width": null,
            "min_height": null,
            "min_width": null,
            "object_fit": null,
            "object_position": null,
            "order": null,
            "overflow": null,
            "overflow_x": null,
            "overflow_y": null,
            "padding": null,
            "right": null,
            "top": null,
            "visibility": null,
            "width": null
          }
        },
        "0ae95c00ad4a4b7d9e8eab7b8ae215a8": {
          "model_module": "@jupyter-widgets/base",
          "model_module_version": "1.2.0",
          "model_name": "LayoutModel",
          "state": {
            "_model_module": "@jupyter-widgets/base",
            "_model_module_version": "1.2.0",
            "_model_name": "LayoutModel",
            "_view_count": null,
            "_view_module": "@jupyter-widgets/base",
            "_view_module_version": "1.2.0",
            "_view_name": "LayoutView",
            "align_content": null,
            "align_items": null,
            "align_self": null,
            "border": null,
            "bottom": null,
            "display": null,
            "flex": null,
            "flex_flow": null,
            "grid_area": null,
            "grid_auto_columns": null,
            "grid_auto_flow": null,
            "grid_auto_rows": null,
            "grid_column": null,
            "grid_gap": null,
            "grid_row": null,
            "grid_template_areas": null,
            "grid_template_columns": null,
            "grid_template_rows": null,
            "height": null,
            "justify_content": null,
            "justify_items": null,
            "left": null,
            "margin": null,
            "max_height": null,
            "max_width": null,
            "min_height": null,
            "min_width": null,
            "object_fit": null,
            "object_position": null,
            "order": null,
            "overflow": null,
            "overflow_x": null,
            "overflow_y": null,
            "padding": null,
            "right": null,
            "top": null,
            "visibility": null,
            "width": null
          }
        },
        "0deea2f3d50147318a9f5d77022a1f95": {
          "model_module": "@jupyter-widgets/controls",
          "model_module_version": "1.5.0",
          "model_name": "FloatProgressModel",
          "state": {
            "_dom_classes": [],
            "_model_module": "@jupyter-widgets/controls",
            "_model_module_version": "1.5.0",
            "_model_name": "FloatProgressModel",
            "_view_count": null,
            "_view_module": "@jupyter-widgets/controls",
            "_view_module_version": "1.5.0",
            "_view_name": "ProgressView",
            "bar_style": "success",
            "description": "",
            "description_tooltip": null,
            "layout": "IPY_MODEL_6d8c44493cb24a878032f8a38b267375",
            "max": 2000,
            "min": 0,
            "orientation": "horizontal",
            "style": "IPY_MODEL_becf841008ab4dd5a8ee90c8d4de77c6",
            "value": 2000
          }
        },
        "11658450e38e43419c8058fa25e677b9": {
          "model_module": "@jupyter-widgets/controls",
          "model_module_version": "1.5.0",
          "model_name": "HTMLModel",
          "state": {
            "_dom_classes": [],
            "_model_module": "@jupyter-widgets/controls",
            "_model_module_version": "1.5.0",
            "_model_name": "HTMLModel",
            "_view_count": null,
            "_view_module": "@jupyter-widgets/controls",
            "_view_module_version": "1.5.0",
            "_view_name": "HTMLView",
            "description": "",
            "description_tooltip": null,
            "layout": "IPY_MODEL_f57b0f2a06d042b7854403f9f0d24f94",
            "placeholder": "​",
            "style": "IPY_MODEL_59c0bb26da9a474485a6a80059cd44ff",
            "value": "Generating validation split: 100%"
          }
        },
        "1303e92307514753ba13c555819c5595": {
          "model_module": "@jupyter-widgets/controls",
          "model_module_version": "1.5.0",
          "model_name": "FloatProgressModel",
          "state": {
            "_dom_classes": [],
            "_model_module": "@jupyter-widgets/controls",
            "_model_module_version": "1.5.0",
            "_model_name": "FloatProgressModel",
            "_view_count": null,
            "_view_module": "@jupyter-widgets/controls",
            "_view_module_version": "1.5.0",
            "_view_name": "ProgressView",
            "bar_style": "success",
            "description": "",
            "description_tooltip": null,
            "layout": "IPY_MODEL_48c313be3234465c90eb2a6dc01bf22b",
            "max": 8686,
            "min": 0,
            "orientation": "horizontal",
            "style": "IPY_MODEL_916c72f2c5954c17989253ed574ab9c3",
            "value": 8686
          }
        },
        "174c798b0bdc47b5b7cad0f72c10bbd0": {
          "model_module": "@jupyter-widgets/controls",
          "model_module_version": "1.5.0",
          "model_name": "ProgressStyleModel",
          "state": {
            "_model_module": "@jupyter-widgets/controls",
            "_model_module_version": "1.5.0",
            "_model_name": "ProgressStyleModel",
            "_view_count": null,
            "_view_module": "@jupyter-widgets/base",
            "_view_module_version": "1.2.0",
            "_view_name": "StyleView",
            "bar_color": null,
            "description_width": ""
          }
        },
        "176560d2858b4afaa4567f99e22698dd": {
          "model_module": "@jupyter-widgets/base",
          "model_module_version": "1.2.0",
          "model_name": "LayoutModel",
          "state": {
            "_model_module": "@jupyter-widgets/base",
            "_model_module_version": "1.2.0",
            "_model_name": "LayoutModel",
            "_view_count": null,
            "_view_module": "@jupyter-widgets/base",
            "_view_module_version": "1.2.0",
            "_view_name": "LayoutView",
            "align_content": null,
            "align_items": null,
            "align_self": null,
            "border": null,
            "bottom": null,
            "display": null,
            "flex": null,
            "flex_flow": null,
            "grid_area": null,
            "grid_auto_columns": null,
            "grid_auto_flow": null,
            "grid_auto_rows": null,
            "grid_column": null,
            "grid_gap": null,
            "grid_row": null,
            "grid_template_areas": null,
            "grid_template_columns": null,
            "grid_template_rows": null,
            "height": null,
            "justify_content": null,
            "justify_items": null,
            "left": null,
            "margin": null,
            "max_height": null,
            "max_width": null,
            "min_height": null,
            "min_width": null,
            "object_fit": null,
            "object_position": null,
            "order": null,
            "overflow": null,
            "overflow_x": null,
            "overflow_y": null,
            "padding": null,
            "right": null,
            "top": null,
            "visibility": null,
            "width": null
          }
        },
        "1ad9c568846649989119e5c57b1b2b3a": {
          "model_module": "@jupyter-widgets/base",
          "model_module_version": "1.2.0",
          "model_name": "LayoutModel",
          "state": {
            "_model_module": "@jupyter-widgets/base",
            "_model_module_version": "1.2.0",
            "_model_name": "LayoutModel",
            "_view_count": null,
            "_view_module": "@jupyter-widgets/base",
            "_view_module_version": "1.2.0",
            "_view_name": "LayoutView",
            "align_content": null,
            "align_items": null,
            "align_self": null,
            "border": null,
            "bottom": null,
            "display": null,
            "flex": null,
            "flex_flow": null,
            "grid_area": null,
            "grid_auto_columns": null,
            "grid_auto_flow": null,
            "grid_auto_rows": null,
            "grid_column": null,
            "grid_gap": null,
            "grid_row": null,
            "grid_template_areas": null,
            "grid_template_columns": null,
            "grid_template_rows": null,
            "height": null,
            "justify_content": null,
            "justify_items": null,
            "left": null,
            "margin": null,
            "max_height": null,
            "max_width": null,
            "min_height": null,
            "min_width": null,
            "object_fit": null,
            "object_position": null,
            "order": null,
            "overflow": null,
            "overflow_x": null,
            "overflow_y": null,
            "padding": null,
            "right": null,
            "top": null,
            "visibility": null,
            "width": null
          }
        },
        "1b636deabd174627b43841b6e3a438ee": {
          "model_module": "@jupyter-widgets/base",
          "model_module_version": "1.2.0",
          "model_name": "LayoutModel",
          "state": {
            "_model_module": "@jupyter-widgets/base",
            "_model_module_version": "1.2.0",
            "_model_name": "LayoutModel",
            "_view_count": null,
            "_view_module": "@jupyter-widgets/base",
            "_view_module_version": "1.2.0",
            "_view_name": "LayoutView",
            "align_content": null,
            "align_items": null,
            "align_self": null,
            "border": null,
            "bottom": null,
            "display": null,
            "flex": null,
            "flex_flow": null,
            "grid_area": null,
            "grid_auto_columns": null,
            "grid_auto_flow": null,
            "grid_auto_rows": null,
            "grid_column": null,
            "grid_gap": null,
            "grid_row": null,
            "grid_template_areas": null,
            "grid_template_columns": null,
            "grid_template_rows": null,
            "height": null,
            "justify_content": null,
            "justify_items": null,
            "left": null,
            "margin": null,
            "max_height": null,
            "max_width": null,
            "min_height": null,
            "min_width": null,
            "object_fit": null,
            "object_position": null,
            "order": null,
            "overflow": null,
            "overflow_x": null,
            "overflow_y": null,
            "padding": null,
            "right": null,
            "top": null,
            "visibility": null,
            "width": null
          }
        },
        "1badc2893e52490bbd858bd90eef74cc": {
          "model_module": "@jupyter-widgets/base",
          "model_module_version": "1.2.0",
          "model_name": "LayoutModel",
          "state": {
            "_model_module": "@jupyter-widgets/base",
            "_model_module_version": "1.2.0",
            "_model_name": "LayoutModel",
            "_view_count": null,
            "_view_module": "@jupyter-widgets/base",
            "_view_module_version": "1.2.0",
            "_view_name": "LayoutView",
            "align_content": null,
            "align_items": null,
            "align_self": null,
            "border": null,
            "bottom": null,
            "display": null,
            "flex": null,
            "flex_flow": null,
            "grid_area": null,
            "grid_auto_columns": null,
            "grid_auto_flow": null,
            "grid_auto_rows": null,
            "grid_column": null,
            "grid_gap": null,
            "grid_row": null,
            "grid_template_areas": null,
            "grid_template_columns": null,
            "grid_template_rows": null,
            "height": null,
            "justify_content": null,
            "justify_items": null,
            "left": null,
            "margin": null,
            "max_height": null,
            "max_width": null,
            "min_height": null,
            "min_width": null,
            "object_fit": null,
            "object_position": null,
            "order": null,
            "overflow": null,
            "overflow_x": null,
            "overflow_y": null,
            "padding": null,
            "right": null,
            "top": null,
            "visibility": null,
            "width": null
          }
        },
        "1be710468156453aa31dee8f116a45b8": {
          "model_module": "@jupyter-widgets/controls",
          "model_module_version": "1.5.0",
          "model_name": "FloatProgressModel",
          "state": {
            "_dom_classes": [],
            "_model_module": "@jupyter-widgets/controls",
            "_model_module_version": "1.5.0",
            "_model_name": "FloatProgressModel",
            "_view_count": null,
            "_view_module": "@jupyter-widgets/controls",
            "_view_module_version": "1.5.0",
            "_view_name": "ProgressView",
            "bar_style": "success",
            "description": "",
            "description_tooltip": null,
            "layout": "IPY_MODEL_a7b99b5ee9504f0d9c401c22adf7439f",
            "max": 3623,
            "min": 0,
            "orientation": "horizontal",
            "style": "IPY_MODEL_3b38d4b1d17943088818ba102e41f68b",
            "value": 3623
          }
        },
        "1d4c7f641e1a41b3959cbe1034e698b4": {
          "model_module": "@jupyter-widgets/controls",
          "model_module_version": "1.5.0",
          "model_name": "ProgressStyleModel",
          "state": {
            "_model_module": "@jupyter-widgets/controls",
            "_model_module_version": "1.5.0",
            "_model_name": "ProgressStyleModel",
            "_view_count": null,
            "_view_module": "@jupyter-widgets/base",
            "_view_module_version": "1.2.0",
            "_view_name": "StyleView",
            "bar_color": null,
            "description_width": ""
          }
        },
        "1ff49242fa184672825264ecf44293fc": {
          "model_module": "@jupyter-widgets/controls",
          "model_module_version": "1.5.0",
          "model_name": "HTMLModel",
          "state": {
            "_dom_classes": [],
            "_model_module": "@jupyter-widgets/controls",
            "_model_module_version": "1.5.0",
            "_model_name": "HTMLModel",
            "_view_count": null,
            "_view_module": "@jupyter-widgets/controls",
            "_view_module_version": "1.5.0",
            "_view_name": "HTMLView",
            "description": "",
            "description_tooltip": null,
            "layout": "IPY_MODEL_c2b0f8bffcd74a51a6660ff4d27ec104",
            "placeholder": "​",
            "style": "IPY_MODEL_c92dbbaf428b483abbf2c91131e51028",
            "value": "Downloading builder script: 100%"
          }
        },
        "221b822126ad43c5a66219f52df1a052": {
          "model_module": "@jupyter-widgets/controls",
          "model_module_version": "1.5.0",
          "model_name": "HTMLModel",
          "state": {
            "_dom_classes": [],
            "_model_module": "@jupyter-widgets/controls",
            "_model_module_version": "1.5.0",
            "_model_name": "HTMLModel",
            "_view_count": null,
            "_view_module": "@jupyter-widgets/controls",
            "_view_module_version": "1.5.0",
            "_view_name": "HTMLView",
            "description": "",
            "description_tooltip": null,
            "layout": "IPY_MODEL_75d5061063524df896920050e1fd09ab",
            "placeholder": "​",
            "style": "IPY_MODEL_370f21a899bb4183a2d6e527d36b6227",
            "value": "Downloading data: 100%"
          }
        },
        "24b57c60299b4c3091ecad6b3889bfdf": {
          "model_module": "@jupyter-widgets/base",
          "model_module_version": "1.2.0",
          "model_name": "LayoutModel",
          "state": {
            "_model_module": "@jupyter-widgets/base",
            "_model_module_version": "1.2.0",
            "_model_name": "LayoutModel",
            "_view_count": null,
            "_view_module": "@jupyter-widgets/base",
            "_view_module_version": "1.2.0",
            "_view_name": "LayoutView",
            "align_content": null,
            "align_items": null,
            "align_self": null,
            "border": null,
            "bottom": null,
            "display": null,
            "flex": null,
            "flex_flow": null,
            "grid_area": null,
            "grid_auto_columns": null,
            "grid_auto_flow": null,
            "grid_auto_rows": null,
            "grid_column": null,
            "grid_gap": null,
            "grid_row": null,
            "grid_template_areas": null,
            "grid_template_columns": null,
            "grid_template_rows": null,
            "height": null,
            "justify_content": null,
            "justify_items": null,
            "left": null,
            "margin": null,
            "max_height": null,
            "max_width": null,
            "min_height": null,
            "min_width": null,
            "object_fit": null,
            "object_position": null,
            "order": null,
            "overflow": null,
            "overflow_x": null,
            "overflow_y": null,
            "padding": null,
            "right": null,
            "top": null,
            "visibility": null,
            "width": null
          }
        },
        "27bf4005488d430da5053089927fd629": {
          "model_module": "@jupyter-widgets/controls",
          "model_module_version": "1.5.0",
          "model_name": "DescriptionStyleModel",
          "state": {
            "_model_module": "@jupyter-widgets/controls",
            "_model_module_version": "1.5.0",
            "_model_name": "DescriptionStyleModel",
            "_view_count": null,
            "_view_module": "@jupyter-widgets/base",
            "_view_module_version": "1.2.0",
            "_view_name": "StyleView",
            "description_width": ""
          }
        },
        "27dfe9c772e04d6c9e90a9c46ec0dd84": {
          "model_module": "@jupyter-widgets/controls",
          "model_module_version": "1.5.0",
          "model_name": "DescriptionStyleModel",
          "state": {
            "_model_module": "@jupyter-widgets/controls",
            "_model_module_version": "1.5.0",
            "_model_name": "DescriptionStyleModel",
            "_view_count": null,
            "_view_module": "@jupyter-widgets/base",
            "_view_module_version": "1.2.0",
            "_view_name": "StyleView",
            "description_width": ""
          }
        },
        "2a805c240da448498a289a1f605bf381": {
          "model_module": "@jupyter-widgets/base",
          "model_module_version": "1.2.0",
          "model_name": "LayoutModel",
          "state": {
            "_model_module": "@jupyter-widgets/base",
            "_model_module_version": "1.2.0",
            "_model_name": "LayoutModel",
            "_view_count": null,
            "_view_module": "@jupyter-widgets/base",
            "_view_module_version": "1.2.0",
            "_view_name": "LayoutView",
            "align_content": null,
            "align_items": null,
            "align_self": null,
            "border": null,
            "bottom": null,
            "display": null,
            "flex": null,
            "flex_flow": null,
            "grid_area": null,
            "grid_auto_columns": null,
            "grid_auto_flow": null,
            "grid_auto_rows": null,
            "grid_column": null,
            "grid_gap": null,
            "grid_row": null,
            "grid_template_areas": null,
            "grid_template_columns": null,
            "grid_template_rows": null,
            "height": null,
            "justify_content": null,
            "justify_items": null,
            "left": null,
            "margin": null,
            "max_height": null,
            "max_width": null,
            "min_height": null,
            "min_width": null,
            "object_fit": null,
            "object_position": null,
            "order": null,
            "overflow": null,
            "overflow_x": null,
            "overflow_y": null,
            "padding": null,
            "right": null,
            "top": null,
            "visibility": null,
            "width": null
          }
        },
        "2eb30d6876824cbf984f77a976c6f062": {
          "model_module": "@jupyter-widgets/controls",
          "model_module_version": "1.5.0",
          "model_name": "DescriptionStyleModel",
          "state": {
            "_model_module": "@jupyter-widgets/controls",
            "_model_module_version": "1.5.0",
            "_model_name": "DescriptionStyleModel",
            "_view_count": null,
            "_view_module": "@jupyter-widgets/base",
            "_view_module_version": "1.2.0",
            "_view_name": "StyleView",
            "description_width": ""
          }
        },
        "31504c5aee8f426796bc764a053da14b": {
          "model_module": "@jupyter-widgets/controls",
          "model_module_version": "1.5.0",
          "model_name": "DescriptionStyleModel",
          "state": {
            "_model_module": "@jupyter-widgets/controls",
            "_model_module_version": "1.5.0",
            "_model_name": "DescriptionStyleModel",
            "_view_count": null,
            "_view_module": "@jupyter-widgets/base",
            "_view_module_version": "1.2.0",
            "_view_name": "StyleView",
            "description_width": ""
          }
        },
        "32599441f9994ca7842a60e7cbcd793d": {
          "model_module": "@jupyter-widgets/controls",
          "model_module_version": "1.5.0",
          "model_name": "HTMLModel",
          "state": {
            "_dom_classes": [],
            "_model_module": "@jupyter-widgets/controls",
            "_model_module_version": "1.5.0",
            "_model_name": "HTMLModel",
            "_view_count": null,
            "_view_module": "@jupyter-widgets/controls",
            "_view_module_version": "1.5.0",
            "_view_name": "HTMLView",
            "description": "",
            "description_tooltip": null,
            "layout": "IPY_MODEL_9cfa55561fcc4963a7729489de72283c",
            "placeholder": "​",
            "style": "IPY_MODEL_832cb1b8681a4f12b6b33a72732702e9",
            "value": " 207k/207k [00:00&lt;00:00, 5.16MB/s]"
          }
        },
        "328d6bd4d99345c7bd566d1a99fb0dde": {
          "model_module": "@jupyter-widgets/base",
          "model_module_version": "1.2.0",
          "model_name": "LayoutModel",
          "state": {
            "_model_module": "@jupyter-widgets/base",
            "_model_module_version": "1.2.0",
            "_model_name": "LayoutModel",
            "_view_count": null,
            "_view_module": "@jupyter-widgets/base",
            "_view_module_version": "1.2.0",
            "_view_name": "LayoutView",
            "align_content": null,
            "align_items": null,
            "align_self": null,
            "border": null,
            "bottom": null,
            "display": null,
            "flex": null,
            "flex_flow": null,
            "grid_area": null,
            "grid_auto_columns": null,
            "grid_auto_flow": null,
            "grid_auto_rows": null,
            "grid_column": null,
            "grid_gap": null,
            "grid_row": null,
            "grid_template_areas": null,
            "grid_template_columns": null,
            "grid_template_rows": null,
            "height": null,
            "justify_content": null,
            "justify_items": null,
            "left": null,
            "margin": null,
            "max_height": null,
            "max_width": null,
            "min_height": null,
            "min_width": null,
            "object_fit": null,
            "object_position": null,
            "order": null,
            "overflow": null,
            "overflow_x": null,
            "overflow_y": null,
            "padding": null,
            "right": null,
            "top": null,
            "visibility": null,
            "width": null
          }
        },
        "3355cf3b2e994892a3ef69c07a0a255d": {
          "model_module": "@jupyter-widgets/controls",
          "model_module_version": "1.5.0",
          "model_name": "HBoxModel",
          "state": {
            "_dom_classes": [],
            "_model_module": "@jupyter-widgets/controls",
            "_model_module_version": "1.5.0",
            "_model_name": "HBoxModel",
            "_view_count": null,
            "_view_module": "@jupyter-widgets/controls",
            "_view_module_version": "1.5.0",
            "_view_name": "HBoxView",
            "box_style": "",
            "children": [
              "IPY_MODEL_3624c8092141462a922c34f2ee8fee22",
              "IPY_MODEL_5156bee6d1e3423d8ee0f8d43f8ce64e",
              "IPY_MODEL_d4c161ee8d97414fb393713969eeb956"
            ],
            "layout": "IPY_MODEL_fbbc946b7dbe40efa39784a50c6572eb"
          }
        },
        "36152db81a6040018e47de8d99e8054b": {
          "model_module": "@jupyter-widgets/base",
          "model_module_version": "1.2.0",
          "model_name": "LayoutModel",
          "state": {
            "_model_module": "@jupyter-widgets/base",
            "_model_module_version": "1.2.0",
            "_model_name": "LayoutModel",
            "_view_count": null,
            "_view_module": "@jupyter-widgets/base",
            "_view_module_version": "1.2.0",
            "_view_name": "LayoutView",
            "align_content": null,
            "align_items": null,
            "align_self": null,
            "border": null,
            "bottom": null,
            "display": null,
            "flex": null,
            "flex_flow": null,
            "grid_area": null,
            "grid_auto_columns": null,
            "grid_auto_flow": null,
            "grid_auto_rows": null,
            "grid_column": null,
            "grid_gap": null,
            "grid_row": null,
            "grid_template_areas": null,
            "grid_template_columns": null,
            "grid_template_rows": null,
            "height": null,
            "justify_content": null,
            "justify_items": null,
            "left": null,
            "margin": null,
            "max_height": null,
            "max_width": null,
            "min_height": null,
            "min_width": null,
            "object_fit": null,
            "object_position": null,
            "order": null,
            "overflow": null,
            "overflow_x": null,
            "overflow_y": null,
            "padding": null,
            "right": null,
            "top": null,
            "visibility": null,
            "width": null
          }
        },
        "3624c8092141462a922c34f2ee8fee22": {
          "model_module": "@jupyter-widgets/controls",
          "model_module_version": "1.5.0",
          "model_name": "HTMLModel",
          "state": {
            "_dom_classes": [],
            "_model_module": "@jupyter-widgets/controls",
            "_model_module_version": "1.5.0",
            "_model_name": "HTMLModel",
            "_view_count": null,
            "_view_module": "@jupyter-widgets/controls",
            "_view_module_version": "1.5.0",
            "_view_name": "HTMLView",
            "description": "",
            "description_tooltip": null,
            "layout": "IPY_MODEL_61ba04f44a3d4253ba52a5cdb2417641",
            "placeholder": "​",
            "style": "IPY_MODEL_fafb89c39b1a4e1e8b9de185c5c18058",
            "value": "Generating test split: 100%"
          }
        },
        "370f21a899bb4183a2d6e527d36b6227": {
          "model_module": "@jupyter-widgets/controls",
          "model_module_version": "1.5.0",
          "model_name": "DescriptionStyleModel",
          "state": {
            "_model_module": "@jupyter-widgets/controls",
            "_model_module_version": "1.5.0",
            "_model_name": "DescriptionStyleModel",
            "_view_count": null,
            "_view_module": "@jupyter-widgets/base",
            "_view_module_version": "1.2.0",
            "_view_name": "StyleView",
            "description_width": ""
          }
        },
        "3a461800dd7e4e1d86afe3e5ec7998d3": {
          "model_module": "@jupyter-widgets/controls",
          "model_module_version": "1.5.0",
          "model_name": "HTMLModel",
          "state": {
            "_dom_classes": [],
            "_model_module": "@jupyter-widgets/controls",
            "_model_module_version": "1.5.0",
            "_model_name": "HTMLModel",
            "_view_count": null,
            "_view_module": "@jupyter-widgets/controls",
            "_view_module_version": "1.5.0",
            "_view_name": "HTMLView",
            "description": "",
            "description_tooltip": null,
            "layout": "IPY_MODEL_d486911073f942ef9cd6908d9b43791c",
            "placeholder": "​",
            "style": "IPY_MODEL_815104bc78c645aebc4566f871293758",
            "value": " 3.62k/3.62k [00:00&lt;00:00, 109kB/s]"
          }
        },
        "3a8638bcea914509987036a2c1b4e910": {
          "model_module": "@jupyter-widgets/controls",
          "model_module_version": "1.5.0",
          "model_name": "FloatProgressModel",
          "state": {
            "_dom_classes": [],
            "_model_module": "@jupyter-widgets/controls",
            "_model_module_version": "1.5.0",
            "_model_name": "FloatProgressModel",
            "_view_count": null,
            "_view_module": "@jupyter-widgets/controls",
            "_view_module_version": "1.5.0",
            "_view_name": "ProgressView",
            "bar_style": "",
            "description": "",
            "description_tooltip": null,
            "layout": "IPY_MODEL_44b0734d023a4fff9458a8b5b280eeeb",
            "max": 16000,
            "min": 0,
            "orientation": "horizontal",
            "style": "IPY_MODEL_174c798b0bdc47b5b7cad0f72c10bbd0",
            "value": 16000
          }
        },
        "3b38d4b1d17943088818ba102e41f68b": {
          "model_module": "@jupyter-widgets/controls",
          "model_module_version": "1.5.0",
          "model_name": "ProgressStyleModel",
          "state": {
            "_model_module": "@jupyter-widgets/controls",
            "_model_module_version": "1.5.0",
            "_model_name": "ProgressStyleModel",
            "_view_count": null,
            "_view_module": "@jupyter-widgets/base",
            "_view_module_version": "1.2.0",
            "_view_name": "StyleView",
            "bar_color": null,
            "description_width": ""
          }
        },
        "4077c9b307fd40c38969a94135cb2043": {
          "model_module": "@jupyter-widgets/controls",
          "model_module_version": "1.5.0",
          "model_name": "ProgressStyleModel",
          "state": {
            "_model_module": "@jupyter-widgets/controls",
            "_model_module_version": "1.5.0",
            "_model_name": "ProgressStyleModel",
            "_view_count": null,
            "_view_module": "@jupyter-widgets/base",
            "_view_module_version": "1.2.0",
            "_view_name": "StyleView",
            "bar_color": null,
            "description_width": ""
          }
        },
        "4453dd1f98b9490187757e9270d29193": {
          "model_module": "@jupyter-widgets/controls",
          "model_module_version": "1.5.0",
          "model_name": "ProgressStyleModel",
          "state": {
            "_model_module": "@jupyter-widgets/controls",
            "_model_module_version": "1.5.0",
            "_model_name": "ProgressStyleModel",
            "_view_count": null,
            "_view_module": "@jupyter-widgets/base",
            "_view_module_version": "1.2.0",
            "_view_name": "StyleView",
            "bar_color": null,
            "description_width": ""
          }
        },
        "44b0734d023a4fff9458a8b5b280eeeb": {
          "model_module": "@jupyter-widgets/base",
          "model_module_version": "1.2.0",
          "model_name": "LayoutModel",
          "state": {
            "_model_module": "@jupyter-widgets/base",
            "_model_module_version": "1.2.0",
            "_model_name": "LayoutModel",
            "_view_count": null,
            "_view_module": "@jupyter-widgets/base",
            "_view_module_version": "1.2.0",
            "_view_name": "LayoutView",
            "align_content": null,
            "align_items": null,
            "align_self": null,
            "border": null,
            "bottom": null,
            "display": null,
            "flex": null,
            "flex_flow": null,
            "grid_area": null,
            "grid_auto_columns": null,
            "grid_auto_flow": null,
            "grid_auto_rows": null,
            "grid_column": null,
            "grid_gap": null,
            "grid_row": null,
            "grid_template_areas": null,
            "grid_template_columns": null,
            "grid_template_rows": null,
            "height": null,
            "justify_content": null,
            "justify_items": null,
            "left": null,
            "margin": null,
            "max_height": null,
            "max_width": null,
            "min_height": null,
            "min_width": null,
            "object_fit": null,
            "object_position": null,
            "order": null,
            "overflow": null,
            "overflow_x": null,
            "overflow_y": null,
            "padding": null,
            "right": null,
            "top": null,
            "visibility": null,
            "width": null
          }
        },
        "485cd6d204954c63b3b55c068c64bf03": {
          "model_module": "@jupyter-widgets/controls",
          "model_module_version": "1.5.0",
          "model_name": "ProgressStyleModel",
          "state": {
            "_model_module": "@jupyter-widgets/controls",
            "_model_module_version": "1.5.0",
            "_model_name": "ProgressStyleModel",
            "_view_count": null,
            "_view_module": "@jupyter-widgets/base",
            "_view_module_version": "1.2.0",
            "_view_name": "StyleView",
            "bar_color": null,
            "description_width": ""
          }
        },
        "48c313be3234465c90eb2a6dc01bf22b": {
          "model_module": "@jupyter-widgets/base",
          "model_module_version": "1.2.0",
          "model_name": "LayoutModel",
          "state": {
            "_model_module": "@jupyter-widgets/base",
            "_model_module_version": "1.2.0",
            "_model_name": "LayoutModel",
            "_view_count": null,
            "_view_module": "@jupyter-widgets/base",
            "_view_module_version": "1.2.0",
            "_view_name": "LayoutView",
            "align_content": null,
            "align_items": null,
            "align_self": null,
            "border": null,
            "bottom": null,
            "display": null,
            "flex": null,
            "flex_flow": null,
            "grid_area": null,
            "grid_auto_columns": null,
            "grid_auto_flow": null,
            "grid_auto_rows": null,
            "grid_column": null,
            "grid_gap": null,
            "grid_row": null,
            "grid_template_areas": null,
            "grid_template_columns": null,
            "grid_template_rows": null,
            "height": null,
            "justify_content": null,
            "justify_items": null,
            "left": null,
            "margin": null,
            "max_height": null,
            "max_width": null,
            "min_height": null,
            "min_width": null,
            "object_fit": null,
            "object_position": null,
            "order": null,
            "overflow": null,
            "overflow_x": null,
            "overflow_y": null,
            "padding": null,
            "right": null,
            "top": null,
            "visibility": null,
            "width": null
          }
        },
        "49b6f6dc822046dbb14eec25d0df78f1": {
          "model_module": "@jupyter-widgets/controls",
          "model_module_version": "1.5.0",
          "model_name": "ProgressStyleModel",
          "state": {
            "_model_module": "@jupyter-widgets/controls",
            "_model_module_version": "1.5.0",
            "_model_name": "ProgressStyleModel",
            "_view_count": null,
            "_view_module": "@jupyter-widgets/base",
            "_view_module_version": "1.2.0",
            "_view_name": "StyleView",
            "bar_color": null,
            "description_width": ""
          }
        },
        "4a163eb365cc486bbb6564b579dc9436": {
          "model_module": "@jupyter-widgets/base",
          "model_module_version": "1.2.0",
          "model_name": "LayoutModel",
          "state": {
            "_model_module": "@jupyter-widgets/base",
            "_model_module_version": "1.2.0",
            "_model_name": "LayoutModel",
            "_view_count": null,
            "_view_module": "@jupyter-widgets/base",
            "_view_module_version": "1.2.0",
            "_view_name": "LayoutView",
            "align_content": null,
            "align_items": null,
            "align_self": null,
            "border": null,
            "bottom": null,
            "display": null,
            "flex": null,
            "flex_flow": null,
            "grid_area": null,
            "grid_auto_columns": null,
            "grid_auto_flow": null,
            "grid_auto_rows": null,
            "grid_column": null,
            "grid_gap": null,
            "grid_row": null,
            "grid_template_areas": null,
            "grid_template_columns": null,
            "grid_template_rows": null,
            "height": null,
            "justify_content": null,
            "justify_items": null,
            "left": null,
            "margin": null,
            "max_height": null,
            "max_width": null,
            "min_height": null,
            "min_width": null,
            "object_fit": null,
            "object_position": null,
            "order": null,
            "overflow": null,
            "overflow_x": null,
            "overflow_y": null,
            "padding": null,
            "right": null,
            "top": null,
            "visibility": "hidden",
            "width": null
          }
        },
        "4a19bea38899401c8082f953c911b45f": {
          "model_module": "@jupyter-widgets/base",
          "model_module_version": "1.2.0",
          "model_name": "LayoutModel",
          "state": {
            "_model_module": "@jupyter-widgets/base",
            "_model_module_version": "1.2.0",
            "_model_name": "LayoutModel",
            "_view_count": null,
            "_view_module": "@jupyter-widgets/base",
            "_view_module_version": "1.2.0",
            "_view_name": "LayoutView",
            "align_content": null,
            "align_items": null,
            "align_self": null,
            "border": null,
            "bottom": null,
            "display": null,
            "flex": null,
            "flex_flow": null,
            "grid_area": null,
            "grid_auto_columns": null,
            "grid_auto_flow": null,
            "grid_auto_rows": null,
            "grid_column": null,
            "grid_gap": null,
            "grid_row": null,
            "grid_template_areas": null,
            "grid_template_columns": null,
            "grid_template_rows": null,
            "height": null,
            "justify_content": null,
            "justify_items": null,
            "left": null,
            "margin": null,
            "max_height": null,
            "max_width": null,
            "min_height": null,
            "min_width": null,
            "object_fit": null,
            "object_position": null,
            "order": null,
            "overflow": null,
            "overflow_x": null,
            "overflow_y": null,
            "padding": null,
            "right": null,
            "top": null,
            "visibility": "hidden",
            "width": null
          }
        },
        "513de320b2244c5f84ebaca237a852b6": {
          "model_module": "@jupyter-widgets/controls",
          "model_module_version": "1.5.0",
          "model_name": "HBoxModel",
          "state": {
            "_dom_classes": [],
            "_model_module": "@jupyter-widgets/controls",
            "_model_module_version": "1.5.0",
            "_model_name": "HBoxModel",
            "_view_count": null,
            "_view_module": "@jupyter-widgets/controls",
            "_view_module_version": "1.5.0",
            "_view_name": "HBoxView",
            "box_style": "",
            "children": [
              "IPY_MODEL_a36735b196f043088b16823686a5aab9",
              "IPY_MODEL_3a8638bcea914509987036a2c1b4e910",
              "IPY_MODEL_9681ebf3ba8b4f06a04b98bb98731d23"
            ],
            "layout": "IPY_MODEL_4a19bea38899401c8082f953c911b45f"
          }
        },
        "5156bee6d1e3423d8ee0f8d43f8ce64e": {
          "model_module": "@jupyter-widgets/controls",
          "model_module_version": "1.5.0",
          "model_name": "FloatProgressModel",
          "state": {
            "_dom_classes": [],
            "_model_module": "@jupyter-widgets/controls",
            "_model_module_version": "1.5.0",
            "_model_name": "FloatProgressModel",
            "_view_count": null,
            "_view_module": "@jupyter-widgets/controls",
            "_view_module_version": "1.5.0",
            "_view_name": "ProgressView",
            "bar_style": "",
            "description": "",
            "description_tooltip": null,
            "layout": "IPY_MODEL_a408f254ed404980a30b997994841d53",
            "max": 2000,
            "min": 0,
            "orientation": "horizontal",
            "style": "IPY_MODEL_c6c08a9eb18f47d08cb1cd3103e18322",
            "value": 2000
          }
        },
        "51c66480a9cd48d2a1a569992b78a64a": {
          "model_module": "@jupyter-widgets/controls",
          "model_module_version": "1.5.0",
          "model_name": "FloatProgressModel",
          "state": {
            "_dom_classes": [],
            "_model_module": "@jupyter-widgets/controls",
            "_model_module_version": "1.5.0",
            "_model_name": "FloatProgressModel",
            "_view_count": null,
            "_view_module": "@jupyter-widgets/controls",
            "_view_module_version": "1.5.0",
            "_view_name": "ProgressView",
            "bar_style": "success",
            "description": "",
            "description_tooltip": null,
            "layout": "IPY_MODEL_24b57c60299b4c3091ecad6b3889bfdf",
            "max": 1658616,
            "min": 0,
            "orientation": "horizontal",
            "style": "IPY_MODEL_d2e5b84167224112a2a4de41a8000837",
            "value": 1658616
          }
        },
        "5236716211254cfbafee24ad0354c404": {
          "model_module": "@jupyter-widgets/base",
          "model_module_version": "1.2.0",
          "model_name": "LayoutModel",
          "state": {
            "_model_module": "@jupyter-widgets/base",
            "_model_module_version": "1.2.0",
            "_model_name": "LayoutModel",
            "_view_count": null,
            "_view_module": "@jupyter-widgets/base",
            "_view_module_version": "1.2.0",
            "_view_name": "LayoutView",
            "align_content": null,
            "align_items": null,
            "align_self": null,
            "border": null,
            "bottom": null,
            "display": null,
            "flex": null,
            "flex_flow": null,
            "grid_area": null,
            "grid_auto_columns": null,
            "grid_auto_flow": null,
            "grid_auto_rows": null,
            "grid_column": null,
            "grid_gap": null,
            "grid_row": null,
            "grid_template_areas": null,
            "grid_template_columns": null,
            "grid_template_rows": null,
            "height": null,
            "justify_content": null,
            "justify_items": null,
            "left": null,
            "margin": null,
            "max_height": null,
            "max_width": null,
            "min_height": null,
            "min_width": null,
            "object_fit": null,
            "object_position": null,
            "order": null,
            "overflow": null,
            "overflow_x": null,
            "overflow_y": null,
            "padding": null,
            "right": null,
            "top": null,
            "visibility": null,
            "width": null
          }
        },
        "5258437ad1d04253815a7d30f2a7e182": {
          "model_module": "@jupyter-widgets/controls",
          "model_module_version": "1.5.0",
          "model_name": "HTMLModel",
          "state": {
            "_dom_classes": [],
            "_model_module": "@jupyter-widgets/controls",
            "_model_module_version": "1.5.0",
            "_model_name": "HTMLModel",
            "_view_count": null,
            "_view_module": "@jupyter-widgets/controls",
            "_view_module_version": "1.5.0",
            "_view_name": "HTMLView",
            "description": "",
            "description_tooltip": null,
            "layout": "IPY_MODEL_88c8f655275f4e4a9aa179750605a0b2",
            "placeholder": "​",
            "style": "IPY_MODEL_c9c3a1f1c2614b1eaaf4f06a0bee561c",
            "value": " 1.66M/1.66M [00:01&lt;00:00, 2.25MB/s]"
          }
        },
        "562feae10eac4a2ea6243d244075d665": {
          "model_module": "@jupyter-widgets/controls",
          "model_module_version": "1.5.0",
          "model_name": "DescriptionStyleModel",
          "state": {
            "_model_module": "@jupyter-widgets/controls",
            "_model_module_version": "1.5.0",
            "_model_name": "DescriptionStyleModel",
            "_view_count": null,
            "_view_module": "@jupyter-widgets/base",
            "_view_module_version": "1.2.0",
            "_view_name": "StyleView",
            "description_width": ""
          }
        },
        "5640d2d07bc04e4a8924a7e3a99eb75f": {
          "model_module": "@jupyter-widgets/controls",
          "model_module_version": "1.5.0",
          "model_name": "HTMLModel",
          "state": {
            "_dom_classes": [],
            "_model_module": "@jupyter-widgets/controls",
            "_model_module_version": "1.5.0",
            "_model_name": "HTMLModel",
            "_view_count": null,
            "_view_module": "@jupyter-widgets/controls",
            "_view_module_version": "1.5.0",
            "_view_name": "HTMLView",
            "description": "",
            "description_tooltip": null,
            "layout": "IPY_MODEL_36152db81a6040018e47de8d99e8054b",
            "placeholder": "​",
            "style": "IPY_MODEL_c358ec8e250e47c58e2afdc0dc07a92b",
            "value": " 2000/2000 [00:10&lt;00:00, 130.74it/s]"
          }
        },
        "594b6a900c3643889ceaba1a5086bf2f": {
          "model_module": "@jupyter-widgets/controls",
          "model_module_version": "1.5.0",
          "model_name": "DescriptionStyleModel",
          "state": {
            "_model_module": "@jupyter-widgets/controls",
            "_model_module_version": "1.5.0",
            "_model_name": "DescriptionStyleModel",
            "_view_count": null,
            "_view_module": "@jupyter-widgets/base",
            "_view_module_version": "1.2.0",
            "_view_name": "StyleView",
            "description_width": ""
          }
        },
        "5991ec3a3cfa4444895686492200b3b4": {
          "model_module": "@jupyter-widgets/controls",
          "model_module_version": "1.5.0",
          "model_name": "FloatProgressModel",
          "state": {
            "_dom_classes": [],
            "_model_module": "@jupyter-widgets/controls",
            "_model_module_version": "1.5.0",
            "_model_name": "FloatProgressModel",
            "_view_count": null,
            "_view_module": "@jupyter-widgets/controls",
            "_view_module_version": "1.5.0",
            "_view_name": "ProgressView",
            "bar_style": "success",
            "description": "",
            "description_tooltip": null,
            "layout": "IPY_MODEL_bddd759281b8445fbcfffa504113fdd6",
            "max": 16000,
            "min": 0,
            "orientation": "horizontal",
            "style": "IPY_MODEL_485cd6d204954c63b3b55c068c64bf03",
            "value": 16000
          }
        },
        "59c0bb26da9a474485a6a80059cd44ff": {
          "model_module": "@jupyter-widgets/controls",
          "model_module_version": "1.5.0",
          "model_name": "DescriptionStyleModel",
          "state": {
            "_model_module": "@jupyter-widgets/controls",
            "_model_module_version": "1.5.0",
            "_model_name": "DescriptionStyleModel",
            "_view_count": null,
            "_view_module": "@jupyter-widgets/base",
            "_view_module_version": "1.2.0",
            "_view_name": "StyleView",
            "description_width": ""
          }
        },
        "5bf2ce6aa91947acafe04d146a1e7179": {
          "model_module": "@jupyter-widgets/controls",
          "model_module_version": "1.5.0",
          "model_name": "HTMLModel",
          "state": {
            "_dom_classes": [],
            "_model_module": "@jupyter-widgets/controls",
            "_model_module_version": "1.5.0",
            "_model_name": "HTMLModel",
            "_view_count": null,
            "_view_module": "@jupyter-widgets/controls",
            "_view_module_version": "1.5.0",
            "_view_name": "HTMLView",
            "description": "",
            "description_tooltip": null,
            "layout": "IPY_MODEL_d0e5ee0c9c7c49edbc12ae7a031e84bb",
            "placeholder": "​",
            "style": "IPY_MODEL_d9b8718e4de347028078f997db1f7dbb",
            "value": " 204k/204k [00:00&lt;00:00, 4.54MB/s]"
          }
        },
        "5c7d02d7570e42a380141cb0db316a1b": {
          "model_module": "@jupyter-widgets/controls",
          "model_module_version": "1.5.0",
          "model_name": "HBoxModel",
          "state": {
            "_dom_classes": [],
            "_model_module": "@jupyter-widgets/controls",
            "_model_module_version": "1.5.0",
            "_model_name": "HBoxModel",
            "_view_count": null,
            "_view_module": "@jupyter-widgets/controls",
            "_view_module_version": "1.5.0",
            "_view_name": "HBoxView",
            "box_style": "",
            "children": [
              "IPY_MODEL_1ff49242fa184672825264ecf44293fc",
              "IPY_MODEL_1be710468156453aa31dee8f116a45b8",
              "IPY_MODEL_3a461800dd7e4e1d86afe3e5ec7998d3"
            ],
            "layout": "IPY_MODEL_1ad9c568846649989119e5c57b1b2b3a"
          }
        },
        "5ee00db5366540fe80c7ba9bba26b931": {
          "model_module": "@jupyter-widgets/controls",
          "model_module_version": "1.5.0",
          "model_name": "HBoxModel",
          "state": {
            "_dom_classes": [],
            "_model_module": "@jupyter-widgets/controls",
            "_model_module_version": "1.5.0",
            "_model_name": "HBoxModel",
            "_view_count": null,
            "_view_module": "@jupyter-widgets/controls",
            "_view_module_version": "1.5.0",
            "_view_name": "HBoxView",
            "box_style": "",
            "children": [
              "IPY_MODEL_892a82dbd9df493d8360a07e4e0dfd24",
              "IPY_MODEL_51c66480a9cd48d2a1a569992b78a64a",
              "IPY_MODEL_5258437ad1d04253815a7d30f2a7e182"
            ],
            "layout": "IPY_MODEL_d493129001e245da9f576134e390dbd4"
          }
        },
        "61ba04f44a3d4253ba52a5cdb2417641": {
          "model_module": "@jupyter-widgets/base",
          "model_module_version": "1.2.0",
          "model_name": "LayoutModel",
          "state": {
            "_model_module": "@jupyter-widgets/base",
            "_model_module_version": "1.2.0",
            "_model_name": "LayoutModel",
            "_view_count": null,
            "_view_module": "@jupyter-widgets/base",
            "_view_module_version": "1.2.0",
            "_view_name": "LayoutView",
            "align_content": null,
            "align_items": null,
            "align_self": null,
            "border": null,
            "bottom": null,
            "display": null,
            "flex": null,
            "flex_flow": null,
            "grid_area": null,
            "grid_auto_columns": null,
            "grid_auto_flow": null,
            "grid_auto_rows": null,
            "grid_column": null,
            "grid_gap": null,
            "grid_row": null,
            "grid_template_areas": null,
            "grid_template_columns": null,
            "grid_template_rows": null,
            "height": null,
            "justify_content": null,
            "justify_items": null,
            "left": null,
            "margin": null,
            "max_height": null,
            "max_width": null,
            "min_height": null,
            "min_width": null,
            "object_fit": null,
            "object_position": null,
            "order": null,
            "overflow": null,
            "overflow_x": null,
            "overflow_y": null,
            "padding": null,
            "right": null,
            "top": null,
            "visibility": null,
            "width": null
          }
        },
        "61e0fe42449e482a9009e036b1c80951": {
          "model_module": "@jupyter-widgets/controls",
          "model_module_version": "1.5.0",
          "model_name": "FloatProgressModel",
          "state": {
            "_dom_classes": [],
            "_model_module": "@jupyter-widgets/controls",
            "_model_module_version": "1.5.0",
            "_model_name": "FloatProgressModel",
            "_view_count": null,
            "_view_module": "@jupyter-widgets/controls",
            "_view_module_version": "1.5.0",
            "_view_name": "ProgressView",
            "bar_style": "success",
            "description": "",
            "description_tooltip": null,
            "layout": "IPY_MODEL_d11f818821e14165bc43f338544384b4",
            "max": 206760,
            "min": 0,
            "orientation": "horizontal",
            "style": "IPY_MODEL_4453dd1f98b9490187757e9270d29193",
            "value": 206760
          }
        },
        "65bc5d98b7eb4c7c8d0432573be527f8": {
          "model_module": "@jupyter-widgets/base",
          "model_module_version": "1.2.0",
          "model_name": "LayoutModel",
          "state": {
            "_model_module": "@jupyter-widgets/base",
            "_model_module_version": "1.2.0",
            "_model_name": "LayoutModel",
            "_view_count": null,
            "_view_module": "@jupyter-widgets/base",
            "_view_module_version": "1.2.0",
            "_view_name": "LayoutView",
            "align_content": null,
            "align_items": null,
            "align_self": null,
            "border": null,
            "bottom": null,
            "display": null,
            "flex": null,
            "flex_flow": null,
            "grid_area": null,
            "grid_auto_columns": null,
            "grid_auto_flow": null,
            "grid_auto_rows": null,
            "grid_column": null,
            "grid_gap": null,
            "grid_row": null,
            "grid_template_areas": null,
            "grid_template_columns": null,
            "grid_template_rows": null,
            "height": null,
            "justify_content": null,
            "justify_items": null,
            "left": null,
            "margin": null,
            "max_height": null,
            "max_width": null,
            "min_height": null,
            "min_width": null,
            "object_fit": null,
            "object_position": null,
            "order": null,
            "overflow": null,
            "overflow_x": null,
            "overflow_y": null,
            "padding": null,
            "right": null,
            "top": null,
            "visibility": null,
            "width": null
          }
        },
        "6a911706eaa84378859e171e8ee6104a": {
          "model_module": "@jupyter-widgets/controls",
          "model_module_version": "1.5.0",
          "model_name": "ProgressStyleModel",
          "state": {
            "_model_module": "@jupyter-widgets/controls",
            "_model_module_version": "1.5.0",
            "_model_name": "ProgressStyleModel",
            "_view_count": null,
            "_view_module": "@jupyter-widgets/base",
            "_view_module_version": "1.2.0",
            "_view_name": "StyleView",
            "bar_color": null,
            "description_width": ""
          }
        },
        "6b0936ff9aef49848251782701377597": {
          "model_module": "@jupyter-widgets/base",
          "model_module_version": "1.2.0",
          "model_name": "LayoutModel",
          "state": {
            "_model_module": "@jupyter-widgets/base",
            "_model_module_version": "1.2.0",
            "_model_name": "LayoutModel",
            "_view_count": null,
            "_view_module": "@jupyter-widgets/base",
            "_view_module_version": "1.2.0",
            "_view_name": "LayoutView",
            "align_content": null,
            "align_items": null,
            "align_self": null,
            "border": null,
            "bottom": null,
            "display": null,
            "flex": null,
            "flex_flow": null,
            "grid_area": null,
            "grid_auto_columns": null,
            "grid_auto_flow": null,
            "grid_auto_rows": null,
            "grid_column": null,
            "grid_gap": null,
            "grid_row": null,
            "grid_template_areas": null,
            "grid_template_columns": null,
            "grid_template_rows": null,
            "height": null,
            "justify_content": null,
            "justify_items": null,
            "left": null,
            "margin": null,
            "max_height": null,
            "max_width": null,
            "min_height": null,
            "min_width": null,
            "object_fit": null,
            "object_position": null,
            "order": null,
            "overflow": null,
            "overflow_x": null,
            "overflow_y": null,
            "padding": null,
            "right": null,
            "top": null,
            "visibility": null,
            "width": null
          }
        },
        "6d0a067671c74c6a9d254def2a9bd428": {
          "model_module": "@jupyter-widgets/controls",
          "model_module_version": "1.5.0",
          "model_name": "FloatProgressModel",
          "state": {
            "_dom_classes": [],
            "_model_module": "@jupyter-widgets/controls",
            "_model_module_version": "1.5.0",
            "_model_name": "FloatProgressModel",
            "_view_count": null,
            "_view_module": "@jupyter-widgets/controls",
            "_view_module_version": "1.5.0",
            "_view_name": "ProgressView",
            "bar_style": "success",
            "description": "",
            "description_tooltip": null,
            "layout": "IPY_MODEL_c24595dc70114fd995839e3c0be189ff",
            "max": 3280,
            "min": 0,
            "orientation": "horizontal",
            "style": "IPY_MODEL_49b6f6dc822046dbb14eec25d0df78f1",
            "value": 3280
          }
        },
        "6d4667cddb3e44f4b7df262f4c89237e": {
          "model_module": "@jupyter-widgets/controls",
          "model_module_version": "1.5.0",
          "model_name": "DescriptionStyleModel",
          "state": {
            "_model_module": "@jupyter-widgets/controls",
            "_model_module_version": "1.5.0",
            "_model_name": "DescriptionStyleModel",
            "_view_count": null,
            "_view_module": "@jupyter-widgets/base",
            "_view_module_version": "1.2.0",
            "_view_name": "StyleView",
            "description_width": ""
          }
        },
        "6d8c44493cb24a878032f8a38b267375": {
          "model_module": "@jupyter-widgets/base",
          "model_module_version": "1.2.0",
          "model_name": "LayoutModel",
          "state": {
            "_model_module": "@jupyter-widgets/base",
            "_model_module_version": "1.2.0",
            "_model_name": "LayoutModel",
            "_view_count": null,
            "_view_module": "@jupyter-widgets/base",
            "_view_module_version": "1.2.0",
            "_view_name": "LayoutView",
            "align_content": null,
            "align_items": null,
            "align_self": null,
            "border": null,
            "bottom": null,
            "display": null,
            "flex": null,
            "flex_flow": null,
            "grid_area": null,
            "grid_auto_columns": null,
            "grid_auto_flow": null,
            "grid_auto_rows": null,
            "grid_column": null,
            "grid_gap": null,
            "grid_row": null,
            "grid_template_areas": null,
            "grid_template_columns": null,
            "grid_template_rows": null,
            "height": null,
            "justify_content": null,
            "justify_items": null,
            "left": null,
            "margin": null,
            "max_height": null,
            "max_width": null,
            "min_height": null,
            "min_width": null,
            "object_fit": null,
            "object_position": null,
            "order": null,
            "overflow": null,
            "overflow_x": null,
            "overflow_y": null,
            "padding": null,
            "right": null,
            "top": null,
            "visibility": null,
            "width": null
          }
        },
        "6ed8529cc94a49a3906b78404d953d11": {
          "model_module": "@jupyter-widgets/controls",
          "model_module_version": "1.5.0",
          "model_name": "FloatProgressModel",
          "state": {
            "_dom_classes": [],
            "_model_module": "@jupyter-widgets/controls",
            "_model_module_version": "1.5.0",
            "_model_name": "FloatProgressModel",
            "_view_count": null,
            "_view_module": "@jupyter-widgets/controls",
            "_view_module_version": "1.5.0",
            "_view_name": "ProgressView",
            "bar_style": "",
            "description": "",
            "description_tooltip": null,
            "layout": "IPY_MODEL_d75425c97aae4af1ba09142e341a40d2",
            "max": 2000,
            "min": 0,
            "orientation": "horizontal",
            "style": "IPY_MODEL_6a911706eaa84378859e171e8ee6104a",
            "value": 2000
          }
        },
        "6f4773552d5345dabac2a5716df08353": {
          "model_module": "@jupyter-widgets/controls",
          "model_module_version": "1.5.0",
          "model_name": "HBoxModel",
          "state": {
            "_dom_classes": [],
            "_model_module": "@jupyter-widgets/controls",
            "_model_module_version": "1.5.0",
            "_model_name": "HBoxModel",
            "_view_count": null,
            "_view_module": "@jupyter-widgets/controls",
            "_view_module_version": "1.5.0",
            "_view_name": "HBoxView",
            "box_style": "",
            "children": [
              "IPY_MODEL_8959c9608ff44597b52fe716c614212a",
              "IPY_MODEL_1303e92307514753ba13c555819c5595",
              "IPY_MODEL_707a9ebb25d348f28984d639da6ebe91"
            ],
            "layout": "IPY_MODEL_79a81dd21c90435d926e19dfa32fce3e"
          }
        },
        "707a9ebb25d348f28984d639da6ebe91": {
          "model_module": "@jupyter-widgets/controls",
          "model_module_version": "1.5.0",
          "model_name": "HTMLModel",
          "state": {
            "_dom_classes": [],
            "_model_module": "@jupyter-widgets/controls",
            "_model_module_version": "1.5.0",
            "_model_name": "HTMLModel",
            "_view_count": null,
            "_view_module": "@jupyter-widgets/controls",
            "_view_module_version": "1.5.0",
            "_view_name": "HTMLView",
            "description": "",
            "description_tooltip": null,
            "layout": "IPY_MODEL_f7b9f051fbaa4e11abfedb01051d4f84",
            "placeholder": "​",
            "style": "IPY_MODEL_562feae10eac4a2ea6243d244075d665",
            "value": " 8.69k/8.69k [00:00&lt;00:00, 9.16kB/s]"
          }
        },
        "75d5061063524df896920050e1fd09ab": {
          "model_module": "@jupyter-widgets/base",
          "model_module_version": "1.2.0",
          "model_name": "LayoutModel",
          "state": {
            "_model_module": "@jupyter-widgets/base",
            "_model_module_version": "1.2.0",
            "_model_name": "LayoutModel",
            "_view_count": null,
            "_view_module": "@jupyter-widgets/base",
            "_view_module_version": "1.2.0",
            "_view_name": "LayoutView",
            "align_content": null,
            "align_items": null,
            "align_self": null,
            "border": null,
            "bottom": null,
            "display": null,
            "flex": null,
            "flex_flow": null,
            "grid_area": null,
            "grid_auto_columns": null,
            "grid_auto_flow": null,
            "grid_auto_rows": null,
            "grid_column": null,
            "grid_gap": null,
            "grid_row": null,
            "grid_template_areas": null,
            "grid_template_columns": null,
            "grid_template_rows": null,
            "height": null,
            "justify_content": null,
            "justify_items": null,
            "left": null,
            "margin": null,
            "max_height": null,
            "max_width": null,
            "min_height": null,
            "min_width": null,
            "object_fit": null,
            "object_position": null,
            "order": null,
            "overflow": null,
            "overflow_x": null,
            "overflow_y": null,
            "padding": null,
            "right": null,
            "top": null,
            "visibility": null,
            "width": null
          }
        },
        "7992bdf6c66a42489772dc30e2119421": {
          "model_module": "@jupyter-widgets/controls",
          "model_module_version": "1.5.0",
          "model_name": "HTMLModel",
          "state": {
            "_dom_classes": [],
            "_model_module": "@jupyter-widgets/controls",
            "_model_module_version": "1.5.0",
            "_model_name": "HTMLModel",
            "_view_count": null,
            "_view_module": "@jupyter-widgets/controls",
            "_view_module_version": "1.5.0",
            "_view_name": "HTMLView",
            "description": "",
            "description_tooltip": null,
            "layout": "IPY_MODEL_013b1fb7916148c88154cab70bf7b485",
            "placeholder": "​",
            "style": "IPY_MODEL_0507915c018447eab2f97e8e10224858",
            "value": " 16000/16000 [01:21&lt;00:00, 198.17it/s]"
          }
        },
        "79a81dd21c90435d926e19dfa32fce3e": {
          "model_module": "@jupyter-widgets/base",
          "model_module_version": "1.2.0",
          "model_name": "LayoutModel",
          "state": {
            "_model_module": "@jupyter-widgets/base",
            "_model_module_version": "1.2.0",
            "_model_name": "LayoutModel",
            "_view_count": null,
            "_view_module": "@jupyter-widgets/base",
            "_view_module_version": "1.2.0",
            "_view_name": "LayoutView",
            "align_content": null,
            "align_items": null,
            "align_self": null,
            "border": null,
            "bottom": null,
            "display": null,
            "flex": null,
            "flex_flow": null,
            "grid_area": null,
            "grid_auto_columns": null,
            "grid_auto_flow": null,
            "grid_auto_rows": null,
            "grid_column": null,
            "grid_gap": null,
            "grid_row": null,
            "grid_template_areas": null,
            "grid_template_columns": null,
            "grid_template_rows": null,
            "height": null,
            "justify_content": null,
            "justify_items": null,
            "left": null,
            "margin": null,
            "max_height": null,
            "max_width": null,
            "min_height": null,
            "min_width": null,
            "object_fit": null,
            "object_position": null,
            "order": null,
            "overflow": null,
            "overflow_x": null,
            "overflow_y": null,
            "padding": null,
            "right": null,
            "top": null,
            "visibility": null,
            "width": null
          }
        },
        "7b76e2fbf6c4454683a8be77d4ffd5d1": {
          "model_module": "@jupyter-widgets/controls",
          "model_module_version": "1.5.0",
          "model_name": "HTMLModel",
          "state": {
            "_dom_classes": [],
            "_model_module": "@jupyter-widgets/controls",
            "_model_module_version": "1.5.0",
            "_model_name": "HTMLModel",
            "_view_count": null,
            "_view_module": "@jupyter-widgets/controls",
            "_view_module_version": "1.5.0",
            "_view_name": "HTMLView",
            "description": "",
            "description_tooltip": null,
            "layout": "IPY_MODEL_c87f7d1b2849477ea070f6bae40fa50b",
            "placeholder": "​",
            "style": "IPY_MODEL_d2e76521c4f0499ba9824c30f02911ce",
            "value": "100%"
          }
        },
        "815104bc78c645aebc4566f871293758": {
          "model_module": "@jupyter-widgets/controls",
          "model_module_version": "1.5.0",
          "model_name": "DescriptionStyleModel",
          "state": {
            "_model_module": "@jupyter-widgets/controls",
            "_model_module_version": "1.5.0",
            "_model_name": "DescriptionStyleModel",
            "_view_count": null,
            "_view_module": "@jupyter-widgets/base",
            "_view_module_version": "1.2.0",
            "_view_name": "StyleView",
            "description_width": ""
          }
        },
        "832cb1b8681a4f12b6b33a72732702e9": {
          "model_module": "@jupyter-widgets/controls",
          "model_module_version": "1.5.0",
          "model_name": "DescriptionStyleModel",
          "state": {
            "_model_module": "@jupyter-widgets/controls",
            "_model_module_version": "1.5.0",
            "_model_name": "DescriptionStyleModel",
            "_view_count": null,
            "_view_module": "@jupyter-widgets/base",
            "_view_module_version": "1.2.0",
            "_view_name": "StyleView",
            "description_width": ""
          }
        },
        "88c8f655275f4e4a9aa179750605a0b2": {
          "model_module": "@jupyter-widgets/base",
          "model_module_version": "1.2.0",
          "model_name": "LayoutModel",
          "state": {
            "_model_module": "@jupyter-widgets/base",
            "_model_module_version": "1.2.0",
            "_model_name": "LayoutModel",
            "_view_count": null,
            "_view_module": "@jupyter-widgets/base",
            "_view_module_version": "1.2.0",
            "_view_name": "LayoutView",
            "align_content": null,
            "align_items": null,
            "align_self": null,
            "border": null,
            "bottom": null,
            "display": null,
            "flex": null,
            "flex_flow": null,
            "grid_area": null,
            "grid_auto_columns": null,
            "grid_auto_flow": null,
            "grid_auto_rows": null,
            "grid_column": null,
            "grid_gap": null,
            "grid_row": null,
            "grid_template_areas": null,
            "grid_template_columns": null,
            "grid_template_rows": null,
            "height": null,
            "justify_content": null,
            "justify_items": null,
            "left": null,
            "margin": null,
            "max_height": null,
            "max_width": null,
            "min_height": null,
            "min_width": null,
            "object_fit": null,
            "object_position": null,
            "order": null,
            "overflow": null,
            "overflow_x": null,
            "overflow_y": null,
            "padding": null,
            "right": null,
            "top": null,
            "visibility": null,
            "width": null
          }
        },
        "892a82dbd9df493d8360a07e4e0dfd24": {
          "model_module": "@jupyter-widgets/controls",
          "model_module_version": "1.5.0",
          "model_name": "HTMLModel",
          "state": {
            "_dom_classes": [],
            "_model_module": "@jupyter-widgets/controls",
            "_model_module_version": "1.5.0",
            "_model_name": "HTMLModel",
            "_view_count": null,
            "_view_module": "@jupyter-widgets/controls",
            "_view_module_version": "1.5.0",
            "_view_name": "HTMLView",
            "description": "",
            "description_tooltip": null,
            "layout": "IPY_MODEL_6b0936ff9aef49848251782701377597",
            "placeholder": "​",
            "style": "IPY_MODEL_594b6a900c3643889ceaba1a5086bf2f",
            "value": "Downloading data: 100%"
          }
        },
        "8959c9608ff44597b52fe716c614212a": {
          "model_module": "@jupyter-widgets/controls",
          "model_module_version": "1.5.0",
          "model_name": "HTMLModel",
          "state": {
            "_dom_classes": [],
            "_model_module": "@jupyter-widgets/controls",
            "_model_module_version": "1.5.0",
            "_model_name": "HTMLModel",
            "_view_count": null,
            "_view_module": "@jupyter-widgets/controls",
            "_view_module_version": "1.5.0",
            "_view_name": "HTMLView",
            "description": "",
            "description_tooltip": null,
            "layout": "IPY_MODEL_8bc53199e0324def938e3236caa8f363",
            "placeholder": "​",
            "style": "IPY_MODEL_feeee45c90d74fc69115b577a7c804ac",
            "value": "Downloading readme: 100%"
          }
        },
        "8abbeefaee2848f8affc846de3a96a69": {
          "model_module": "@jupyter-widgets/controls",
          "model_module_version": "1.5.0",
          "model_name": "DescriptionStyleModel",
          "state": {
            "_model_module": "@jupyter-widgets/controls",
            "_model_module_version": "1.5.0",
            "_model_name": "DescriptionStyleModel",
            "_view_count": null,
            "_view_module": "@jupyter-widgets/base",
            "_view_module_version": "1.2.0",
            "_view_name": "StyleView",
            "description_width": ""
          }
        },
        "8bc53199e0324def938e3236caa8f363": {
          "model_module": "@jupyter-widgets/base",
          "model_module_version": "1.2.0",
          "model_name": "LayoutModel",
          "state": {
            "_model_module": "@jupyter-widgets/base",
            "_model_module_version": "1.2.0",
            "_model_name": "LayoutModel",
            "_view_count": null,
            "_view_module": "@jupyter-widgets/base",
            "_view_module_version": "1.2.0",
            "_view_name": "LayoutView",
            "align_content": null,
            "align_items": null,
            "align_self": null,
            "border": null,
            "bottom": null,
            "display": null,
            "flex": null,
            "flex_flow": null,
            "grid_area": null,
            "grid_auto_columns": null,
            "grid_auto_flow": null,
            "grid_auto_rows": null,
            "grid_column": null,
            "grid_gap": null,
            "grid_row": null,
            "grid_template_areas": null,
            "grid_template_columns": null,
            "grid_template_rows": null,
            "height": null,
            "justify_content": null,
            "justify_items": null,
            "left": null,
            "margin": null,
            "max_height": null,
            "max_width": null,
            "min_height": null,
            "min_width": null,
            "object_fit": null,
            "object_position": null,
            "order": null,
            "overflow": null,
            "overflow_x": null,
            "overflow_y": null,
            "padding": null,
            "right": null,
            "top": null,
            "visibility": null,
            "width": null
          }
        },
        "8c538a2c21f648c8b9a6910a58b05ab5": {
          "model_module": "@jupyter-widgets/controls",
          "model_module_version": "1.5.0",
          "model_name": "HTMLModel",
          "state": {
            "_dom_classes": [],
            "_model_module": "@jupyter-widgets/controls",
            "_model_module_version": "1.5.0",
            "_model_name": "HTMLModel",
            "_view_count": null,
            "_view_module": "@jupyter-widgets/controls",
            "_view_module_version": "1.5.0",
            "_view_name": "HTMLView",
            "description": "",
            "description_tooltip": null,
            "layout": "IPY_MODEL_073fcf8678e042a78418eb0670cab4f9",
            "placeholder": "​",
            "style": "IPY_MODEL_03ae044f630b46f78e8f942745e681ef",
            "value": "Downloading data: 100%"
          }
        },
        "8e9ae2f024704ec2a31919c77c64724d": {
          "model_module": "@jupyter-widgets/base",
          "model_module_version": "1.2.0",
          "model_name": "LayoutModel",
          "state": {
            "_model_module": "@jupyter-widgets/base",
            "_model_module_version": "1.2.0",
            "_model_name": "LayoutModel",
            "_view_count": null,
            "_view_module": "@jupyter-widgets/base",
            "_view_module_version": "1.2.0",
            "_view_name": "LayoutView",
            "align_content": null,
            "align_items": null,
            "align_self": null,
            "border": null,
            "bottom": null,
            "display": null,
            "flex": null,
            "flex_flow": null,
            "grid_area": null,
            "grid_auto_columns": null,
            "grid_auto_flow": null,
            "grid_auto_rows": null,
            "grid_column": null,
            "grid_gap": null,
            "grid_row": null,
            "grid_template_areas": null,
            "grid_template_columns": null,
            "grid_template_rows": null,
            "height": null,
            "justify_content": null,
            "justify_items": null,
            "left": null,
            "margin": null,
            "max_height": null,
            "max_width": null,
            "min_height": null,
            "min_width": null,
            "object_fit": null,
            "object_position": null,
            "order": null,
            "overflow": null,
            "overflow_x": null,
            "overflow_y": null,
            "padding": null,
            "right": null,
            "top": null,
            "visibility": null,
            "width": null
          }
        },
        "8ef20ff55fa24bf8b16bf34a58058f03": {
          "model_module": "@jupyter-widgets/base",
          "model_module_version": "1.2.0",
          "model_name": "LayoutModel",
          "state": {
            "_model_module": "@jupyter-widgets/base",
            "_model_module_version": "1.2.0",
            "_model_name": "LayoutModel",
            "_view_count": null,
            "_view_module": "@jupyter-widgets/base",
            "_view_module_version": "1.2.0",
            "_view_name": "LayoutView",
            "align_content": null,
            "align_items": null,
            "align_self": null,
            "border": null,
            "bottom": null,
            "display": null,
            "flex": null,
            "flex_flow": null,
            "grid_area": null,
            "grid_auto_columns": null,
            "grid_auto_flow": null,
            "grid_auto_rows": null,
            "grid_column": null,
            "grid_gap": null,
            "grid_row": null,
            "grid_template_areas": null,
            "grid_template_columns": null,
            "grid_template_rows": null,
            "height": null,
            "justify_content": null,
            "justify_items": null,
            "left": null,
            "margin": null,
            "max_height": null,
            "max_width": null,
            "min_height": null,
            "min_width": null,
            "object_fit": null,
            "object_position": null,
            "order": null,
            "overflow": null,
            "overflow_x": null,
            "overflow_y": null,
            "padding": null,
            "right": null,
            "top": null,
            "visibility": null,
            "width": null
          }
        },
        "916c72f2c5954c17989253ed574ab9c3": {
          "model_module": "@jupyter-widgets/controls",
          "model_module_version": "1.5.0",
          "model_name": "ProgressStyleModel",
          "state": {
            "_model_module": "@jupyter-widgets/controls",
            "_model_module_version": "1.5.0",
            "_model_name": "ProgressStyleModel",
            "_view_count": null,
            "_view_module": "@jupyter-widgets/base",
            "_view_module_version": "1.2.0",
            "_view_name": "StyleView",
            "bar_color": null,
            "description_width": ""
          }
        },
        "9681ebf3ba8b4f06a04b98bb98731d23": {
          "model_module": "@jupyter-widgets/controls",
          "model_module_version": "1.5.0",
          "model_name": "HTMLModel",
          "state": {
            "_dom_classes": [],
            "_model_module": "@jupyter-widgets/controls",
            "_model_module_version": "1.5.0",
            "_model_name": "HTMLModel",
            "_view_count": null,
            "_view_module": "@jupyter-widgets/controls",
            "_view_module_version": "1.5.0",
            "_view_name": "HTMLView",
            "description": "",
            "description_tooltip": null,
            "layout": "IPY_MODEL_0ae95c00ad4a4b7d9e8eab7b8ae215a8",
            "placeholder": "​",
            "style": "IPY_MODEL_27dfe9c772e04d6c9e90a9c46ec0dd84",
            "value": " 16000/16000 [00:19&lt;00:00, 27668.59 examples/s]"
          }
        },
        "96935554ae5046be92c82566518392ba": {
          "model_module": "@jupyter-widgets/controls",
          "model_module_version": "1.5.0",
          "model_name": "DescriptionStyleModel",
          "state": {
            "_model_module": "@jupyter-widgets/controls",
            "_model_module_version": "1.5.0",
            "_model_name": "DescriptionStyleModel",
            "_view_count": null,
            "_view_module": "@jupyter-widgets/base",
            "_view_module_version": "1.2.0",
            "_view_name": "StyleView",
            "description_width": ""
          }
        },
        "99fc407fc2e2448b998fe6fbdfe7402a": {
          "model_module": "@jupyter-widgets/base",
          "model_module_version": "1.2.0",
          "model_name": "LayoutModel",
          "state": {
            "_model_module": "@jupyter-widgets/base",
            "_model_module_version": "1.2.0",
            "_model_name": "LayoutModel",
            "_view_count": null,
            "_view_module": "@jupyter-widgets/base",
            "_view_module_version": "1.2.0",
            "_view_name": "LayoutView",
            "align_content": null,
            "align_items": null,
            "align_self": null,
            "border": null,
            "bottom": null,
            "display": null,
            "flex": null,
            "flex_flow": null,
            "grid_area": null,
            "grid_auto_columns": null,
            "grid_auto_flow": null,
            "grid_auto_rows": null,
            "grid_column": null,
            "grid_gap": null,
            "grid_row": null,
            "grid_template_areas": null,
            "grid_template_columns": null,
            "grid_template_rows": null,
            "height": null,
            "justify_content": null,
            "justify_items": null,
            "left": null,
            "margin": null,
            "max_height": null,
            "max_width": null,
            "min_height": null,
            "min_width": null,
            "object_fit": null,
            "object_position": null,
            "order": null,
            "overflow": null,
            "overflow_x": null,
            "overflow_y": null,
            "padding": null,
            "right": null,
            "top": null,
            "visibility": null,
            "width": null
          }
        },
        "9c35ff184f064c10b88f5d439d3212d4": {
          "model_module": "@jupyter-widgets/base",
          "model_module_version": "1.2.0",
          "model_name": "LayoutModel",
          "state": {
            "_model_module": "@jupyter-widgets/base",
            "_model_module_version": "1.2.0",
            "_model_name": "LayoutModel",
            "_view_count": null,
            "_view_module": "@jupyter-widgets/base",
            "_view_module_version": "1.2.0",
            "_view_name": "LayoutView",
            "align_content": null,
            "align_items": null,
            "align_self": null,
            "border": null,
            "bottom": null,
            "display": null,
            "flex": null,
            "flex_flow": null,
            "grid_area": null,
            "grid_auto_columns": null,
            "grid_auto_flow": null,
            "grid_auto_rows": null,
            "grid_column": null,
            "grid_gap": null,
            "grid_row": null,
            "grid_template_areas": null,
            "grid_template_columns": null,
            "grid_template_rows": null,
            "height": null,
            "justify_content": null,
            "justify_items": null,
            "left": null,
            "margin": null,
            "max_height": null,
            "max_width": null,
            "min_height": null,
            "min_width": null,
            "object_fit": null,
            "object_position": null,
            "order": null,
            "overflow": null,
            "overflow_x": null,
            "overflow_y": null,
            "padding": null,
            "right": null,
            "top": null,
            "visibility": null,
            "width": null
          }
        },
        "9cfa55561fcc4963a7729489de72283c": {
          "model_module": "@jupyter-widgets/base",
          "model_module_version": "1.2.0",
          "model_name": "LayoutModel",
          "state": {
            "_model_module": "@jupyter-widgets/base",
            "_model_module_version": "1.2.0",
            "_model_name": "LayoutModel",
            "_view_count": null,
            "_view_module": "@jupyter-widgets/base",
            "_view_module_version": "1.2.0",
            "_view_name": "LayoutView",
            "align_content": null,
            "align_items": null,
            "align_self": null,
            "border": null,
            "bottom": null,
            "display": null,
            "flex": null,
            "flex_flow": null,
            "grid_area": null,
            "grid_auto_columns": null,
            "grid_auto_flow": null,
            "grid_auto_rows": null,
            "grid_column": null,
            "grid_gap": null,
            "grid_row": null,
            "grid_template_areas": null,
            "grid_template_columns": null,
            "grid_template_rows": null,
            "height": null,
            "justify_content": null,
            "justify_items": null,
            "left": null,
            "margin": null,
            "max_height": null,
            "max_width": null,
            "min_height": null,
            "min_width": null,
            "object_fit": null,
            "object_position": null,
            "order": null,
            "overflow": null,
            "overflow_x": null,
            "overflow_y": null,
            "padding": null,
            "right": null,
            "top": null,
            "visibility": null,
            "width": null
          }
        },
        "9d59797075924b3eaeeb435c5c3c5f5c": {
          "model_module": "@jupyter-widgets/controls",
          "model_module_version": "1.5.0",
          "model_name": "HTMLModel",
          "state": {
            "_dom_classes": [],
            "_model_module": "@jupyter-widgets/controls",
            "_model_module_version": "1.5.0",
            "_model_name": "HTMLModel",
            "_view_count": null,
            "_view_module": "@jupyter-widgets/controls",
            "_view_module_version": "1.5.0",
            "_view_name": "HTMLView",
            "description": "",
            "description_tooltip": null,
            "layout": "IPY_MODEL_176560d2858b4afaa4567f99e22698dd",
            "placeholder": "​",
            "style": "IPY_MODEL_31504c5aee8f426796bc764a053da14b",
            "value": "Downloading metadata: 100%"
          }
        },
        "a0820242c18c485aa0f84eecfe9de58a": {
          "model_module": "@jupyter-widgets/controls",
          "model_module_version": "1.5.0",
          "model_name": "HBoxModel",
          "state": {
            "_dom_classes": [],
            "_model_module": "@jupyter-widgets/controls",
            "_model_module_version": "1.5.0",
            "_model_name": "HBoxModel",
            "_view_count": null,
            "_view_module": "@jupyter-widgets/controls",
            "_view_module_version": "1.5.0",
            "_view_name": "HBoxView",
            "box_style": "",
            "children": [
              "IPY_MODEL_7b76e2fbf6c4454683a8be77d4ffd5d1",
              "IPY_MODEL_5991ec3a3cfa4444895686492200b3b4",
              "IPY_MODEL_7992bdf6c66a42489772dc30e2119421"
            ],
            "layout": "IPY_MODEL_8e9ae2f024704ec2a31919c77c64724d"
          }
        },
        "a2417c226893453a968a739c22252495": {
          "model_module": "@jupyter-widgets/controls",
          "model_module_version": "1.5.0",
          "model_name": "HBoxModel",
          "state": {
            "_dom_classes": [],
            "_model_module": "@jupyter-widgets/controls",
            "_model_module_version": "1.5.0",
            "_model_name": "HBoxModel",
            "_view_count": null,
            "_view_module": "@jupyter-widgets/controls",
            "_view_module_version": "1.5.0",
            "_view_name": "HBoxView",
            "box_style": "",
            "children": [
              "IPY_MODEL_9d59797075924b3eaeeb435c5c3c5f5c",
              "IPY_MODEL_6d0a067671c74c6a9d254def2a9bd428",
              "IPY_MODEL_bfdc0e4d4e7448e8a353661011c2233f"
            ],
            "layout": "IPY_MODEL_65bc5d98b7eb4c7c8d0432573be527f8"
          }
        },
        "a36735b196f043088b16823686a5aab9": {
          "model_module": "@jupyter-widgets/controls",
          "model_module_version": "1.5.0",
          "model_name": "HTMLModel",
          "state": {
            "_dom_classes": [],
            "_model_module": "@jupyter-widgets/controls",
            "_model_module_version": "1.5.0",
            "_model_name": "HTMLModel",
            "_view_count": null,
            "_view_module": "@jupyter-widgets/controls",
            "_view_module_version": "1.5.0",
            "_view_name": "HTMLView",
            "description": "",
            "description_tooltip": null,
            "layout": "IPY_MODEL_1badc2893e52490bbd858bd90eef74cc",
            "placeholder": "​",
            "style": "IPY_MODEL_8abbeefaee2848f8affc846de3a96a69",
            "value": "Generating train split: 100%"
          }
        },
        "a408f254ed404980a30b997994841d53": {
          "model_module": "@jupyter-widgets/base",
          "model_module_version": "1.2.0",
          "model_name": "LayoutModel",
          "state": {
            "_model_module": "@jupyter-widgets/base",
            "_model_module_version": "1.2.0",
            "_model_name": "LayoutModel",
            "_view_count": null,
            "_view_module": "@jupyter-widgets/base",
            "_view_module_version": "1.2.0",
            "_view_name": "LayoutView",
            "align_content": null,
            "align_items": null,
            "align_self": null,
            "border": null,
            "bottom": null,
            "display": null,
            "flex": null,
            "flex_flow": null,
            "grid_area": null,
            "grid_auto_columns": null,
            "grid_auto_flow": null,
            "grid_auto_rows": null,
            "grid_column": null,
            "grid_gap": null,
            "grid_row": null,
            "grid_template_areas": null,
            "grid_template_columns": null,
            "grid_template_rows": null,
            "height": null,
            "justify_content": null,
            "justify_items": null,
            "left": null,
            "margin": null,
            "max_height": null,
            "max_width": null,
            "min_height": null,
            "min_width": null,
            "object_fit": null,
            "object_position": null,
            "order": null,
            "overflow": null,
            "overflow_x": null,
            "overflow_y": null,
            "padding": null,
            "right": null,
            "top": null,
            "visibility": null,
            "width": null
          }
        },
        "a7b99b5ee9504f0d9c401c22adf7439f": {
          "model_module": "@jupyter-widgets/base",
          "model_module_version": "1.2.0",
          "model_name": "LayoutModel",
          "state": {
            "_model_module": "@jupyter-widgets/base",
            "_model_module_version": "1.2.0",
            "_model_name": "LayoutModel",
            "_view_count": null,
            "_view_module": "@jupyter-widgets/base",
            "_view_module_version": "1.2.0",
            "_view_name": "LayoutView",
            "align_content": null,
            "align_items": null,
            "align_self": null,
            "border": null,
            "bottom": null,
            "display": null,
            "flex": null,
            "flex_flow": null,
            "grid_area": null,
            "grid_auto_columns": null,
            "grid_auto_flow": null,
            "grid_auto_rows": null,
            "grid_column": null,
            "grid_gap": null,
            "grid_row": null,
            "grid_template_areas": null,
            "grid_template_columns": null,
            "grid_template_rows": null,
            "height": null,
            "justify_content": null,
            "justify_items": null,
            "left": null,
            "margin": null,
            "max_height": null,
            "max_width": null,
            "min_height": null,
            "min_width": null,
            "object_fit": null,
            "object_position": null,
            "order": null,
            "overflow": null,
            "overflow_x": null,
            "overflow_y": null,
            "padding": null,
            "right": null,
            "top": null,
            "visibility": null,
            "width": null
          }
        },
        "a7cf7439fdb64e55b9ae77406a435f1f": {
          "model_module": "@jupyter-widgets/base",
          "model_module_version": "1.2.0",
          "model_name": "LayoutModel",
          "state": {
            "_model_module": "@jupyter-widgets/base",
            "_model_module_version": "1.2.0",
            "_model_name": "LayoutModel",
            "_view_count": null,
            "_view_module": "@jupyter-widgets/base",
            "_view_module_version": "1.2.0",
            "_view_name": "LayoutView",
            "align_content": null,
            "align_items": null,
            "align_self": null,
            "border": null,
            "bottom": null,
            "display": null,
            "flex": null,
            "flex_flow": null,
            "grid_area": null,
            "grid_auto_columns": null,
            "grid_auto_flow": null,
            "grid_auto_rows": null,
            "grid_column": null,
            "grid_gap": null,
            "grid_row": null,
            "grid_template_areas": null,
            "grid_template_columns": null,
            "grid_template_rows": null,
            "height": null,
            "justify_content": null,
            "justify_items": null,
            "left": null,
            "margin": null,
            "max_height": null,
            "max_width": null,
            "min_height": null,
            "min_width": null,
            "object_fit": null,
            "object_position": null,
            "order": null,
            "overflow": null,
            "overflow_x": null,
            "overflow_y": null,
            "padding": null,
            "right": null,
            "top": null,
            "visibility": null,
            "width": null
          }
        },
        "abe8f5a03c654c2999235fae07ec96b2": {
          "model_module": "@jupyter-widgets/controls",
          "model_module_version": "1.5.0",
          "model_name": "HBoxModel",
          "state": {
            "_dom_classes": [],
            "_model_module": "@jupyter-widgets/controls",
            "_model_module_version": "1.5.0",
            "_model_name": "HBoxModel",
            "_view_count": null,
            "_view_module": "@jupyter-widgets/controls",
            "_view_module_version": "1.5.0",
            "_view_name": "HBoxView",
            "box_style": "",
            "children": [
              "IPY_MODEL_221b822126ad43c5a66219f52df1a052",
              "IPY_MODEL_61e0fe42449e482a9009e036b1c80951",
              "IPY_MODEL_32599441f9994ca7842a60e7cbcd793d"
            ],
            "layout": "IPY_MODEL_9c35ff184f064c10b88f5d439d3212d4"
          }
        },
        "b56429a8f4d3469687b34433fcb1e6c9": {
          "model_module": "@jupyter-widgets/controls",
          "model_module_version": "1.5.0",
          "model_name": "HBoxModel",
          "state": {
            "_dom_classes": [],
            "_model_module": "@jupyter-widgets/controls",
            "_model_module_version": "1.5.0",
            "_model_name": "HBoxModel",
            "_view_count": null,
            "_view_module": "@jupyter-widgets/controls",
            "_view_module_version": "1.5.0",
            "_view_name": "HBoxView",
            "box_style": "",
            "children": [
              "IPY_MODEL_d4f86163ffb6489a9fa9751173c3740f",
              "IPY_MODEL_0deea2f3d50147318a9f5d77022a1f95",
              "IPY_MODEL_5640d2d07bc04e4a8924a7e3a99eb75f"
            ],
            "layout": "IPY_MODEL_328d6bd4d99345c7bd566d1a99fb0dde"
          }
        },
        "b82a5ae9e80f46cb97a07e82b79a31e9": {
          "model_module": "@jupyter-widgets/controls",
          "model_module_version": "1.5.0",
          "model_name": "HTMLModel",
          "state": {
            "_dom_classes": [],
            "_model_module": "@jupyter-widgets/controls",
            "_model_module_version": "1.5.0",
            "_model_name": "HTMLModel",
            "_view_count": null,
            "_view_module": "@jupyter-widgets/controls",
            "_view_module_version": "1.5.0",
            "_view_name": "HTMLView",
            "description": "",
            "description_tooltip": null,
            "layout": "IPY_MODEL_e99e214716bc47aab4240deb2cb328a0",
            "placeholder": "​",
            "style": "IPY_MODEL_27bf4005488d430da5053089927fd629",
            "value": " 2000/2000 [00:18&lt;00:00, 16129.98 examples/s]"
          }
        },
        "bddd759281b8445fbcfffa504113fdd6": {
          "model_module": "@jupyter-widgets/base",
          "model_module_version": "1.2.0",
          "model_name": "LayoutModel",
          "state": {
            "_model_module": "@jupyter-widgets/base",
            "_model_module_version": "1.2.0",
            "_model_name": "LayoutModel",
            "_view_count": null,
            "_view_module": "@jupyter-widgets/base",
            "_view_module_version": "1.2.0",
            "_view_name": "LayoutView",
            "align_content": null,
            "align_items": null,
            "align_self": null,
            "border": null,
            "bottom": null,
            "display": null,
            "flex": null,
            "flex_flow": null,
            "grid_area": null,
            "grid_auto_columns": null,
            "grid_auto_flow": null,
            "grid_auto_rows": null,
            "grid_column": null,
            "grid_gap": null,
            "grid_row": null,
            "grid_template_areas": null,
            "grid_template_columns": null,
            "grid_template_rows": null,
            "height": null,
            "justify_content": null,
            "justify_items": null,
            "left": null,
            "margin": null,
            "max_height": null,
            "max_width": null,
            "min_height": null,
            "min_width": null,
            "object_fit": null,
            "object_position": null,
            "order": null,
            "overflow": null,
            "overflow_x": null,
            "overflow_y": null,
            "padding": null,
            "right": null,
            "top": null,
            "visibility": null,
            "width": null
          }
        },
        "becf841008ab4dd5a8ee90c8d4de77c6": {
          "model_module": "@jupyter-widgets/controls",
          "model_module_version": "1.5.0",
          "model_name": "ProgressStyleModel",
          "state": {
            "_model_module": "@jupyter-widgets/controls",
            "_model_module_version": "1.5.0",
            "_model_name": "ProgressStyleModel",
            "_view_count": null,
            "_view_module": "@jupyter-widgets/base",
            "_view_module_version": "1.2.0",
            "_view_name": "StyleView",
            "bar_color": null,
            "description_width": ""
          }
        },
        "bf688447f9794de49e36e77ebadbcd3c": {
          "model_module": "@jupyter-widgets/controls",
          "model_module_version": "1.5.0",
          "model_name": "HTMLModel",
          "state": {
            "_dom_classes": [],
            "_model_module": "@jupyter-widgets/controls",
            "_model_module_version": "1.5.0",
            "_model_name": "HTMLModel",
            "_view_count": null,
            "_view_module": "@jupyter-widgets/controls",
            "_view_module_version": "1.5.0",
            "_view_name": "HTMLView",
            "description": "",
            "description_tooltip": null,
            "layout": "IPY_MODEL_d3082557da1f4c90ac9367b810e18e75",
            "placeholder": "​",
            "style": "IPY_MODEL_ec8433a7a7b642b0970960c1a6ef9264",
            "value": "100%"
          }
        },
        "bfdc0e4d4e7448e8a353661011c2233f": {
          "model_module": "@jupyter-widgets/controls",
          "model_module_version": "1.5.0",
          "model_name": "HTMLModel",
          "state": {
            "_dom_classes": [],
            "_model_module": "@jupyter-widgets/controls",
            "_model_module_version": "1.5.0",
            "_model_name": "HTMLModel",
            "_view_count": null,
            "_view_module": "@jupyter-widgets/controls",
            "_view_module_version": "1.5.0",
            "_view_name": "HTMLView",
            "description": "",
            "description_tooltip": null,
            "layout": "IPY_MODEL_99fc407fc2e2448b998fe6fbdfe7402a",
            "placeholder": "​",
            "style": "IPY_MODEL_023f2b7603ae45d38aef0a3afcdc0140",
            "value": " 3.28k/3.28k [00:00&lt;00:00, 9.73kB/s]"
          }
        },
        "c24595dc70114fd995839e3c0be189ff": {
          "model_module": "@jupyter-widgets/base",
          "model_module_version": "1.2.0",
          "model_name": "LayoutModel",
          "state": {
            "_model_module": "@jupyter-widgets/base",
            "_model_module_version": "1.2.0",
            "_model_name": "LayoutModel",
            "_view_count": null,
            "_view_module": "@jupyter-widgets/base",
            "_view_module_version": "1.2.0",
            "_view_name": "LayoutView",
            "align_content": null,
            "align_items": null,
            "align_self": null,
            "border": null,
            "bottom": null,
            "display": null,
            "flex": null,
            "flex_flow": null,
            "grid_area": null,
            "grid_auto_columns": null,
            "grid_auto_flow": null,
            "grid_auto_rows": null,
            "grid_column": null,
            "grid_gap": null,
            "grid_row": null,
            "grid_template_areas": null,
            "grid_template_columns": null,
            "grid_template_rows": null,
            "height": null,
            "justify_content": null,
            "justify_items": null,
            "left": null,
            "margin": null,
            "max_height": null,
            "max_width": null,
            "min_height": null,
            "min_width": null,
            "object_fit": null,
            "object_position": null,
            "order": null,
            "overflow": null,
            "overflow_x": null,
            "overflow_y": null,
            "padding": null,
            "right": null,
            "top": null,
            "visibility": null,
            "width": null
          }
        },
        "c2b0f8bffcd74a51a6660ff4d27ec104": {
          "model_module": "@jupyter-widgets/base",
          "model_module_version": "1.2.0",
          "model_name": "LayoutModel",
          "state": {
            "_model_module": "@jupyter-widgets/base",
            "_model_module_version": "1.2.0",
            "_model_name": "LayoutModel",
            "_view_count": null,
            "_view_module": "@jupyter-widgets/base",
            "_view_module_version": "1.2.0",
            "_view_name": "LayoutView",
            "align_content": null,
            "align_items": null,
            "align_self": null,
            "border": null,
            "bottom": null,
            "display": null,
            "flex": null,
            "flex_flow": null,
            "grid_area": null,
            "grid_auto_columns": null,
            "grid_auto_flow": null,
            "grid_auto_rows": null,
            "grid_column": null,
            "grid_gap": null,
            "grid_row": null,
            "grid_template_areas": null,
            "grid_template_columns": null,
            "grid_template_rows": null,
            "height": null,
            "justify_content": null,
            "justify_items": null,
            "left": null,
            "margin": null,
            "max_height": null,
            "max_width": null,
            "min_height": null,
            "min_width": null,
            "object_fit": null,
            "object_position": null,
            "order": null,
            "overflow": null,
            "overflow_x": null,
            "overflow_y": null,
            "padding": null,
            "right": null,
            "top": null,
            "visibility": null,
            "width": null
          }
        },
        "c358ec8e250e47c58e2afdc0dc07a92b": {
          "model_module": "@jupyter-widgets/controls",
          "model_module_version": "1.5.0",
          "model_name": "DescriptionStyleModel",
          "state": {
            "_model_module": "@jupyter-widgets/controls",
            "_model_module_version": "1.5.0",
            "_model_name": "DescriptionStyleModel",
            "_view_count": null,
            "_view_module": "@jupyter-widgets/base",
            "_view_module_version": "1.2.0",
            "_view_name": "StyleView",
            "description_width": ""
          }
        },
        "c5ad86d89dee4630b29f493a28a6cff9": {
          "model_module": "@jupyter-widgets/controls",
          "model_module_version": "1.5.0",
          "model_name": "HBoxModel",
          "state": {
            "_dom_classes": [],
            "_model_module": "@jupyter-widgets/controls",
            "_model_module_version": "1.5.0",
            "_model_name": "HBoxModel",
            "_view_count": null,
            "_view_module": "@jupyter-widgets/controls",
            "_view_module_version": "1.5.0",
            "_view_name": "HBoxView",
            "box_style": "",
            "children": [
              "IPY_MODEL_11658450e38e43419c8058fa25e677b9",
              "IPY_MODEL_6ed8529cc94a49a3906b78404d953d11",
              "IPY_MODEL_b82a5ae9e80f46cb97a07e82b79a31e9"
            ],
            "layout": "IPY_MODEL_4a163eb365cc486bbb6564b579dc9436"
          }
        },
        "c6c08a9eb18f47d08cb1cd3103e18322": {
          "model_module": "@jupyter-widgets/controls",
          "model_module_version": "1.5.0",
          "model_name": "ProgressStyleModel",
          "state": {
            "_model_module": "@jupyter-widgets/controls",
            "_model_module_version": "1.5.0",
            "_model_name": "ProgressStyleModel",
            "_view_count": null,
            "_view_module": "@jupyter-widgets/base",
            "_view_module_version": "1.2.0",
            "_view_name": "StyleView",
            "bar_color": null,
            "description_width": ""
          }
        },
        "c7a8fec0d0c14bc3b1215a85c2e53441": {
          "model_module": "@jupyter-widgets/controls",
          "model_module_version": "1.5.0",
          "model_name": "HTMLModel",
          "state": {
            "_dom_classes": [],
            "_model_module": "@jupyter-widgets/controls",
            "_model_module_version": "1.5.0",
            "_model_name": "HTMLModel",
            "_view_count": null,
            "_view_module": "@jupyter-widgets/controls",
            "_view_module_version": "1.5.0",
            "_view_name": "HTMLView",
            "description": "",
            "description_tooltip": null,
            "layout": "IPY_MODEL_a7cf7439fdb64e55b9ae77406a435f1f",
            "placeholder": "​",
            "style": "IPY_MODEL_2eb30d6876824cbf984f77a976c6f062",
            "value": " 3/3 [00:00&lt;00:00, 68.19it/s]"
          }
        },
        "c87f7d1b2849477ea070f6bae40fa50b": {
          "model_module": "@jupyter-widgets/base",
          "model_module_version": "1.2.0",
          "model_name": "LayoutModel",
          "state": {
            "_model_module": "@jupyter-widgets/base",
            "_model_module_version": "1.2.0",
            "_model_name": "LayoutModel",
            "_view_count": null,
            "_view_module": "@jupyter-widgets/base",
            "_view_module_version": "1.2.0",
            "_view_name": "LayoutView",
            "align_content": null,
            "align_items": null,
            "align_self": null,
            "border": null,
            "bottom": null,
            "display": null,
            "flex": null,
            "flex_flow": null,
            "grid_area": null,
            "grid_auto_columns": null,
            "grid_auto_flow": null,
            "grid_auto_rows": null,
            "grid_column": null,
            "grid_gap": null,
            "grid_row": null,
            "grid_template_areas": null,
            "grid_template_columns": null,
            "grid_template_rows": null,
            "height": null,
            "justify_content": null,
            "justify_items": null,
            "left": null,
            "margin": null,
            "max_height": null,
            "max_width": null,
            "min_height": null,
            "min_width": null,
            "object_fit": null,
            "object_position": null,
            "order": null,
            "overflow": null,
            "overflow_x": null,
            "overflow_y": null,
            "padding": null,
            "right": null,
            "top": null,
            "visibility": null,
            "width": null
          }
        },
        "c92dbbaf428b483abbf2c91131e51028": {
          "model_module": "@jupyter-widgets/controls",
          "model_module_version": "1.5.0",
          "model_name": "DescriptionStyleModel",
          "state": {
            "_model_module": "@jupyter-widgets/controls",
            "_model_module_version": "1.5.0",
            "_model_name": "DescriptionStyleModel",
            "_view_count": null,
            "_view_module": "@jupyter-widgets/base",
            "_view_module_version": "1.2.0",
            "_view_name": "StyleView",
            "description_width": ""
          }
        },
        "c9c3a1f1c2614b1eaaf4f06a0bee561c": {
          "model_module": "@jupyter-widgets/controls",
          "model_module_version": "1.5.0",
          "model_name": "DescriptionStyleModel",
          "state": {
            "_model_module": "@jupyter-widgets/controls",
            "_model_module_version": "1.5.0",
            "_model_name": "DescriptionStyleModel",
            "_view_count": null,
            "_view_module": "@jupyter-widgets/base",
            "_view_module_version": "1.2.0",
            "_view_name": "StyleView",
            "description_width": ""
          }
        },
        "d0e5ee0c9c7c49edbc12ae7a031e84bb": {
          "model_module": "@jupyter-widgets/base",
          "model_module_version": "1.2.0",
          "model_name": "LayoutModel",
          "state": {
            "_model_module": "@jupyter-widgets/base",
            "_model_module_version": "1.2.0",
            "_model_name": "LayoutModel",
            "_view_count": null,
            "_view_module": "@jupyter-widgets/base",
            "_view_module_version": "1.2.0",
            "_view_name": "LayoutView",
            "align_content": null,
            "align_items": null,
            "align_self": null,
            "border": null,
            "bottom": null,
            "display": null,
            "flex": null,
            "flex_flow": null,
            "grid_area": null,
            "grid_auto_columns": null,
            "grid_auto_flow": null,
            "grid_auto_rows": null,
            "grid_column": null,
            "grid_gap": null,
            "grid_row": null,
            "grid_template_areas": null,
            "grid_template_columns": null,
            "grid_template_rows": null,
            "height": null,
            "justify_content": null,
            "justify_items": null,
            "left": null,
            "margin": null,
            "max_height": null,
            "max_width": null,
            "min_height": null,
            "min_width": null,
            "object_fit": null,
            "object_position": null,
            "order": null,
            "overflow": null,
            "overflow_x": null,
            "overflow_y": null,
            "padding": null,
            "right": null,
            "top": null,
            "visibility": null,
            "width": null
          }
        },
        "d11f818821e14165bc43f338544384b4": {
          "model_module": "@jupyter-widgets/base",
          "model_module_version": "1.2.0",
          "model_name": "LayoutModel",
          "state": {
            "_model_module": "@jupyter-widgets/base",
            "_model_module_version": "1.2.0",
            "_model_name": "LayoutModel",
            "_view_count": null,
            "_view_module": "@jupyter-widgets/base",
            "_view_module_version": "1.2.0",
            "_view_name": "LayoutView",
            "align_content": null,
            "align_items": null,
            "align_self": null,
            "border": null,
            "bottom": null,
            "display": null,
            "flex": null,
            "flex_flow": null,
            "grid_area": null,
            "grid_auto_columns": null,
            "grid_auto_flow": null,
            "grid_auto_rows": null,
            "grid_column": null,
            "grid_gap": null,
            "grid_row": null,
            "grid_template_areas": null,
            "grid_template_columns": null,
            "grid_template_rows": null,
            "height": null,
            "justify_content": null,
            "justify_items": null,
            "left": null,
            "margin": null,
            "max_height": null,
            "max_width": null,
            "min_height": null,
            "min_width": null,
            "object_fit": null,
            "object_position": null,
            "order": null,
            "overflow": null,
            "overflow_x": null,
            "overflow_y": null,
            "padding": null,
            "right": null,
            "top": null,
            "visibility": null,
            "width": null
          }
        },
        "d2e5b84167224112a2a4de41a8000837": {
          "model_module": "@jupyter-widgets/controls",
          "model_module_version": "1.5.0",
          "model_name": "ProgressStyleModel",
          "state": {
            "_model_module": "@jupyter-widgets/controls",
            "_model_module_version": "1.5.0",
            "_model_name": "ProgressStyleModel",
            "_view_count": null,
            "_view_module": "@jupyter-widgets/base",
            "_view_module_version": "1.2.0",
            "_view_name": "StyleView",
            "bar_color": null,
            "description_width": ""
          }
        },
        "d2e76521c4f0499ba9824c30f02911ce": {
          "model_module": "@jupyter-widgets/controls",
          "model_module_version": "1.5.0",
          "model_name": "DescriptionStyleModel",
          "state": {
            "_model_module": "@jupyter-widgets/controls",
            "_model_module_version": "1.5.0",
            "_model_name": "DescriptionStyleModel",
            "_view_count": null,
            "_view_module": "@jupyter-widgets/base",
            "_view_module_version": "1.2.0",
            "_view_name": "StyleView",
            "description_width": ""
          }
        },
        "d3082557da1f4c90ac9367b810e18e75": {
          "model_module": "@jupyter-widgets/base",
          "model_module_version": "1.2.0",
          "model_name": "LayoutModel",
          "state": {
            "_model_module": "@jupyter-widgets/base",
            "_model_module_version": "1.2.0",
            "_model_name": "LayoutModel",
            "_view_count": null,
            "_view_module": "@jupyter-widgets/base",
            "_view_module_version": "1.2.0",
            "_view_name": "LayoutView",
            "align_content": null,
            "align_items": null,
            "align_self": null,
            "border": null,
            "bottom": null,
            "display": null,
            "flex": null,
            "flex_flow": null,
            "grid_area": null,
            "grid_auto_columns": null,
            "grid_auto_flow": null,
            "grid_auto_rows": null,
            "grid_column": null,
            "grid_gap": null,
            "grid_row": null,
            "grid_template_areas": null,
            "grid_template_columns": null,
            "grid_template_rows": null,
            "height": null,
            "justify_content": null,
            "justify_items": null,
            "left": null,
            "margin": null,
            "max_height": null,
            "max_width": null,
            "min_height": null,
            "min_width": null,
            "object_fit": null,
            "object_position": null,
            "order": null,
            "overflow": null,
            "overflow_x": null,
            "overflow_y": null,
            "padding": null,
            "right": null,
            "top": null,
            "visibility": null,
            "width": null
          }
        },
        "d486911073f942ef9cd6908d9b43791c": {
          "model_module": "@jupyter-widgets/base",
          "model_module_version": "1.2.0",
          "model_name": "LayoutModel",
          "state": {
            "_model_module": "@jupyter-widgets/base",
            "_model_module_version": "1.2.0",
            "_model_name": "LayoutModel",
            "_view_count": null,
            "_view_module": "@jupyter-widgets/base",
            "_view_module_version": "1.2.0",
            "_view_name": "LayoutView",
            "align_content": null,
            "align_items": null,
            "align_self": null,
            "border": null,
            "bottom": null,
            "display": null,
            "flex": null,
            "flex_flow": null,
            "grid_area": null,
            "grid_auto_columns": null,
            "grid_auto_flow": null,
            "grid_auto_rows": null,
            "grid_column": null,
            "grid_gap": null,
            "grid_row": null,
            "grid_template_areas": null,
            "grid_template_columns": null,
            "grid_template_rows": null,
            "height": null,
            "justify_content": null,
            "justify_items": null,
            "left": null,
            "margin": null,
            "max_height": null,
            "max_width": null,
            "min_height": null,
            "min_width": null,
            "object_fit": null,
            "object_position": null,
            "order": null,
            "overflow": null,
            "overflow_x": null,
            "overflow_y": null,
            "padding": null,
            "right": null,
            "top": null,
            "visibility": null,
            "width": null
          }
        },
        "d493129001e245da9f576134e390dbd4": {
          "model_module": "@jupyter-widgets/base",
          "model_module_version": "1.2.0",
          "model_name": "LayoutModel",
          "state": {
            "_model_module": "@jupyter-widgets/base",
            "_model_module_version": "1.2.0",
            "_model_name": "LayoutModel",
            "_view_count": null,
            "_view_module": "@jupyter-widgets/base",
            "_view_module_version": "1.2.0",
            "_view_name": "LayoutView",
            "align_content": null,
            "align_items": null,
            "align_self": null,
            "border": null,
            "bottom": null,
            "display": null,
            "flex": null,
            "flex_flow": null,
            "grid_area": null,
            "grid_auto_columns": null,
            "grid_auto_flow": null,
            "grid_auto_rows": null,
            "grid_column": null,
            "grid_gap": null,
            "grid_row": null,
            "grid_template_areas": null,
            "grid_template_columns": null,
            "grid_template_rows": null,
            "height": null,
            "justify_content": null,
            "justify_items": null,
            "left": null,
            "margin": null,
            "max_height": null,
            "max_width": null,
            "min_height": null,
            "min_width": null,
            "object_fit": null,
            "object_position": null,
            "order": null,
            "overflow": null,
            "overflow_x": null,
            "overflow_y": null,
            "padding": null,
            "right": null,
            "top": null,
            "visibility": null,
            "width": null
          }
        },
        "d4c161ee8d97414fb393713969eeb956": {
          "model_module": "@jupyter-widgets/controls",
          "model_module_version": "1.5.0",
          "model_name": "HTMLModel",
          "state": {
            "_dom_classes": [],
            "_model_module": "@jupyter-widgets/controls",
            "_model_module_version": "1.5.0",
            "_model_name": "HTMLModel",
            "_view_count": null,
            "_view_module": "@jupyter-widgets/controls",
            "_view_module_version": "1.5.0",
            "_view_name": "HTMLView",
            "description": "",
            "description_tooltip": null,
            "layout": "IPY_MODEL_2a805c240da448498a289a1f605bf381",
            "placeholder": "​",
            "style": "IPY_MODEL_6d4667cddb3e44f4b7df262f4c89237e",
            "value": " 2000/2000 [00:18&lt;00:00, 16293.97 examples/s]"
          }
        },
        "d4f86163ffb6489a9fa9751173c3740f": {
          "model_module": "@jupyter-widgets/controls",
          "model_module_version": "1.5.0",
          "model_name": "HTMLModel",
          "state": {
            "_dom_classes": [],
            "_model_module": "@jupyter-widgets/controls",
            "_model_module_version": "1.5.0",
            "_model_name": "HTMLModel",
            "_view_count": null,
            "_view_module": "@jupyter-widgets/controls",
            "_view_module_version": "1.5.0",
            "_view_name": "HTMLView",
            "description": "",
            "description_tooltip": null,
            "layout": "IPY_MODEL_8ef20ff55fa24bf8b16bf34a58058f03",
            "placeholder": "​",
            "style": "IPY_MODEL_96935554ae5046be92c82566518392ba",
            "value": "100%"
          }
        },
        "d75425c97aae4af1ba09142e341a40d2": {
          "model_module": "@jupyter-widgets/base",
          "model_module_version": "1.2.0",
          "model_name": "LayoutModel",
          "state": {
            "_model_module": "@jupyter-widgets/base",
            "_model_module_version": "1.2.0",
            "_model_name": "LayoutModel",
            "_view_count": null,
            "_view_module": "@jupyter-widgets/base",
            "_view_module_version": "1.2.0",
            "_view_name": "LayoutView",
            "align_content": null,
            "align_items": null,
            "align_self": null,
            "border": null,
            "bottom": null,
            "display": null,
            "flex": null,
            "flex_flow": null,
            "grid_area": null,
            "grid_auto_columns": null,
            "grid_auto_flow": null,
            "grid_auto_rows": null,
            "grid_column": null,
            "grid_gap": null,
            "grid_row": null,
            "grid_template_areas": null,
            "grid_template_columns": null,
            "grid_template_rows": null,
            "height": null,
            "justify_content": null,
            "justify_items": null,
            "left": null,
            "margin": null,
            "max_height": null,
            "max_width": null,
            "min_height": null,
            "min_width": null,
            "object_fit": null,
            "object_position": null,
            "order": null,
            "overflow": null,
            "overflow_x": null,
            "overflow_y": null,
            "padding": null,
            "right": null,
            "top": null,
            "visibility": null,
            "width": null
          }
        },
        "d9b8718e4de347028078f997db1f7dbb": {
          "model_module": "@jupyter-widgets/controls",
          "model_module_version": "1.5.0",
          "model_name": "DescriptionStyleModel",
          "state": {
            "_model_module": "@jupyter-widgets/controls",
            "_model_module_version": "1.5.0",
            "_model_name": "DescriptionStyleModel",
            "_view_count": null,
            "_view_module": "@jupyter-widgets/base",
            "_view_module_version": "1.2.0",
            "_view_name": "StyleView",
            "description_width": ""
          }
        },
        "deb99e07819b48c98caaf255f96f5e91": {
          "model_module": "@jupyter-widgets/base",
          "model_module_version": "1.2.0",
          "model_name": "LayoutModel",
          "state": {
            "_model_module": "@jupyter-widgets/base",
            "_model_module_version": "1.2.0",
            "_model_name": "LayoutModel",
            "_view_count": null,
            "_view_module": "@jupyter-widgets/base",
            "_view_module_version": "1.2.0",
            "_view_name": "LayoutView",
            "align_content": null,
            "align_items": null,
            "align_self": null,
            "border": null,
            "bottom": null,
            "display": null,
            "flex": null,
            "flex_flow": null,
            "grid_area": null,
            "grid_auto_columns": null,
            "grid_auto_flow": null,
            "grid_auto_rows": null,
            "grid_column": null,
            "grid_gap": null,
            "grid_row": null,
            "grid_template_areas": null,
            "grid_template_columns": null,
            "grid_template_rows": null,
            "height": null,
            "justify_content": null,
            "justify_items": null,
            "left": null,
            "margin": null,
            "max_height": null,
            "max_width": null,
            "min_height": null,
            "min_width": null,
            "object_fit": null,
            "object_position": null,
            "order": null,
            "overflow": null,
            "overflow_x": null,
            "overflow_y": null,
            "padding": null,
            "right": null,
            "top": null,
            "visibility": null,
            "width": null
          }
        },
        "e5a8028d852042ff814bf9ddc1a2646a": {
          "model_module": "@jupyter-widgets/controls",
          "model_module_version": "1.5.0",
          "model_name": "FloatProgressModel",
          "state": {
            "_dom_classes": [],
            "_model_module": "@jupyter-widgets/controls",
            "_model_module_version": "1.5.0",
            "_model_name": "FloatProgressModel",
            "_view_count": null,
            "_view_module": "@jupyter-widgets/controls",
            "_view_module_version": "1.5.0",
            "_view_name": "ProgressView",
            "bar_style": "success",
            "description": "",
            "description_tooltip": null,
            "layout": "IPY_MODEL_1b636deabd174627b43841b6e3a438ee",
            "max": 3,
            "min": 0,
            "orientation": "horizontal",
            "style": "IPY_MODEL_1d4c7f641e1a41b3959cbe1034e698b4",
            "value": 3
          }
        },
        "e99e214716bc47aab4240deb2cb328a0": {
          "model_module": "@jupyter-widgets/base",
          "model_module_version": "1.2.0",
          "model_name": "LayoutModel",
          "state": {
            "_model_module": "@jupyter-widgets/base",
            "_model_module_version": "1.2.0",
            "_model_name": "LayoutModel",
            "_view_count": null,
            "_view_module": "@jupyter-widgets/base",
            "_view_module_version": "1.2.0",
            "_view_name": "LayoutView",
            "align_content": null,
            "align_items": null,
            "align_self": null,
            "border": null,
            "bottom": null,
            "display": null,
            "flex": null,
            "flex_flow": null,
            "grid_area": null,
            "grid_auto_columns": null,
            "grid_auto_flow": null,
            "grid_auto_rows": null,
            "grid_column": null,
            "grid_gap": null,
            "grid_row": null,
            "grid_template_areas": null,
            "grid_template_columns": null,
            "grid_template_rows": null,
            "height": null,
            "justify_content": null,
            "justify_items": null,
            "left": null,
            "margin": null,
            "max_height": null,
            "max_width": null,
            "min_height": null,
            "min_width": null,
            "object_fit": null,
            "object_position": null,
            "order": null,
            "overflow": null,
            "overflow_x": null,
            "overflow_y": null,
            "padding": null,
            "right": null,
            "top": null,
            "visibility": null,
            "width": null
          }
        },
        "ec8433a7a7b642b0970960c1a6ef9264": {
          "model_module": "@jupyter-widgets/controls",
          "model_module_version": "1.5.0",
          "model_name": "DescriptionStyleModel",
          "state": {
            "_model_module": "@jupyter-widgets/controls",
            "_model_module_version": "1.5.0",
            "_model_name": "DescriptionStyleModel",
            "_view_count": null,
            "_view_module": "@jupyter-widgets/base",
            "_view_module_version": "1.2.0",
            "_view_name": "StyleView",
            "description_width": ""
          }
        },
        "f1a6b5f6f685448b86b0d7d9e764eec5": {
          "model_module": "@jupyter-widgets/controls",
          "model_module_version": "1.5.0",
          "model_name": "FloatProgressModel",
          "state": {
            "_dom_classes": [],
            "_model_module": "@jupyter-widgets/controls",
            "_model_module_version": "1.5.0",
            "_model_name": "FloatProgressModel",
            "_view_count": null,
            "_view_module": "@jupyter-widgets/controls",
            "_view_module_version": "1.5.0",
            "_view_name": "ProgressView",
            "bar_style": "success",
            "description": "",
            "description_tooltip": null,
            "layout": "IPY_MODEL_deb99e07819b48c98caaf255f96f5e91",
            "max": 204240,
            "min": 0,
            "orientation": "horizontal",
            "style": "IPY_MODEL_4077c9b307fd40c38969a94135cb2043",
            "value": 204240
          }
        },
        "f57b0f2a06d042b7854403f9f0d24f94": {
          "model_module": "@jupyter-widgets/base",
          "model_module_version": "1.2.0",
          "model_name": "LayoutModel",
          "state": {
            "_model_module": "@jupyter-widgets/base",
            "_model_module_version": "1.2.0",
            "_model_name": "LayoutModel",
            "_view_count": null,
            "_view_module": "@jupyter-widgets/base",
            "_view_module_version": "1.2.0",
            "_view_name": "LayoutView",
            "align_content": null,
            "align_items": null,
            "align_self": null,
            "border": null,
            "bottom": null,
            "display": null,
            "flex": null,
            "flex_flow": null,
            "grid_area": null,
            "grid_auto_columns": null,
            "grid_auto_flow": null,
            "grid_auto_rows": null,
            "grid_column": null,
            "grid_gap": null,
            "grid_row": null,
            "grid_template_areas": null,
            "grid_template_columns": null,
            "grid_template_rows": null,
            "height": null,
            "justify_content": null,
            "justify_items": null,
            "left": null,
            "margin": null,
            "max_height": null,
            "max_width": null,
            "min_height": null,
            "min_width": null,
            "object_fit": null,
            "object_position": null,
            "order": null,
            "overflow": null,
            "overflow_x": null,
            "overflow_y": null,
            "padding": null,
            "right": null,
            "top": null,
            "visibility": null,
            "width": null
          }
        },
        "f607ecccd50449fa8dbd9da35c0731ba": {
          "model_module": "@jupyter-widgets/base",
          "model_module_version": "1.2.0",
          "model_name": "LayoutModel",
          "state": {
            "_model_module": "@jupyter-widgets/base",
            "_model_module_version": "1.2.0",
            "_model_name": "LayoutModel",
            "_view_count": null,
            "_view_module": "@jupyter-widgets/base",
            "_view_module_version": "1.2.0",
            "_view_name": "LayoutView",
            "align_content": null,
            "align_items": null,
            "align_self": null,
            "border": null,
            "bottom": null,
            "display": null,
            "flex": null,
            "flex_flow": null,
            "grid_area": null,
            "grid_auto_columns": null,
            "grid_auto_flow": null,
            "grid_auto_rows": null,
            "grid_column": null,
            "grid_gap": null,
            "grid_row": null,
            "grid_template_areas": null,
            "grid_template_columns": null,
            "grid_template_rows": null,
            "height": null,
            "justify_content": null,
            "justify_items": null,
            "left": null,
            "margin": null,
            "max_height": null,
            "max_width": null,
            "min_height": null,
            "min_width": null,
            "object_fit": null,
            "object_position": null,
            "order": null,
            "overflow": null,
            "overflow_x": null,
            "overflow_y": null,
            "padding": null,
            "right": null,
            "top": null,
            "visibility": null,
            "width": null
          }
        },
        "f7b9f051fbaa4e11abfedb01051d4f84": {
          "model_module": "@jupyter-widgets/base",
          "model_module_version": "1.2.0",
          "model_name": "LayoutModel",
          "state": {
            "_model_module": "@jupyter-widgets/base",
            "_model_module_version": "1.2.0",
            "_model_name": "LayoutModel",
            "_view_count": null,
            "_view_module": "@jupyter-widgets/base",
            "_view_module_version": "1.2.0",
            "_view_name": "LayoutView",
            "align_content": null,
            "align_items": null,
            "align_self": null,
            "border": null,
            "bottom": null,
            "display": null,
            "flex": null,
            "flex_flow": null,
            "grid_area": null,
            "grid_auto_columns": null,
            "grid_auto_flow": null,
            "grid_auto_rows": null,
            "grid_column": null,
            "grid_gap": null,
            "grid_row": null,
            "grid_template_areas": null,
            "grid_template_columns": null,
            "grid_template_rows": null,
            "height": null,
            "justify_content": null,
            "justify_items": null,
            "left": null,
            "margin": null,
            "max_height": null,
            "max_width": null,
            "min_height": null,
            "min_width": null,
            "object_fit": null,
            "object_position": null,
            "order": null,
            "overflow": null,
            "overflow_x": null,
            "overflow_y": null,
            "padding": null,
            "right": null,
            "top": null,
            "visibility": null,
            "width": null
          }
        },
        "fafb89c39b1a4e1e8b9de185c5c18058": {
          "model_module": "@jupyter-widgets/controls",
          "model_module_version": "1.5.0",
          "model_name": "DescriptionStyleModel",
          "state": {
            "_model_module": "@jupyter-widgets/controls",
            "_model_module_version": "1.5.0",
            "_model_name": "DescriptionStyleModel",
            "_view_count": null,
            "_view_module": "@jupyter-widgets/base",
            "_view_module_version": "1.2.0",
            "_view_name": "StyleView",
            "description_width": ""
          }
        },
        "fbbc946b7dbe40efa39784a50c6572eb": {
          "model_module": "@jupyter-widgets/base",
          "model_module_version": "1.2.0",
          "model_name": "LayoutModel",
          "state": {
            "_model_module": "@jupyter-widgets/base",
            "_model_module_version": "1.2.0",
            "_model_name": "LayoutModel",
            "_view_count": null,
            "_view_module": "@jupyter-widgets/base",
            "_view_module_version": "1.2.0",
            "_view_name": "LayoutView",
            "align_content": null,
            "align_items": null,
            "align_self": null,
            "border": null,
            "bottom": null,
            "display": null,
            "flex": null,
            "flex_flow": null,
            "grid_area": null,
            "grid_auto_columns": null,
            "grid_auto_flow": null,
            "grid_auto_rows": null,
            "grid_column": null,
            "grid_gap": null,
            "grid_row": null,
            "grid_template_areas": null,
            "grid_template_columns": null,
            "grid_template_rows": null,
            "height": null,
            "justify_content": null,
            "justify_items": null,
            "left": null,
            "margin": null,
            "max_height": null,
            "max_width": null,
            "min_height": null,
            "min_width": null,
            "object_fit": null,
            "object_position": null,
            "order": null,
            "overflow": null,
            "overflow_x": null,
            "overflow_y": null,
            "padding": null,
            "right": null,
            "top": null,
            "visibility": "hidden",
            "width": null
          }
        },
        "feeee45c90d74fc69115b577a7c804ac": {
          "model_module": "@jupyter-widgets/controls",
          "model_module_version": "1.5.0",
          "model_name": "DescriptionStyleModel",
          "state": {
            "_model_module": "@jupyter-widgets/controls",
            "_model_module_version": "1.5.0",
            "_model_name": "DescriptionStyleModel",
            "_view_count": null,
            "_view_module": "@jupyter-widgets/base",
            "_view_module_version": "1.2.0",
            "_view_name": "StyleView",
            "description_width": ""
          }
        }
      }
    }
  },
  "nbformat": 4,
  "nbformat_minor": 5
}