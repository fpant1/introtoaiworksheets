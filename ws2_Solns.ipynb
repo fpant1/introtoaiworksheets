{
  "nbformat": 4,
  "nbformat_minor": 0,
  "metadata": {
    "colab": {
      "provenance": [],
      "include_colab_link": true
    },
    "kernelspec": {
      "name": "python3",
      "display_name": "Python 3"
    },
    "language_info": {
      "name": "python"
    }
  },
  "cells": [
    {
      "cell_type": "markdown",
      "metadata": {
        "id": "view-in-github",
        "colab_type": "text"
      },
      "source": [
        "<a href=\"https://colab.research.google.com/github/fpant1/introtoaiworksheets/blob/main/ws2_Solns.ipynb\" target=\"_parent\"><img src=\"https://colab.research.google.com/assets/colab-badge.svg\" alt=\"Open In Colab\"/></a>"
      ]
    },
    {
      "cell_type": "markdown",
      "metadata": {
        "id": "DTk3oVBHNXzk"
      },
      "source": [
        "# EMAT31530 Introduction to Artificial Intelligence\n",
        "## Worksheet 2 Regression and Classification\n",
        "\n",
        "This worksheet will consist of two parts\n",
        "* we will pick up where we left off last week, by modifying our setup such \n",
        "that we measure the ability of our linear regressor to generalise to unseen data.\n",
        "* we will cover classification models, where instead of predicting a numeric label, we are predicitng a category."
      ]
    },
    {
      "cell_type": "markdown",
      "metadata": {
        "id": "y6xhAe0JxP3H"
      },
      "source": [
        "Our first task is to catchup to where we left off last week. The code below will get us there. Make sure you understand it, and understand the previous worksheet, before continuing."
      ]
    },
    {
      "cell_type": "code",
      "metadata": {
        "id": "1aIk10JNN9S8",
        "colab": {
          "base_uri": "https://localhost:8080/"
        },
        "outputId": "ea5433fd-22dd-4845-cd2c-1de4f965cf06"
      },
      "source": [
        "def\n",
        "\n",
        "from sklearn import datasets\n",
        "from sklearn.linear_model import LinearRegression\n",
        "from sklearn.metrics import mean_squared_error\n",
        "import matplotlib.pylab as plt\n",
        "import numpy as np\n",
        "# lets make sure we are on the right version of scikit-learn\n",
        "!pip install scikit-learn==0.22.2.post1\n",
        "boston = datasets.load_boston()\n",
        "X = boston.data\n",
        "y = boston.target\n",
        "\n",
        "nox = X[:,[4]]\n",
        "num_rooms = X[:,[5]]"
      ],
      "execution_count": null,
      "outputs": [
        {
          "output_type": "stream",
          "name": "stdout",
          "text": [
            "Requirement already satisfied: scikit-learn==0.22.2.post1 in /usr/local/lib/python3.7/dist-packages (0.22.2.post1)\n",
            "Requirement already satisfied: joblib>=0.11 in /usr/local/lib/python3.7/dist-packages (from scikit-learn==0.22.2.post1) (1.0.1)\n",
            "Requirement already satisfied: numpy>=1.11.0 in /usr/local/lib/python3.7/dist-packages (from scikit-learn==0.22.2.post1) (1.19.5)\n",
            "Requirement already satisfied: scipy>=0.17.0 in /usr/local/lib/python3.7/dist-packages (from scikit-learn==0.22.2.post1) (1.4.1)\n"
          ]
        }
      ]
    },
    {
      "cell_type": "code",
      "metadata": {
        "id": "myMtihff53ep"
      },
      "source": [
        "def produce_linear_plot(x, y):\n",
        "  model = LinearRegression()\n",
        "  model.fit(x, y)\n",
        "  predictions = model.predict(x)\n",
        "  print(\"The first 5 predictions are %s\" % predictions[:5])\n",
        "  print(\"The first 5 true values are %s\" % y[:5])\n",
        "  plt.scatter(x, y)\n",
        "  plt.plot(x, predictions, color='green', linewidth=3)\n",
        "  return predictions"
      ],
      "execution_count": null,
      "outputs": []
    },
    {
      "cell_type": "markdown",
      "metadata": {
        "id": "ASlWDcZP5KiU"
      },
      "source": [
        "## Part 1 (Generalisation)\n",
        "Last week we covered building linear regression models for two features, visualising the fit, and then calculating the MSE. However, this week in lectures we covered the importantance of generalisation, and the importantance of 'withholding' some data from the model during the training process so we can use it to measure the ability of the model to accurately predict the classes (labels, y) of this witheld data (the test set).\n",
        "\n",
        "As usual, scikit-learn has a helpful function for generation a train and test set. On line 1 below we import that function and on line 2 we generate a train and test split for the nox feature, where 25% of the data is used for the test set, and the other 75% for the training set.\n",
        "\n",
        "random_state just ensures that we take the same split each time - it is useful for ensuring reproducible results."
      ]
    },
    {
      "cell_type": "markdown",
      "metadata": {
        "id": "jCunUdhwSV7A"
      },
      "source": [
        "### Producing predictions on a test set\n",
        "If you have correctly wrote the code, you should see some predictions when you run the code below."
      ]
    },
    {
      "cell_type": "code",
      "metadata": {
        "id": "n-8BmWeKPKSd"
      },
      "source": [
        "from sklearn.model_selection import train_test_split\n",
        "train_X, test_X, train_y, test_y = train_test_split(nox, y, test_size=0.25, random_state=0,)"
      ],
      "execution_count": null,
      "outputs": []
    },
    {
      "cell_type": "markdown",
      "metadata": {
        "id": "6AHHoHC355bf"
      },
      "source": [
        "Unfortunately, our produce_linear_plot function isn't suitable for this setup, since it assumes you train (fit) and test (predict) on the same data - which is rarely what we want to do. \n",
        "\n",
        "**Task: implement the function below. The function should do 3 things.**\n",
        "\n",
        "*   It should expect to receive not just 'x' and 'y' as parameters, but train_X, test_X, train_y and test_y as parameters.\n",
        "\n",
        "*   It should then create an instance of a Linear Regresion model.\n",
        "\n",
        "* It should then fit this model using the training data.\n",
        "\n",
        "* Finally, it should make predictions on the test data, and return those predictions.\n"
      ]
    },
    {
      "cell_type": "code",
      "metadata": {
        "id": "3RZ4-wKS5yHZ"
      },
      "source": [
        "def produce_predictions_linear_regression(train_X, test_X, train_y):\n",
        "  model = LinearRegression()\n",
        "  model.fit(train_X, train_y)\n",
        "  predictions = model.predict(test_X)\n",
        "  return predictions\n"
      ],
      "execution_count": null,
      "outputs": []
    },
    {
      "cell_type": "code",
      "metadata": {
        "id": "TQhjXTME6xUp",
        "colab": {
          "base_uri": "https://localhost:8080/"
        },
        "outputId": "67fb1e66-db41-4b4f-b139-ed0a43e447b1"
      },
      "source": [
        "nox_predictions = produce_predictions_linear_regression(train_X, test_X, train_y)\n",
        "print(\"The first 5 predictions are %s\" % nox_predictions[:5])\n",
        "print(\"The first 5 true values are %s\" % test_y[:5])"
      ],
      "execution_count": null,
      "outputs": [
        {
          "output_type": "stream",
          "name": "stdout",
          "text": [
            "The first 5 predictions are [26.07396957 19.91176827 22.83070573 17.67751985 26.90280366]\n",
            "The first 5 true values are [22.6 50.  23.   8.3 21.2]\n"
          ]
        }
      ]
    },
    {
      "cell_type": "markdown",
      "metadata": {
        "id": "1fgOdPilDimx"
      },
      "source": [
        "If it works, you should see output when you run the above cells similar to:\n",
        "\n",
        "\n",
        "\n",
        "```\n",
        "The first 5 predictions are [26.07396957 19.91176827 22.83070573 17.67751985 26.90280366]\n",
        "The first 5 true values are [22.6 50.  23.   8.3 21.2]\n",
        "```\n",
        "\n"
      ]
    },
    {
      "cell_type": "markdown",
      "metadata": {
        "id": "VXhEw02D7Kd8"
      },
      "source": [
        "### Calculating the performance on the test set\n",
        "Great, so we can now train a model, produce predictions on a test set.\n",
        "\n",
        "As we done in the last worksheet, let's calculate the mean squared error. This will tell us how close our models predictions on the test set are to the true values.\n",
        "\n",
        "\n",
        "**Task: Use the predictions returned from our new function (produce_predictions_linear_regression) to calculate the MSE on the test data.**"
      ]
    },
    {
      "cell_type": "code",
      "metadata": {
        "id": "Fii2DATa7TWN",
        "colab": {
          "base_uri": "https://localhost:8080/"
        },
        "outputId": "c5f619e4-b0a9-4117-bf5f-47ac5f4c5b15"
      },
      "source": [
        "nox_mse = mean_squared_error(test_y, nox_predictions)\n",
        "\n",
        "print('Mean squared error on the the test set: %.2f' % nox_mse )"
      ],
      "execution_count": null,
      "outputs": [
        {
          "output_type": "stream",
          "name": "stdout",
          "text": [
            "Mean squared error on the the test set: 72.83\n"
          ]
        }
      ]
    },
    {
      "cell_type": "markdown",
      "metadata": {
        "id": "91mpF9H6E2xZ"
      },
      "source": [
        "You should see output similar the below\n",
        "\n",
        "`Mean squared error on the test set 72.83`"
      ]
    },
    {
      "cell_type": "markdown",
      "metadata": {
        "id": "rNlJY_kN8cug"
      },
      "source": [
        "OK, so we can see that the mean squared error when using the nox feature to predict the house prices on the test set is pretty high.\n",
        "\n",
        "**Task: calculate the test set mean squared error of the num_rooms feature**"
      ]
    },
    {
      "cell_type": "code",
      "metadata": {
        "id": "Eoa22iiJ8iAT",
        "colab": {
          "base_uri": "https://localhost:8080/"
        },
        "outputId": "0a969929-0e57-4545-c70d-454696df4662"
      },
      "source": [
        "# Your code here\n",
        "train_X, test_X, train_y, test_y = train_test_split(num_rooms, y, test_size=0.25, random_state=0,)\n",
        "predictions = produce_predictions_linear_regression(train_X, test_X, train_y)\n",
        "num_rooms_mse = mean_squared_error(test_y, predictions)\n",
        "print('Mean squared error on the test set %.2f' % num_rooms_mse )"
      ],
      "execution_count": null,
      "outputs": [
        {
          "output_type": "stream",
          "name": "stdout",
          "text": [
            "Mean squared error on the test set 43.47\n"
          ]
        }
      ]
    },
    {
      "cell_type": "markdown",
      "metadata": {
        "id": "wHTbUMPoXa-Q"
      },
      "source": [
        "You should see output similar to the below\n",
        "\n",
        "\n",
        "\n",
        "```\n",
        "The first 5 predictions are [22.7979148  21.70829974 23.17043277 13.63397276 21.85730693]\n",
        "The first 5 true values are [22.6 50.  23.   8.3 21.2]\n",
        "Mean squared error on the test set 43.47\n",
        "```\n",
        "\n"
      ]
    },
    {
      "cell_type": "markdown",
      "metadata": {
        "id": "Fs6LW9rC80YX"
      },
      "source": [
        "Cool, it appears that even with the test set, a linear regression model trained on the number of rooms has a lower mean squared error than a model trained on the nox feature.\n",
        "\n",
        "### Multiple Linear Regression\n",
        "So far we have mostly been building linear regressors on single features (either nox or num_rooms). However, rarely would we want to do this. Instead, we usually have more features available and thus would want to build a model (linear regressor or otherwise) that uses more than one feature.\n",
        "\n",
        "**Task: To do this, create a train_test_split using *all* of our features X.**\n"
      ]
    },
    {
      "cell_type": "code",
      "metadata": {
        "id": "djRs787T9I7H"
      },
      "source": [
        "# complete the below\n",
        "train_X, test_X, train_y, test_y = train_test_split(X, y, test_size=0.25, random_state=0,)"
      ],
      "execution_count": null,
      "outputs": []
    },
    {
      "cell_type": "markdown",
      "metadata": {
        "id": "1J9-FtftX0YH"
      },
      "source": [
        "Let's print out the first row of training data, to make sure it looks like what we expect."
      ]
    },
    {
      "cell_type": "code",
      "metadata": {
        "id": "S6IMo_8LX_nD",
        "colab": {
          "base_uri": "https://localhost:8080/"
        },
        "outputId": "7a596805-5cbb-4fe0-ec20-ccae21555493"
      },
      "source": [
        "print('The first row of data in the training set is %s' % train_X[0])"
      ],
      "execution_count": null,
      "outputs": [
        {
          "output_type": "stream",
          "name": "stdout",
          "text": [
            "The first row of data in the training set is [1.9133e-01 2.2000e+01 5.8600e+00 0.0000e+00 4.3100e-01 5.6050e+00\n",
            " 7.0200e+01 7.9549e+00 7.0000e+00 3.3000e+02 1.9100e+01 3.8913e+02\n",
            " 1.8460e+01]\n"
          ]
        }
      ]
    },
    {
      "cell_type": "markdown",
      "metadata": {
        "id": "ti9JIKLbYLyt"
      },
      "source": [
        "It should look something like below:\n",
        "\n",
        "\n",
        "\n",
        "```\n",
        "The first row of data in the training set is [1.9133e-01 2.2000e+01 5.8600e+00 0.0000e+00 4.3100e-01 5.6050e+00\n",
        " 7.0200e+01 7.9549e+00 7.0000e+00 3.3000e+02 1.9100e+01 3.8913e+02\n",
        " 1.8460e+01]\n",
        "```\n",
        "\n",
        "\n"
      ]
    },
    {
      "cell_type": "markdown",
      "metadata": {
        "id": "IUheBt5-YrR4"
      },
      "source": [
        "**Task: calculate the mean squared error on the test set when using all of the features**\n"
      ]
    },
    {
      "cell_type": "code",
      "metadata": {
        "id": "ujzmDPbPUj2k",
        "colab": {
          "base_uri": "https://localhost:8080/"
        },
        "outputId": "61e1fa9f-9e60-4d0f-ac04-0cc97a7a405e"
      },
      "source": [
        "# your code here\n",
        "all_predictions = produce_predictions_linear_regression(train_X, test_X, train_y)\n",
        "all_mse = mean_squared_error(test_y, all_predictions)\n",
        "print('Mean squared error on the test set %.2f' % all_mse )"
      ],
      "execution_count": null,
      "outputs": [
        {
          "output_type": "stream",
          "name": "stdout",
          "text": [
            "Mean squared error on the test set 29.78\n"
          ]
        }
      ]
    },
    {
      "cell_type": "markdown",
      "metadata": {
        "id": "Ufs9XCxy-1PD"
      },
      "source": [
        "It should look something like below:\n",
        "\n",
        "```\n",
        "Mean squared error on the test set 29.78\n",
        "```\n",
        "\n",
        "Finally, let's create a bar chart showing the MSE of each model (a model using only the NOX feature, a model using only the num_rooms feature, and a model using all of the features.\n",
        "\n",
        "Ensure that the 3 variables storing your mse values are the same as the variable names below."
      ]
    },
    {
      "cell_type": "code",
      "metadata": {
        "id": "uXUUJ1xYUSEw",
        "colab": {
          "base_uri": "https://localhost:8080/",
          "height": 283
        },
        "outputId": "afdfcb0a-d673-4142-bc86-941098aadde7"
      },
      "source": [
        "mses = [nox_mse, num_rooms_mse, all_mse]\n",
        "labels = ['nox mse', 'rooms_mse', 'all_mse']\n",
        "import numpy as np\n",
        "y_pos = np.arange(len(mses))\n",
        "\n",
        "plt.bar(y_pos, mses)\n",
        "plt.xticks(y_pos, labels)\n",
        "plt.ylabel('MSE')\n"
      ],
      "execution_count": null,
      "outputs": [
        {
          "output_type": "execute_result",
          "data": {
            "text/plain": [
              "Text(0, 0.5, 'MSE')"
            ]
          },
          "metadata": {},
          "execution_count": 18
        },
        {
          "output_type": "display_data",
          "data": {
            "image/png": "[encoded data removed]",
            "text/plain": [
              "<Figure size 432x288 with 1 Axes>"
            ]
          },
          "metadata": {
            "needs_background": "light"
          }
        }
      ]
    },
    {
      "cell_type": "markdown",
      "metadata": {
        "id": "-82yiLdtOdhB"
      },
      "source": [
        "## Part 2 (Classification)\n",
        "\n",
        "Regression models are great when you are trying to predict some sort of number, but if you are interested in predicting a category or discrete label (which is often the case), then classification models are more suitable. \n",
        "\n",
        "### The Titanic\n",
        "The Titanic, deemed unsinkable, sunk during it maiden, and only, voyage from Southampton to New York City in 1912, by colliding with an ice berg.\n",
        "\n",
        "![Stower_Titanic.jpeg](data:image/jpeg;base64,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)\n",
        "\n",
        "*Untergang der Titanic by Willy Stöwer, 1912, Wikipedia.*\n",
        "\n",
        "Below, we will investigate the following\n",
        "* we will use a dataset of around 800 passengers on the Titanic, with some information about each, including whether they survived.\n",
        "* using this dataset we will try two models covered in the unit so far, perceptrons and decision trees, and compare their performance at predicting whether passengers survived the titanic.\n",
        "* we will try and use appropiate regularisation for each model to see if we can further improve the perfomance of the model.\n",
        "\n",
        "The first thing to do is download the data. I have hosted the CSV at the URL below, which we can read over the Internet using the pandas pd.read_csv function. "
      ]
    },
    {
      "cell_type": "code",
      "metadata": {
        "id": "_PgOnO6XOdFN"
      },
      "source": [
        "import pandas as pd\n",
        "df = pd.read_csv('https://ryanmcconville.com/titanic.csv')"
      ],
      "execution_count": null,
      "outputs": []
    },
    {
      "cell_type": "markdown",
      "metadata": {
        "id": "oezg41XhAZMO"
      },
      "source": [
        "### Data Preprocessing\n",
        "Let's print out the pandas dataframe and see what it looks like. As you hopefully recall from the introduction worksheet, you can print out the first rows of a dataframe with the 'head' method.\n",
        "\n",
        "**Task: use the head method to print out the first 5 rows of the dataframe.**"
      ]
    },
    {
      "cell_type": "code",
      "metadata": {
        "id": "NmR7g3IMAYqr",
        "colab": {
          "base_uri": "https://localhost:8080/"
        },
        "outputId": "62d61240-4162-4c51-e7f1-482ce75adae8"
      },
      "source": [
        "# your code here\n",
        "print(df.head())"
      ],
      "execution_count": null,
      "outputs": [
        {
          "output_type": "stream",
          "name": "stdout",
          "text": [
            "   PassengerId  Survived  Pclass  ...     Fare Cabin  Embarked\n",
            "0            1         0       3  ...   7.2500   NaN         S\n",
            "1            2         1       1  ...  71.2833   C85         C\n",
            "2            3         1       3  ...   7.9250   NaN         S\n",
            "3            4         1       1  ...  53.1000  C123         S\n",
            "4            5         0       3  ...   8.0500   NaN         S\n",
            "\n",
            "[5 rows x 12 columns]\n"
          ]
        }
      ]
    },
    {
      "cell_type": "markdown",
      "metadata": {
        "id": "4NGo7vP9eHdj"
      },
      "source": [
        "What you should see above is that there are a number of different features in this dataset. Each row corresponds to a single person on the titanic.\n",
        "\n",
        "The 'Survived' feature looks particularly interesting from a classification point of view - we will consider this a binary classification task where we want to predict if a passenger surived the titanic, based on other features recorded about them (such as their class 'Pclass', their 'Fare' and so on)\n",
        "\n",
        "**Task: Extract the 'Survived' column from the dataframe as our target variable, or 'y'**"
      ]
    },
    {
      "cell_type": "code",
      "metadata": {
        "id": "iuOyI2HheCV1",
        "colab": {
          "base_uri": "https://localhost:8080/"
        },
        "outputId": "daa4e4f7-a860-47fb-eeab-d1445434618d"
      },
      "source": [
        "# your code here.\n",
        "y = df['Survived'].values\n",
        "print(y)"
      ],
      "execution_count": null,
      "outputs": [
        {
          "output_type": "stream",
          "name": "stdout",
          "text": [
            "[0 1 1 1 0 0 0 0 1 1 1 1 0 0 0 1 0 1 0 1 0 1 1 1 0 1 0 0 1 0 0 1 1 0 0 0 1\n",
            " 0 0 1 0 0 0 1 1 0 0 1 0 0 0 0 1 1 0 1 1 0 1 0 0 1 0 0 0 1 1 0 1 0 0 0 0 0\n",
            " 1 0 0 0 1 1 0 1 1 0 1 1 0 0 1 0 0 0 0 0 0 0 0 1 1 0 0 0 0 0 0 0 1 1 0 1 0\n",
            " 0 0 0 0 0 0 0 0 0 0 0 0 1 0 1 0 1 1 0 0 0 0 1 0 0 1 0 0 0 0 1 1 0 0 0 1 0\n",
            " 0 0 0 1 0 0 0 0 1 0 0 0 0 1 0 0 0 1 1 0 0 0 0 0 1 0 0 0 0 0 0 0 0 0 0 1 1\n",
            " 0 1 1 0 0 1 0 1 1 1 1 0 0 1 0 0 0 0 0 1 0 0 1 1 1 0 1 0 0 0 1 1 0 1 0 1 0\n",
            " 0 0 1 0 1 0 0 0 1 0 0 1 0 0 0 1 0 0 0 1 0 0 0 0 0 1 1 0 0 0 0 0 0 1 1 1 1\n",
            " 1 0 1 0 0 0 0 0 1 1 1 0 1 1 0 1 1 0 0 0 1 0 0 0 1 0 0 1 0 1 1 1 1 0 0 0 0\n",
            " 0 0 1 1 1 1 0 1 0 1 1 1 0 1 1 1 0 0 0 1 1 0 1 1 0 0 1 1 0 1 0 1 1 1 1 0 0\n",
            " 0 1 0 0 1 1 0 1 1 0 0 0 1 1 1 1 0 0 0 0 0 0 0 1 0 1 1 0 0 0 0 0 0 1 1 1 1\n",
            " 1 0 0 0 0 1 1 0 0 0 1 1 0 1 0 0 0 1 0 1 1 1 0 1 1 0 0 0 0 1 1 0 0 0 0 0 0\n",
            " 1 0 0 0 0 1 0 1 0 1 1 0 0 0 0 0 0 0 0 1 1 0 1 1 1 1 0 0 1 0 1 0 0 1 0 0 1\n",
            " 1 1 1 1 1 1 0 0 0 1 0 1 0 1 1 0 1 0 0 0 0 0 0 0 0 1 0 0 1 1 0 0 0 0 0 1 0\n",
            " 0 0 1 1 0 1 0 0 1 0 0 0 0 0 0 1 0 0 0 0 0 0 0 1 0 1 1 0 1 1 0 1 1 0 0 1 0\n",
            " 1 0 1 0 0 1 0 0 1 0 0 0 1 0 0 1 0 1 0 1 0 1 1 0 0 1 0 0 1 1 0 1 1 0 0 1 1\n",
            " 0 1 0 1 1 0 0 0 0 0 0 0 0 0 1 1 1 1 1 0 0 1 1 0 1 1 1 0 0 0 1 0 1 0 0 0 1\n",
            " 0 0 0 0 1 0 0 1 1 0 0 0 1 0 0 1 1 1 0 0 1 0 0 1 0 0 1 0 0 1 1 0 0 0 0 1 0\n",
            " 0 1 0 1 0 0 1 0 0 0 0 0 1 0 1 1 1 0 1 0 1 0 1 0 1 0 0 0 0 0 0 1 0 0 0 1 0\n",
            " 0 0 0 1 1 0 0 1 0 0 0 1 0 1 0 1 0 0 0 0 0 0 0 1 1 1 1 0 0 0 0 1 0 0 1 1 0\n",
            " 0 0 0 1 1 1 1 1 0 1 0 0 0 1 1 0 0 1 0 0 0 1 0 1 1 0 0 1 0 0 0 0 0 0 1 0 0\n",
            " 1 0 1 0 1 0 0 1 0 0 1 1 0 0 1 1 0 0 0 1 0 0 1 1 0 1 0 0 0 0 0 0 0 0 1 0 0\n",
            " 1 0 1 1 1 0 0 0 0 1 0 1 0 0 0 0 0 0 0 1 1 0 0 0 1 1 1 1 0 0 0 0 1 0 0 0 0\n",
            " 0 0 0 0 0 0 1 1 0 1 0 0 0 1 1 1 1 1 0 0 0 1 0 0 1 1 0 0 1 0 0 0 0 0 0 1 0\n",
            " 0 0 1 0 1 1 1 1 0 0 0 1 0 0 1 1 0 0 1 0 1 0 0 1 1 0 0 0 1 1 0 0 0 0 0 0 1\n",
            " 0 1 0]\n"
          ]
        }
      ]
    },
    {
      "cell_type": "markdown",
      "metadata": {
        "id": "A6FXDSZMex4d"
      },
      "source": [
        "Now let us see which features are available in the data."
      ]
    },
    {
      "cell_type": "code",
      "metadata": {
        "id": "wSdG1FAVetO-",
        "colab": {
          "base_uri": "https://localhost:8080/"
        },
        "outputId": "c87730dd-1025-467f-8037-68fad23be29f"
      },
      "source": [
        "print(df.columns)\n",
        "print(df['Sex'])"
      ],
      "execution_count": null,
      "outputs": [
        {
          "output_type": "stream",
          "name": "stdout",
          "text": [
            "Index(['PassengerId', 'Survived', 'Pclass', 'Name', 'Sex', 'Age', 'SibSp',\n",
            "       'Parch', 'Ticket', 'Fare', 'Cabin', 'Embarked'],\n",
            "      dtype='object')\n",
            "0        male\n",
            "1      female\n",
            "2      female\n",
            "3      female\n",
            "4        male\n",
            "        ...  \n",
            "886      male\n",
            "887    female\n",
            "888    female\n",
            "889      male\n",
            "890      male\n",
            "Name: Sex, Length: 891, dtype: object\n"
          ]
        }
      ]
    },
    {
      "cell_type": "markdown",
      "metadata": {
        "id": "ivULu2JUBYNx"
      },
      "source": [
        "From this quick investigation, there are two questions I want you to consider.\n",
        "\n",
        "1.   Why should we not use the PassengerId and Name features?\n",
        "2.   Will a model know how to handle the 'Sex' feature given it is a string ('male' or 'female')?\n",
        "\n",
        "### One hot encoding"
      ]
    },
    {
      "cell_type": "markdown",
      "metadata": {
        "id": "jcoHLmaZBwwj"
      },
      "source": [
        "Recall from the lectures that we often have to preprocess nominal or discrete data such as strings of text.\n",
        "\n",
        "Pandas has a method called 'get_dummies' where it will automatically generate 'one hot encoded' features from the 'Sex' feature so it can be used in our models."
      ]
    },
    {
      "cell_type": "code",
      "metadata": {
        "id": "gSlU8uswlEY3"
      },
      "source": [
        "df=pd.get_dummies(df, columns=['Sex'])"
      ],
      "execution_count": null,
      "outputs": []
    },
    {
      "cell_type": "code",
      "metadata": {
        "id": "uZT4woXkCwXh",
        "colab": {
          "base_uri": "https://localhost:8080/"
        },
        "outputId": "d4499fe7-865c-4b54-c58c-8b4a2b9829b0"
      },
      "source": [
        "print(df)"
      ],
      "execution_count": null,
      "outputs": [
        {
          "output_type": "stream",
          "name": "stdout",
          "text": [
            "     PassengerId  Survived  Pclass  ... Embarked  Sex_female  Sex_male\n",
            "0              1         0       3  ...        S           0         1\n",
            "1              2         1       1  ...        C           1         0\n",
            "2              3         1       3  ...        S           1         0\n",
            "3              4         1       1  ...        S           1         0\n",
            "4              5         0       3  ...        S           0         1\n",
            "..           ...       ...     ...  ...      ...         ...       ...\n",
            "886          887         0       2  ...        S           0         1\n",
            "887          888         1       1  ...        S           1         0\n",
            "888          889         0       3  ...        S           1         0\n",
            "889          890         1       1  ...        C           0         1\n",
            "890          891         0       3  ...        Q           0         1\n",
            "\n",
            "[891 rows x 13 columns]\n"
          ]
        }
      ]
    },
    {
      "cell_type": "markdown",
      "metadata": {
        "id": "QkxWQ-4Ze27A"
      },
      "source": [
        "OK, how we have one hot encoded the 'Sex' column, we can move forward and select the features we want to use for classifying whether someone will survive.\n",
        "\n",
        "In the below code we extract from the pandas dataframe a set of features into our X variable."
      ]
    },
    {
      "cell_type": "code",
      "metadata": {
        "id": "lKrUh_sgcL3O",
        "colab": {
          "base_uri": "https://localhost:8080/"
        },
        "outputId": "1b2ebf0f-a877-413b-ecd0-c3f1c1e60936"
      },
      "source": [
        "X = df[['Pclass', 'Age', 'SibSp', 'Parch', 'Fare', 'Sex_male', 'Sex_female']]\n",
        "print(X.tail())"
      ],
      "execution_count": null,
      "outputs": [
        {
          "output_type": "stream",
          "name": "stdout",
          "text": [
            "     Pclass   Age  SibSp  Parch   Fare  Sex_male  Sex_female\n",
            "886       2  27.0      0      0  13.00         1           0\n",
            "887       1  19.0      0      0  30.00         0           1\n",
            "888       3   NaN      1      2  23.45         0           1\n",
            "889       1  26.0      0      0  30.00         1           0\n",
            "890       3  32.0      0      0   7.75         1           0\n"
          ]
        }
      ]
    },
    {
      "cell_type": "markdown",
      "metadata": {
        "id": "ZweSZqM7DbRU"
      },
      "source": [
        "**Task: The above code doesn't include our newly created one hot encoded Sex_male and Sex_female features, so modify the code above to also include it.**\n",
        "\n",
        "Once done, print the 'tail' of the selected features in X to check it worked. It should have a column called 'Sex_female' and 'Sex_male'."
      ]
    },
    {
      "cell_type": "markdown",
      "metadata": {
        "id": "YxHSi4xWfvio"
      },
      "source": [
        "\n",
        "Unfortunately, form above,  it looks like some of our data has 'nan' values, or 'not a number' values. This is very common in real world data, and we need to make a decision about how we handle data with missing values as most classifiers will work with them. There are many strategies, but we will take the most straightforward for now, we will simply replace any NaNs with the mean value of that feature from the remaining data."
      ]
    },
    {
      "cell_type": "code",
      "metadata": {
        "id": "rFKgut8Lgnbk",
        "colab": {
          "base_uri": "https://localhost:8080/"
        },
        "outputId": "1bf67271-7c18-4810-d105-83950a54ab63"
      },
      "source": [
        "X['Age'] = X['Age'].fillna(X['Age'].mean())"
      ],
      "execution_count": null,
      "outputs": [
        {
          "output_type": "stream",
          "name": "stderr",
          "text": [
            "/usr/local/lib/python3.7/dist-packages/ipykernel_launcher.py:1: SettingWithCopyWarning: \n",
            "A value is trying to be set on a copy of a slice from a DataFrame.\n",
            "Try using .loc[row_indexer,col_indexer] = value instead\n",
            "\n",
            "See the caveats in the documentation: https://pandas.pydata.org/pandas-docs/stable/user_guide/indexing.html#returning-a-view-versus-a-copy\n",
            "  \"\"\"Entry point for launching an IPython kernel.\n"
          ]
        }
      ]
    },
    {
      "cell_type": "markdown",
      "metadata": {
        "id": "G7gNp0tUakjP"
      },
      "source": [
        "### Implementing the Perceptron classifier\n",
        "Hopefully you have watched (and also implemented) a Perceptron classifier, with the videos this week, so we know how it works. Let's use the scikit-learn implementation now, which has a few more features (which we will use later).\n",
        "\n"
      ]
    },
    {
      "cell_type": "code",
      "metadata": {
        "id": "Vkm0m5sVWOiX"
      },
      "source": [
        "from sklearn.linear_model import Perceptron"
      ],
      "execution_count": null,
      "outputs": []
    },
    {
      "cell_type": "markdown",
      "metadata": {
        "id": "p0YNAbiAD9OK"
      },
      "source": [
        "**Task: the first thing we should do is create our train test splits. You do this the same as before. Set the test_size to be 0.25 and random_state to be 0.**"
      ]
    },
    {
      "cell_type": "code",
      "metadata": {
        "id": "iCLzjrd0ED_V"
      },
      "source": [
        "train_X, test_X, train_y, test_y = train_test_split(X, y, test_size=0.25, random_state=0)"
      ],
      "execution_count": null,
      "outputs": []
    },
    {
      "cell_type": "markdown",
      "metadata": {
        "id": "JAMxOTKIa6AX"
      },
      "source": [
        "Now that we have our train and test splits, we should instantiate a Perceptron  classifier with the hyperparameters we want.\n",
        "\n",
        "**Task: Create a perceptron classifier object with random_state=0, max_iter=100 and tol=0.001**\n",
        "\n",
        "max_iter is the maximum number of iterations over the training data, while tol specifies the change threshold of the loss. Training will stop when (loss > previous_loss - tol)."
      ]
    },
    {
      "cell_type": "code",
      "metadata": {
        "id": "tjfJfwj0bGPT"
      },
      "source": [
        "clf = Perceptron(random_state=0, max_iter=100, tol=0.001)"
      ],
      "execution_count": null,
      "outputs": []
    },
    {
      "cell_type": "markdown",
      "metadata": {
        "id": "bWAkZPmpbJuu"
      },
      "source": [
        "Next we will call the fit function of our Perceptron classifier, which will train the classifier (learn the weights of the model) on the training data.\n",
        "\n",
        "**Task: fit the perceptron to the training data**\n"
      ]
    },
    {
      "cell_type": "code",
      "metadata": {
        "id": "V_fyql96bKWE",
        "colab": {
          "base_uri": "https://localhost:8080/"
        },
        "outputId": "c96b202b-d79f-4f8b-bd66-775393991199"
      },
      "source": [
        "clf.fit(train_X, train_y)"
      ],
      "execution_count": null,
      "outputs": [
        {
          "output_type": "execute_result",
          "data": {
            "text/plain": [
              "Perceptron(alpha=0.0001, class_weight=None, early_stopping=False, eta0=1.0,\n",
              "           fit_intercept=True, max_iter=100, n_iter_no_change=5, n_jobs=None,\n",
              "           penalty=None, random_state=0, shuffle=True, tol=0.001,\n",
              "           validation_fraction=0.1, verbose=0, warm_start=False)"
            ]
          },
          "metadata": {},
          "execution_count": 36
        }
      ]
    },
    {
      "cell_type": "markdown",
      "metadata": {
        "id": "5-dy7dOFblOQ"
      },
      "source": [
        "Once we have called fit on our model, we can call the predict function of the model with data that we would like to make predictions for.\n",
        "\n",
        "**Task: produce predictions for the test data using the trained classifier**"
      ]
    },
    {
      "cell_type": "code",
      "metadata": {
        "id": "LEKVs857bkcr"
      },
      "source": [
        "predictions = clf.predict(test_X)"
      ],
      "execution_count": null,
      "outputs": []
    },
    {
      "cell_type": "markdown",
      "metadata": {
        "id": "1TUw5rqabUr-"
      },
      "source": [
        "Since this is classification task, we can calculate the accuracy of the model by comparing for each data point, if the model predicted the correct class.\n",
        "\n",
        "Previously we used from sklearn.metrics the 'mean_squared_error'. Have a look at the sklearn metrics documentation and import the metric to calculate the accuracy of our classification model (https://scikit-learn.org/stable/modules/generated/sklearn.metrics.accuracy_score.html#sklearn.metrics.accuracy_score)\n",
        "\n",
        "This metric corresponds to the following:\n",
        "$\\text{Accuracy} = \\frac{\\text{Number of correct predictions}}{\\text{Total number of predictions}}$\n",
        "\n",
        "So what this metric does is it gowa through each of your predictions produced by your classifer, and counts the number of times the class predicted is the same as the class in your ground truth ('y'/'test_y')\n",
        "\n",
        "**Task: calculate the accuracy of your classifer on the test set**"
      ]
    },
    {
      "cell_type": "code",
      "metadata": {
        "id": "fHAkFr7SbUCB",
        "colab": {
          "base_uri": "https://localhost:8080/"
        },
        "outputId": "ff6b1e4e-50af-4fa9-e945-e930e2e6da02"
      },
      "source": [
        "from sklearn.metrics import accuracy_score\n",
        "\n",
        "test_acc_perceptron = accuracy_score(test_y, predictions)\n",
        "\n",
        "print('The accuracy of the perceptron classifier on the test set is %.2f' % test_acc_perceptron)"
      ],
      "execution_count": null,
      "outputs": [
        {
          "output_type": "stream",
          "name": "stdout",
          "text": [
            "The accuracy of the perceptron classifier on the test set is 0.70\n"
          ]
        }
      ]
    },
    {
      "cell_type": "markdown",
      "metadata": {
        "id": "zvOx19zObwfF"
      },
      "source": [
        "### Measuring bias/variance\n",
        "In the lectures we discussed bias and variance and how this manifests in the training and test error. Let's write a function that produces a plot of the train and test error. \n",
        "\n",
        "This function will take as arguments the training accuracy and testing accuracy, and display a bar chart of the respective errors.\n"
      ]
    },
    {
      "cell_type": "code",
      "metadata": {
        "id": "cPdZda6FYbTP"
      },
      "source": [
        "def plot_train_test(train_acc, test_acc):\n",
        "  error = [1-train_acc, 1-test_acc]\n",
        "  labels = ['train error', 'test error']\n",
        "  y_pos = np.arange(len(error))\n",
        "\n",
        "  plt.bar(y_pos, error)\n",
        "  plt.xticks(y_pos, labels)\n",
        "  plt.ylabel('Error')\n",
        "  plt.ylim([0,1])\n",
        "  plt.show()"
      ],
      "execution_count": null,
      "outputs": []
    },
    {
      "cell_type": "markdown",
      "metadata": {
        "id": "wWDcQdsqcC7Z"
      },
      "source": [
        "However, so far we have only calculated the accuracy on the test set. This is normally what we are interested in. We want to know how well the model performs on unseen data. However, if we are investigating the bias and variance of our model, or if our model is underfitting or overfitting, we may want to also know the training error too. \n",
        "\n",
        "**Task: calculate the training error.**"
      ]
    },
    {
      "cell_type": "code",
      "metadata": {
        "id": "GXATFb4DZHHg",
        "colab": {
          "base_uri": "https://localhost:8080/"
        },
        "outputId": "9356f19a-b39a-4788-97fd-ed5e0f35eca6"
      },
      "source": [
        "predictions = clf.predict(train_X)\n",
        "train_acc_perceptron = accuracy_score(train_y, predictions)\n",
        "print('The accuracy of the perceptron classifier on the training set is %.2f' % train_acc_perceptron)"
      ],
      "execution_count": null,
      "outputs": [
        {
          "output_type": "stream",
          "name": "stdout",
          "text": [
            "The accuracy of the perceptron classifier on the training set is 0.71\n"
          ]
        }
      ]
    },
    {
      "cell_type": "markdown",
      "metadata": {
        "id": "X-q2jJn-cYCR"
      },
      "source": [
        "Now that we have our training accuracy and testing accuracy, we can call our function to create the bar chart."
      ]
    },
    {
      "cell_type": "code",
      "metadata": {
        "id": "V5omC5ZxcW6q",
        "colab": {
          "base_uri": "https://localhost:8080/",
          "height": 269
        },
        "outputId": "49fff7b6-751c-499d-9532-c9e2f43da981"
      },
      "source": [
        "plot_train_test(train_acc_perceptron, test_acc_perceptron)"
      ],
      "execution_count": null,
      "outputs": [
        {
          "output_type": "display_data",
          "data": {
            "image/png": "[encoded data removed]",
            "text/plain": [
              "<Figure size 432x288 with 1 Axes>"
            ]
          },
          "metadata": {
            "needs_background": "light"
          }
        }
      ]
    },
    {
      "cell_type": "markdown",
      "metadata": {
        "id": "mMSyoTpviAMM"
      },
      "source": [
        "### Implementing the Decision Tree classifier\n",
        "In the lectures we also covered Decision Trees. Thankfully, scikit-learn also has a decision tree model built in, so lets use that. Have a look at the documentation here, and similarly to other models, import the decision tree classifier: https://scikit-learn.org/stable/modules/generated/sklearn.tree.DecisionTreeClassifier.html\n",
        "\n",
        "**Task: import the Decision Tree Classifier from scikit-learn**"
      ]
    },
    {
      "cell_type": "code",
      "metadata": {
        "id": "2GPRAtmTPYBe"
      },
      "source": [
        "from sklearn.tree import DecisionTreeClassifier"
      ],
      "execution_count": null,
      "outputs": []
    },
    {
      "cell_type": "code",
      "metadata": {
        "id": "BKzH_I5Y_bdn"
      },
      "source": [],
      "execution_count": null,
      "outputs": []
    },
    {
      "cell_type": "markdown",
      "metadata": {
        "id": "yRazGEsJivzO"
      },
      "source": [
        "We follow the same pattern with this classifier as we did with the last, we first instantiate the model (clf = DecisionTree()), then we use the 'fit' function of the model on the training data to train the model, followed by calling 'predict' with datapoints in order to produce predictions of the class for each of those data points. Once we have these, we can calculate the accuracy.\n",
        "\n",
        "**Task: calculate the train and test accuracy of the decision tree classifier**\n",
        "\n",
        "To do this you must:\n",
        "\n",
        "\n",
        "*   create the decision tree classifier (name it dec_tree_clf), with random_state 0, and using entropy as the criterion.\n",
        "*   train the classifier on the training data, and produce predictions on the same data, before calculating the accuracy on the training set.\n",
        "*  using the same classiifer, produce predictions for the test set, and calculate the test set accuracy.\n",
        "*   call the plot_train_test function from earlier to visualise the performances.\n",
        "\n",
        "\n",
        "\n"
      ]
    },
    {
      "cell_type": "code",
      "metadata": {
        "id": "ickShUGDiwJl",
        "colab": {
          "base_uri": "https://localhost:8080/",
          "height": 269
        },
        "outputId": "979fd49f-5484-4043-c302-715bc203c74d"
      },
      "source": [
        "dec_tree_clf = DecisionTreeClassifier(criterion = 'entropy')\n",
        "dec_tree_clf.fit(train_X, train_y)\n",
        "predictions = dec_tree_clf.predict(train_X)\n",
        "train_acc_dec_tree = accuracy_score(train_y, predictions)\n",
        "predictions = dec_tree_clf.predict(test_X)\n",
        "test_acc_dec_tree = accuracy_score(test_y, predictions)\n",
        "plot_train_test(train_acc_dec_tree, test_acc_dec_tree)"
      ],
      "execution_count": null,
      "outputs": [
        {
          "output_type": "display_data",
          "data": {
            "image/png": "[encoded data removed]",
            "text/plain": [
              "<Figure size 432x288 with 1 Axes>"
            ]
          },
          "metadata": {
            "needs_background": "light"
          }
        }
      ]
    },
    {
      "cell_type": "markdown",
      "metadata": {
        "id": "F96l5AaQFMx_"
      },
      "source": [
        "### Regularising a decision tree classifier\n",
        "OK, now try and apply some regularisation to the dataset in order to improve the accuracy of the model. \n",
        "Have a look at the parameters for the model here (https://scikit-learn.org/stable/modules/generated/sklearn.tree.DecisionTreeClassifier.html)\n",
        "and identify which parameters may regularise the model, and try them.\n",
        "\n",
        "**Task: Investigate and experiment with regularisation parameters, and store the accuracy of the resulting model in a new variable `test_acc_dec_tree_reg'.**\n"
      ]
    },
    {
      "cell_type": "markdown",
      "metadata": {
        "id": "V7Y_N_nHfFu4"
      },
      "source": [
        "A useful property of decision trees are that (for small ones at least), it is possible to visualise them. The code below should produce a tree representing the learned decision tree."
      ]
    },
    {
      "cell_type": "code",
      "metadata": {
        "id": "h0GrcGZGqkpy"
      },
      "source": [
        "from matplotlib.pyplot import figure\n",
        "figure(figsize=(8, 6), dpi=200)\n",
        "from sklearn import tree\n",
        "tree.plot_tree(dec_tree_clf, feature_names=['Pclass', 'Age', 'Sex_female', 'Sex_male', 'SibSp', 'Parch', 'Fare'], filled=True, class_names=y.astype(str))\n",
        "plt.show()"
      ],
      "execution_count": null,
      "outputs": []
    },
    {
      "cell_type": "markdown",
      "metadata": {
        "id": "F8LC5kGhqMkd"
      },
      "source": [
        "### Regularising a Perceptron\n",
        " Have a look at the documentation for the perceptron (https://scikit-learn.org/stable/modules/generated/sklearn.linear_model.Perceptron.html)\n",
        "\n",
        " **Task: Investigate and experiment with regularisation parameters, and store the accuracy of the resulting model in a new variable `test_acc_perceptron_reg'.**"
      ]
    },
    {
      "cell_type": "code",
      "metadata": {
        "id": "QRBIerTWXmHl"
      },
      "source": [
        "clf = Perceptron(random_state=0, max_iter=100, tol=0.001, penalty='l1', alpha=0.01)\n",
        "clf.fit(train_X, train_y,)\n",
        "predictions = clf.predict(test_X)\n",
        "\n",
        "test_acc_perceptron_reg = accuracy_score(test_y, predictions)\n",
        "print(test_acc_perceptron_reg)"
      ],
      "execution_count": null,
      "outputs": []
    },
    {
      "cell_type": "markdown",
      "metadata": {
        "id": "7RjaEyF5vplh"
      },
      "source": [
        "### Visualising the performance of all models\n",
        "Finally, let's make a bar chart that plots the accuracy of our four models on the test set. Those models are\n",
        "the original perceptron, the regularised perceptron, the original decision tree and the regularised decision tree.\n",
        "\n",
        "To do this, you can modify the bar plotting function from earlier, which is included below. \n",
        "\n",
        "**Task: use this function to plot the accuracies of the four models. Use the code below to figure out which variables you need to pass to the function.**"
      ]
    },
    {
      "cell_type": "code",
      "metadata": {
        "id": "xHEsaJ4KwAWf"
      },
      "source": [
        "def plot_accuracies(test_accuracies, labels):\n",
        "\n",
        "  y_pos = np.arange(len(test_accuracies))\n",
        "\n",
        "  plt.bar(y_pos, test_accuracies)\n",
        "  plt.xticks(y_pos, labels)\n",
        "  plt.ylabel('Accuracy')\n",
        "  plt.ylim([0,1])\n",
        "  plt.show()"
      ],
      "execution_count": null,
      "outputs": []
    },
    {
      "cell_type": "code",
      "metadata": {
        "id": "yLyP0SJoCq1i"
      },
      "source": [
        "plot_accuracies([test_acc_perceptron, test_acc_perceptron_reg, test_acc_dec_tree, test_acc_dec_tree_reg], ['Percept', 'Percept Reg', 'Dec Tree', 'Dec Tree Reg'])"
      ],
      "execution_count": null,
      "outputs": []
    }
  ]
}