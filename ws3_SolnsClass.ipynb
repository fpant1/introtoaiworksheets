{
  "nbformat": 4,
  "nbformat_minor": 0,
  "metadata": {
    "colab": {
      "provenance": [],
      "toc_visible": true,
      "include_colab_link": true
    },
    "kernelspec": {
      "name": "python3",
      "display_name": "Python 3"
    },
    "accelerator": "GPU"
  },
  "cells": [
    {
      "cell_type": "markdown",
      "metadata": {
        "id": "view-in-github",
        "colab_type": "text"
      },
      "source": [
        "<a href=\"https://colab.research.google.com/github/fpant1/introtoaiworksheets/blob/main/ws3_SolnsClass.ipynb\" target=\"_parent\"><img src=\"https://colab.research.google.com/assets/colab-badge.svg\" alt=\"Open In Colab\"/></a>"
      ]
    },
    {
      "cell_type": "markdown",
      "metadata": {
        "id": "KWiZbe1c607m"
      },
      "source": [
        " In this notebook you will need to fill in some missing code to answer the questions below.\n",
        "You will need to scroll down towards the bottom of this notebook to see the instructions.\n",
        "\n",
        "Remember, with later versions of keras you must access it via 'tensorflow.keras' and not only 'keras', e.g., `from tensorflow.keras.layers import Dense`"
      ]
    },
    {
      "cell_type": "code",
      "metadata": {
        "id": "2iVOQUNdQZAt"
      },
      "source": [
        "from numpy.random import seed\n",
        "seed(0)\n",
        "from tensorflow.random import set_seed\n",
        "set_seed(0)\n",
        "import tensorflow as tf\n",
        "import os\n",
        "os.environ['TF_DETERMINISTIC_OPS'] = '1'\n",
        "import matplotlib.pyplot as plt"
      ],
      "execution_count": null,
      "outputs": []
    },
    {
      "cell_type": "code",
      "metadata": {
        "id": "y3YlUUkIm48Q"
      },
      "source": [
        "import tensorflow.keras as keras\n",
        "def load_data():\n",
        "  (x_train, y_train), (x_test, y_test) = keras.datasets.cifar10.load_data()\n",
        "\n",
        "  return (x_train, y_train), (x_test, y_test)"
      ],
      "execution_count": null,
      "outputs": []
    },
    {
      "cell_type": "code",
      "metadata": {
        "id": "H-yw-1-tQg9T"
      },
      "source": [
        "def display_image(data, index):\n",
        "  im = data[index]\n",
        "  # call method to show image here.\n",
        "  import matplotlib.pyplot as plt\n",
        "  plt.imshow(im)\n",
        "  plt.show()"
      ],
      "execution_count": null,
      "outputs": []
    },
    {
      "cell_type": "code",
      "metadata": {
        "id": "-p55278iQpZ5"
      },
      "source": [
        "def onehotencode(y_train, y_test):\n",
        "  from tensorflow.keras.utils import to_categorical\n",
        "\n",
        "  y_train_categorical = to_categorical(y_train)\n",
        "  y_test_categorical = to_categorical(y_test) \n",
        "  return y_train_categorical, y_test_categorical"
      ],
      "execution_count": null,
      "outputs": []
    },
    {
      "cell_type": "code",
      "metadata": {
        "id": "KYWawMfEQ5aJ"
      },
      "source": [
        "\n",
        "# The convolutional layer should have 32 filters, padding should be the 'same' and the kernel size should be 5x5.\n",
        "# The max pooling layer should have a pool size of 2x2 and stride size of 2x2. The dense layers should have 32 and num_classes neurons (units), respectively.\n",
        "# All activation functions should be relu, except for the final layer which should be softmax.\n",
        "# The optimizer should be SGD with a learning rate of 0.001.\n",
        "# Train the network for 10 epochs.\n",
        "# Train this network (model.fit()) and evaluate it on the test set (model.evaluate()).\n",
        "from tensorflow.keras.models import Sequential\n",
        "from tensorflow.keras.layers import Conv2D, MaxPooling2D, Dense, Flatten\n",
        "from tensorflow.keras.optimizers import SGD, Adam\n",
        "\n",
        "def build_fit_eval_model(x_train, x_test, y_train_categorical, y_test_categorical):\n",
        "  height = x_train.shape[1]\n",
        "  width = x_train.shape[2]\n",
        "  channels = x_train.shape[3]\n",
        "  num_classes = 10\n",
        "\n",
        "\n",
        "  # build model here.\n",
        "  model = Sequential()\n",
        "  model.add(Conv2D(filters=32, kernel_size=(5,5), padding='same', activation='relu', input_shape = (height, width, channels)))\n",
        "  model.add(MaxPooling2D(pool_size=(2,2), strides=(2,2)))\n",
        "  \n",
        "  model.add(Conv2D(filters=64, kernel_size=(5,5), padding='same', activation='relu'))\n",
        "  model.add(MaxPooling2D(pool_size=(2,2), strides=(2,2)))\n",
        "\n",
        "  model.add(Flatten())\n",
        "  model.add(Dense(64, activation='relu'))\n",
        "  model.add(Dense(32, activation='relu'))\n",
        "  model.add(Dense(num_classes, activation='softmax'))\n",
        "\n",
        "  # compile model here\n",
        "  model.compile(loss='categorical_crossentropy', optimizer=Adam(0.001), metrics=['accuracy'])\n",
        "\n",
        "  # fit model here\n",
        "  model.fit(x_train, y_train_categorical, epochs=10)\n",
        "\n",
        "  # evaluate model on test set here\n",
        "  results = model.evaluate(x_test, y_test_categorical)\n",
        "  print(results)\n",
        "  return model"
      ],
      "execution_count": null,
      "outputs": []
    },
    {
      "cell_type": "code",
      "metadata": {
        "id": "BGWbgJwmr767"
      },
      "source": [
        "def make_predictions(model, data, indices):\n",
        "  display_image(x_test, indices[0])\n",
        "  display_image(x_test, indices[1])\n",
        "\n",
        "  predictions = model.predict(data[indices])\n",
        "  import numpy as np\n",
        "  pred = np.argmax(predictions, axis=1)\n",
        "  print(predictions)\n",
        "  print(pred)"
      ],
      "execution_count": null,
      "outputs": []
    },
    {
      "cell_type": "markdown",
      "metadata": {
        "id": "jhukcqeR6UFg"
      },
      "source": [
        "# STEP ZERO\n",
        "You may want to consult the [notebook provided for this week](https://colab.research.google.com/drive/176yS-mw-fO0JI1CAN97wgmyRx0N9xriI?usp=sharing). It has everything you need to complete the steps below."
      ]
    },
    {
      "cell_type": "markdown",
      "metadata": {
        "id": "DaQPziM0tQOh"
      },
      "source": [
        "# STEP ONE\n",
        "\n",
        "You need to fill in the code for the load_data function above. Scroll up to the load_data function and import and load the CIFAR10 dataset from Keras (https://keras.io/api/datasets/cifar10/). CIFAR10 is a dataset of 70,000 labeled images, each belonging to one of ten classes."
      ]
    },
    {
      "cell_type": "code",
      "metadata": {
        "id": "Ra8zqLSenIVO",
        "colab": {
          "base_uri": "https://localhost:8080/"
        },
        "outputId": "1ab3c5e8-e45d-48cb-a3bd-2462c42fd7d5"
      },
      "source": [
        "(x_train, y_train), (x_test, y_test) = load_data()"
      ],
      "execution_count": null,
      "outputs": [
        {
          "output_type": "stream",
          "name": "stdout",
          "text": [
            "Downloading data from https://www.cs.toronto.edu/~kriz/cifar-10-python.tar.gz\n",
            "170498071/170498071 [==============================] - 4s 0us/step\n"
          ]
        }
      ]
    },
    {
      "cell_type": "markdown",
      "metadata": {
        "id": "dmcKru05suze"
      },
      "source": [
        "# STEP TWO\n",
        "You need to fill in the code for the display_image function above. In this function you should write two lines of code. The first will select the datapoint at the supplied index of the supplied dataset. The second line should plot it."
      ]
    },
    {
      "cell_type": "code",
      "metadata": {
        "id": "3ClrGPoxrmIF",
        "colab": {
          "base_uri": "https://localhost:8080/",
          "height": 266
        },
        "outputId": "a7f74be7-46e8-4b1c-c9d0-e3ac13f13afb"
      },
      "source": [
        "display_image(x_train, 500) "
      ],
      "execution_count": null,
      "outputs": [
        {
          "output_type": "display_data",
          "data": {
            "text/plain": [
              "<Figure size 432x288 with 1 Axes>"
            ],
            "image/png": "[encoded data removed]"
          },
          "metadata": {
            "needs_background": "light"
          }
        }
      ]
    },
    {
      "cell_type": "markdown",
      "metadata": {
        "id": "M1PIGwzJs1Q3"
      },
      "source": [
        "# STEP THREE\n",
        "You need to fill in the code for the onehotenencode function above. The function should one hot encode the training and test labels, and return them."
      ]
    },
    {
      "cell_type": "code",
      "metadata": {
        "id": "LAnqZjTkrmQk",
        "colab": {
          "base_uri": "https://localhost:8080/"
        },
        "outputId": "037ee9e5-1571-44bc-fed2-a4c5b216bb17"
      },
      "source": [
        "print(y_train[0])\n",
        "y_train_categorical, y_test_categorical = onehotencode(y_train, y_test)\n",
        "print(y_train_categorical[0])"
      ],
      "execution_count": null,
      "outputs": [
        {
          "output_type": "stream",
          "name": "stdout",
          "text": [
            "[6]\n",
            "[0. 0. 0. 0. 0. 0. 1. 0. 0. 0.]\n"
          ]
        }
      ]
    },
    {
      "cell_type": "markdown",
      "metadata": {
        "id": "3KJIMnqGtH3i"
      },
      "source": [
        "# STEP FIVE\n",
        "Now the data is loaded and prepared, the next task is to design a CNN with a single convolutional layer, a single max pooling layer, and two dense layers. \n",
        "\n",
        "* The convolutional layer should have 32 filters, padding should be the 'same' and the kernel size should be 5x5. \n",
        "* The max pooling layer should have a pool size of 2x2 and stride size of 2x2. \n",
        "The dense layers should have 32 and num_classes neurons (units), respectively. \n",
        " * All activation functions should be relu, except for the final layer which should be softmax. \n",
        "* The optimizer should be SGD with a learning rate of 0.001.\n",
        "* Train the network for 10 epochs.\n",
        "\n",
        "\n",
        "Train this network (model.fit()) and evaluate it on the test set (model.evaluate()).\n",
        "\n",
        "Note, each time you train the CNN, you should do so by going to Runtime -> Restart and Run All.\n",
        "\n",
        "What is the accuracy of this CNN on the test dataset?"
      ]
    },
    {
      "cell_type": "code",
      "metadata": {
        "id": "XfolUO3jrmfL",
        "colab": {
          "base_uri": "https://localhost:8080/"
        },
        "outputId": "23b82a12-ed4f-4b9f-9184-8f341799c7d0"
      },
      "source": [
        "model = build_fit_eval_model(x_train, x_test, y_train_categorical, y_test_categorical)"
      ],
      "execution_count": null,
      "outputs": [
        {
          "output_type": "stream",
          "name": "stdout",
          "text": [
            "Epoch 1/10\n",
            "1563/1563 [==============================] - 15s 5ms/step - loss: 1.9900 - accuracy: 0.3028\n",
            "Epoch 2/10\n",
            "1563/1563 [==============================] - 7s 4ms/step - loss: 1.4017 - accuracy: 0.4894\n",
            "Epoch 3/10\n",
            "1563/1563 [==============================] - 7s 4ms/step - loss: 1.2351 - accuracy: 0.5593\n",
            "Epoch 4/10\n",
            "1563/1563 [==============================] - 7s 4ms/step - loss: 1.1195 - accuracy: 0.6011\n",
            "Epoch 5/10\n",
            "1563/1563 [==============================] - 8s 5ms/step - loss: 1.0182 - accuracy: 0.6400\n",
            "Epoch 6/10\n",
            "1563/1563 [==============================] - 9s 5ms/step - loss: 0.9379 - accuracy: 0.6695\n",
            "Epoch 7/10\n",
            "1563/1563 [==============================] - 9s 6ms/step - loss: 0.8530 - accuracy: 0.7027\n",
            "Epoch 8/10\n",
            "1563/1563 [==============================] - 7s 4ms/step - loss: 0.7785 - accuracy: 0.7296\n",
            "Epoch 9/10\n",
            "1563/1563 [==============================] - 7s 4ms/step - loss: 0.7219 - accuracy: 0.7502\n",
            "Epoch 10/10\n",
            "1563/1563 [==============================] - 7s 4ms/step - loss: 0.6715 - accuracy: 0.7666\n",
            "313/313 [==============================] - 2s 6ms/step - loss: 1.1621 - accuracy: 0.6402\n",
            "[1.1621230840682983, 0.6402000188827515]\n"
          ]
        }
      ]
    },
    {
      "cell_type": "markdown",
      "metadata": {
        "id": "rDa1RV-TJCJ9"
      },
      "source": [
        "# STEP SIX\n",
        "Let's modify the CNN to improve performance.\n",
        "\n",
        "Add another convolutional block (Conv2D + Max Pooling) after the first, with the same hyperparameters as the first, but double the number of filters.\n",
        "\n",
        "Note, each time you train the CNN, you should do so by going to Runtime -> Restart and Run All.\n",
        "\n",
        "What is the accuracy of this CNN on the test dataset?\n"
      ]
    },
    {
      "cell_type": "markdown",
      "metadata": {
        "id": "lMVHvAgyJOMn"
      },
      "source": [
        "# STEP SEVEN\n",
        "\n",
        "Let's modify the CNN further to improve performance.\n",
        "\n",
        "Add another Dense layer, before the first Dense layer in the network. Give it 64 neurons with relu activation.\n",
        "\n",
        "Note, each time you train the CNN, you should do so by going to Runtime -> Restart and Run All.\n",
        "\n",
        "What is the accuracy of this CNN on the test dataset?\n"
      ]
    },
    {
      "cell_type": "markdown",
      "metadata": {
        "id": "gKkprAGHJV_D"
      },
      "source": [
        "# STEP EIGHT\n",
        "\n",
        "Let's try something else. There are many different ways of modifying the network further. For example, we could change the optimizer. SGD is one way of optimizing our neural network, however, more complex optimizers are available. While the theory of them are outside the scope of this unit (deep learning could be unit on its own), they are worth knowing about if you are doing deep learning. Perhaps the most widely used optimizer in deep neural networks is the Adam optimizer, which is an extension of SGD. Thankfully, to use them is easy. Update the optimizer in in the model compile function to use the Adam optimiser with a learning rate of 0.001.\n",
        "\n",
        "https://www.tensorflow.org/api_docs/python/tf/keras/optimizers/Adam\n",
        "\n",
        "\n",
        "\n",
        "Note, each time you train the CNN, you should do so by going to Runtime -> Restart and Run All.\n",
        "\n",
        "What is the accuracy of this CNN on the test dataset? Report the percentage."
      ]
    },
    {
      "cell_type": "markdown",
      "metadata": {
        "id": "hbNzvloQJgKU"
      },
      "source": [
        "# STEP NINE\n",
        "\n",
        "I have provided a function called 'make_predictions'. Use this function, supplying indexes 333 and 1375 of the test set. Ensure that two images are produced alongside their labels."
      ]
    },
    {
      "cell_type": "markdown",
      "metadata": {
        "id": "_pM4MVtuHIkI"
      },
      "source": [
        "The labels map to the class names as follows:\n",
        "* 0 is airplane\n",
        "* 1 is automobile\n",
        "* 2 is bird\n",
        "* 3 is cat \n",
        "* 4 is deer\n",
        "* 5 is dog\n",
        "* 6 is frog\n",
        "* 7 is horse\n",
        "* 8 is ship\n",
        "* 9 is truck"
      ]
    },
    {
      "cell_type": "code",
      "metadata": {
        "id": "sFI_JZoErkr8",
        "colab": {
          "base_uri": "https://localhost:8080/",
          "height": 659
        },
        "outputId": "6047e2f5-c81d-4987-cf64-e0bba3e875e8"
      },
      "source": [
        "data = x_test\n",
        "indices = [100, 200]\n",
        "make_predictions(model, data, indices)"
      ],
      "execution_count": null,
      "outputs": [
        {
          "output_type": "display_data",
          "data": {
            "text/plain": [
              "<Figure size 432x288 with 1 Axes>"
            ],
            "image/png": "[encoded data removed]"
          },
          "metadata": {
            "needs_background": "light"
          }
        },
        {
          "output_type": "display_data",
          "data": {
            "text/plain": [
              "<Figure size 432x288 with 1 Axes>"
            ],
            "image/png": "[encoded data removed]"
          },
          "metadata": {
            "needs_background": "light"
          }
        },
        {
          "output_type": "stream",
          "name": "stdout",
          "text": [
            "1/1 [==============================] - 0s 280ms/step\n",
            "[[2.73216167e-03 8.49478165e-05 1.61885954e-02 1.07343376e-01\n",
            "  1.04650825e-01 2.24641949e-01 1.94381573e-03 5.39153337e-01\n",
            "  2.74035172e-03 5.20604954e-04]\n",
            " [1.77074913e-02 2.81994417e-03 1.72229949e-02 3.20261538e-01\n",
            "  1.89876389e-02 5.74545443e-01 6.54337090e-03 3.56323272e-02\n",
            "  1.76147115e-03 4.51778341e-03]]\n",
            "[7 5]\n"
          ]
        }
      ]
    }
  ]
}